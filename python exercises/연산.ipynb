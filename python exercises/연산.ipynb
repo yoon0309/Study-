{
  "nbformat": 4,
  "nbformat_minor": 0,
  "metadata": {
    "colab": {
      "name": "연산.ipynb",
      "provenance": []
    },
    "kernelspec": {
      "name": "python3",
      "display_name": "Python 3"
    },
    "language_info": {
      "name": "python"
    }
  },
  "cells": [
    {
      "cell_type": "markdown",
      "source": [
        "##연산\n",
        "\n",
        "사칙연산(+, -, /, *)\n",
        "\n"
      ],
      "metadata": {
        "id": "Ezhvg_yF8F-y"
      }
    },
    {
      "cell_type": "code",
      "execution_count": 1,
      "metadata": {
        "colab": {
          "base_uri": "https://localhost:8080/"
        },
        "id": "0Min6pDT7g8X",
        "outputId": "86e4738c-7dcd-42ae-d176-ffd1191c1e9a"
      },
      "outputs": [
        {
          "output_type": "execute_result",
          "data": {
            "text/plain": [
              "13"
            ]
          },
          "metadata": {},
          "execution_count": 1
        }
      ],
      "source": [
        "a= 10\n",
        "b= 3\n",
        "\n",
        "#덧셈 : +\n",
        "a+b\n"
      ]
    },
    {
      "cell_type": "code",
      "source": [
        "# += 기호는 +한 뒤에 자기자신의 변수에 재 할당\n",
        "# s += 5, s= s + 5 \n",
        "s= 10\n",
        "s += 5\n",
        "print(s)"
      ],
      "metadata": {
        "colab": {
          "base_uri": "https://localhost:8080/"
        },
        "id": "IYKwD5SG8Xme",
        "outputId": "052506f7-6f63-4851-8344-9ceef58aafd6"
      },
      "execution_count": 6,
      "outputs": [
        {
          "output_type": "stream",
          "name": "stdout",
          "text": [
            "15\n"
          ]
        }
      ]
    },
    {
      "cell_type": "code",
      "source": [
        "#- 뺄셈\n",
        "\n",
        "a-b"
      ],
      "metadata": {
        "colab": {
          "base_uri": "https://localhost:8080/"
        },
        "id": "NT6ghdsM8oR8",
        "outputId": "72f21501-685c-4818-c2d7-5c9910e16364"
      },
      "execution_count": 7,
      "outputs": [
        {
          "output_type": "execute_result",
          "data": {
            "text/plain": [
              "7"
            ]
          },
          "metadata": {},
          "execution_count": 7
        }
      ]
    },
    {
      "cell_type": "code",
      "source": [
        "s= 10\n",
        "s -= 3\n",
        "print(s)"
      ],
      "metadata": {
        "colab": {
          "base_uri": "https://localhost:8080/"
        },
        "id": "oZ2i3yaF9Gxd",
        "outputId": "dd2dcd14-8e6b-4889-d893-d50f2b67f898"
      },
      "execution_count": 8,
      "outputs": [
        {
          "output_type": "stream",
          "name": "stdout",
          "text": [
            "7\n"
          ]
        }
      ]
    },
    {
      "cell_type": "code",
      "source": [
        "# / 나눗셈\n",
        "\n",
        "a/b"
      ],
      "metadata": {
        "colab": {
          "base_uri": "https://localhost:8080/"
        },
        "id": "M1gXJ7yR9J4s",
        "outputId": "04acdfaa-ce3b-4715-e25c-c8b3e8e3a2af"
      },
      "execution_count": 9,
      "outputs": [
        {
          "output_type": "execute_result",
          "data": {
            "text/plain": [
              "3.3333333333333335"
            ]
          },
          "metadata": {},
          "execution_count": 9
        }
      ]
    },
    {
      "cell_type": "code",
      "source": [
        "s=10\n",
        "s/=2\n",
        "print(s)"
      ],
      "metadata": {
        "colab": {
          "base_uri": "https://localhost:8080/"
        },
        "id": "6rIXB77L9Nq0",
        "outputId": "a6399ec9-1be1-4839-a61c-865c552668c7"
      },
      "execution_count": 10,
      "outputs": [
        {
          "output_type": "stream",
          "name": "stdout",
          "text": [
            "5.0\n"
          ]
        }
      ]
    },
    {
      "cell_type": "code",
      "source": [
        "# * 곱셈\n",
        "\n",
        "a *b"
      ],
      "metadata": {
        "colab": {
          "base_uri": "https://localhost:8080/"
        },
        "id": "Xl3sPAQ19RFQ",
        "outputId": "89c7dd21-4ddb-45dc-9b5a-e22c1c74f0cb"
      },
      "execution_count": 11,
      "outputs": [
        {
          "output_type": "execute_result",
          "data": {
            "text/plain": [
              "30"
            ]
          },
          "metadata": {},
          "execution_count": 11
        }
      ]
    },
    {
      "cell_type": "code",
      "source": [
        "s=20\n",
        "s *=3\n",
        "print(s)"
      ],
      "metadata": {
        "colab": {
          "base_uri": "https://localhost:8080/"
        },
        "id": "K-vpwU5a9YnJ",
        "outputId": "f3ea5718-df9c-4e7d-ed50-69b38495b5e5"
      },
      "execution_count": 12,
      "outputs": [
        {
          "output_type": "stream",
          "name": "stdout",
          "text": [
            "60\n"
          ]
        }
      ]
    },
    {
      "cell_type": "markdown",
      "source": [
        "// : floor division, 나눗셈에 대한 몫을 정수형으로 구함\n",
        "\n",
        "%: 몫을 나눈 나머지를 구함 \n",
        "\n",
        "**:제곱 연산\n",
        "\n"
      ],
      "metadata": {
        "id": "Nfw2RTNN9c3M"
      }
    },
    {
      "cell_type": "code",
      "source": [
        "#//:Floor Division\n",
        "# -나눗셈에 대한 몫을 정수형으로 구함 \n",
        "\n",
        "a=10\n",
        "b=3\n"
      ],
      "metadata": {
        "id": "ynVnmLKa9bK-"
      },
      "execution_count": 14,
      "outputs": []
    },
    {
      "cell_type": "code",
      "source": [
        "#일반 나눗셈\n",
        "a/b"
      ],
      "metadata": {
        "colab": {
          "base_uri": "https://localhost:8080/"
        },
        "id": "ce3a7mod9vuK",
        "outputId": "8c8113da-e959-4191-c4db-0d61ca328c88"
      },
      "execution_count": 15,
      "outputs": [
        {
          "output_type": "execute_result",
          "data": {
            "text/plain": [
              "3.3333333333333335"
            ]
          },
          "metadata": {},
          "execution_count": 15
        }
      ]
    },
    {
      "cell_type": "code",
      "source": [
        "#몫을 구하자\n",
        "\n",
        "a//b"
      ],
      "metadata": {
        "colab": {
          "base_uri": "https://localhost:8080/"
        },
        "id": "VqQc7Lz59y8H",
        "outputId": "7c3d0713-40f6-4c70-c729-53e0cb85b32f"
      },
      "execution_count": 16,
      "outputs": [
        {
          "output_type": "execute_result",
          "data": {
            "text/plain": [
              "3"
            ]
          },
          "metadata": {},
          "execution_count": 16
        }
      ]
    },
    {
      "cell_type": "code",
      "source": [
        "#몫을 나눈 나머지를 구하자 \n",
        "\n",
        "a%b"
      ],
      "metadata": {
        "colab": {
          "base_uri": "https://localhost:8080/"
        },
        "id": "6WrhLXhQ91-J",
        "outputId": "6fce8f16-d8dd-4081-91cd-36bd39accf6f"
      },
      "execution_count": 17,
      "outputs": [
        {
          "output_type": "execute_result",
          "data": {
            "text/plain": [
              "1"
            ]
          },
          "metadata": {},
          "execution_count": 17
        }
      ]
    },
    {
      "cell_type": "code",
      "source": [
        "#제곱 연산을 수행하자\n",
        "a **b "
      ],
      "metadata": {
        "colab": {
          "base_uri": "https://localhost:8080/"
        },
        "id": "ld_g3kHQ-AWP",
        "outputId": "27eac9e6-a86f-43a5-fe77-99965ba85067"
      },
      "execution_count": 19,
      "outputs": [
        {
          "output_type": "execute_result",
          "data": {
            "text/plain": [
              "1000"
            ]
          },
          "metadata": {},
          "execution_count": 19
        }
      ]
    },
    {
      "cell_type": "markdown",
      "source": [
        "괄호 ()의 활용\n",
        "수학을 연산할 때와 마찬가지로 *, / 을 먼저 계산, \n",
        "\n",
        "괄호를 활용하여 먼저 연산할 수 있는 부분을 지정할 수 있음 "
      ],
      "metadata": {
        "id": "i2Vki5Ma-Hqx"
      }
    },
    {
      "cell_type": "code",
      "source": [
        "10 +2 *5"
      ],
      "metadata": {
        "colab": {
          "base_uri": "https://localhost:8080/"
        },
        "id": "OJ-adXB4-DBf",
        "outputId": "c0b88fbe-68de-4d39-8ab0-f55d1daebc26"
      },
      "execution_count": 20,
      "outputs": [
        {
          "output_type": "execute_result",
          "data": {
            "text/plain": [
              "20"
            ]
          },
          "metadata": {},
          "execution_count": 20
        }
      ]
    },
    {
      "cell_type": "code",
      "source": [
        "(10+2)*5"
      ],
      "metadata": {
        "colab": {
          "base_uri": "https://localhost:8080/"
        },
        "id": "WD1mSnF_-WP3",
        "outputId": "51394974-c5a8-4df9-d0cf-5ecc36c5fdcb"
      },
      "execution_count": 21,
      "outputs": [
        {
          "output_type": "execute_result",
          "data": {
            "text/plain": [
              "60"
            ]
          },
          "metadata": {},
          "execution_count": 21
        }
      ]
    },
    {
      "cell_type": "code",
      "source": [
        "#연산시 A,B가 str인 경우 A와 B의 내용을 같이 써줌\n",
        "#연산시 A,B가 type이 다르면 Error가 발생함\n",
        "A = '123'\n",
        "B= '234'\n",
        "\n",
        "A+B"
      ],
      "metadata": {
        "colab": {
          "base_uri": "https://localhost:8080/",
          "height": 35
        },
        "id": "2zyXMees-Yzk",
        "outputId": "b6cfe130-2bb9-4285-b43d-bedc296bb279"
      },
      "execution_count": 25,
      "outputs": [
        {
          "output_type": "execute_result",
          "data": {
            "text/plain": [
              "'123234'"
            ],
            "application/vnd.google.colaboratory.intrinsic+json": {
              "type": "string"
            }
          },
          "metadata": {},
          "execution_count": 25
        }
      ]
    },
    {
      "cell_type": "code",
      "source": [
        "print(type(A))\n",
        "print(type(B))"
      ],
      "metadata": {
        "colab": {
          "base_uri": "https://localhost:8080/"
        },
        "id": "RVB5JjY0-tUh",
        "outputId": "f6a3c622-db63-4598-b9d0-4e56c1fec47c"
      },
      "execution_count": 27,
      "outputs": [
        {
          "output_type": "stream",
          "name": "stdout",
          "text": [
            "<class 'str'>\n",
            "<class 'str'>\n"
          ]
        }
      ]
    },
    {
      "cell_type": "code",
      "source": [
        "A = 'hi'\n",
        "B= 'happy'\n",
        "\n",
        "A+B"
      ],
      "metadata": {
        "colab": {
          "base_uri": "https://localhost:8080/",
          "height": 35
        },
        "id": "DzNRPL-T-mMG",
        "outputId": "d9e36a8f-af6c-437f-c7e2-3185f9187664"
      },
      "execution_count": 28,
      "outputs": [
        {
          "output_type": "execute_result",
          "data": {
            "text/plain": [
              "'hihappy'"
            ],
            "application/vnd.google.colaboratory.intrinsic+json": {
              "type": "string"
            }
          },
          "metadata": {},
          "execution_count": 28
        }
      ]
    },
    {
      "cell_type": "code",
      "source": [
        "print(type(A))\n",
        "print(type(B))"
      ],
      "metadata": {
        "colab": {
          "base_uri": "https://localhost:8080/"
        },
        "id": "pbxpe3zM-qk3",
        "outputId": "b6e951d0-0881-4c16-8f1c-7efeed3aa072"
      },
      "execution_count": 29,
      "outputs": [
        {
          "output_type": "stream",
          "name": "stdout",
          "text": [
            "<class 'str'>\n",
            "<class 'str'>\n"
          ]
        }
      ]
    }
  ]
}