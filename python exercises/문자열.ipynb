{
  "cells": [
    {
      "cell_type": "markdown",
      "metadata": {
        "id": "CcAe7u88qqWW"
      },
      "source": [
        "문자열\n",
        "\n",
        "리스트, 튜플과 마찬가지로 Sequence형 자료구조를 가짐\n",
        "문자열은 불변의 객체이다 \n",
        "\n",
        "문자열의 생성\n",
        "\", ' 모두 구분 없이 사용하여 문자열을 생성할 수 있음 "
      ]
    },
    {
      "cell_type": "code",
      "execution_count": 125,
      "metadata": {},
      "outputs": [
        {
          "data": {
            "text/plain": [
              "'안녕하세요? 반갑습니다'"
            ]
          },
          "execution_count": 125,
          "metadata": {},
          "output_type": "execute_result"
        }
      ],
      "source": [
        "#작은 따옴표(') 사용 \n",
        "\n",
        "'안녕하세요? 반갑습니다'"
      ]
    },
    {
      "cell_type": "code",
      "execution_count": 126,
      "metadata": {},
      "outputs": [
        {
          "data": {
            "text/plain": [
              "'안녕하세요? 반갑습니다'"
            ]
          },
          "execution_count": 126,
          "metadata": {},
          "output_type": "execute_result"
        }
      ],
      "source": [
        "#큰 따옴표(\") 사용 \n",
        "\n",
        "\"안녕하세요? 반갑습니다\""
      ]
    },
    {
      "cell_type": "markdown",
      "metadata": {},
      "source": [
        "작은 따옴표 3개 혹은 큰 따옴표 3개를 써서 여러 줄의 문자열을 생성할 수 있음 "
      ]
    },
    {
      "cell_type": "code",
      "execution_count": 127,
      "metadata": {},
      "outputs": [
        {
          "data": {
            "text/plain": [
              "'안녕하세요?\\n반갑 \\n습 \\n니\\n다. \\n'"
            ]
          },
          "execution_count": 127,
          "metadata": {},
          "output_type": "execute_result"
        }
      ],
      "source": [
        "sample = '''안녕하세요?\n",
        "반갑 \n",
        "습 \n",
        "니\n",
        "다. \n",
        "'''\n",
        "sample"
      ]
    },
    {
      "cell_type": "code",
      "execution_count": 128,
      "metadata": {},
      "outputs": [
        {
          "data": {
            "text/plain": [
              "'안녕하세요?\\n반갑 \\n습 \\n니\\n다. \\n'"
            ]
          },
          "execution_count": 128,
          "metadata": {},
          "output_type": "execute_result"
        }
      ],
      "source": [
        "sample = \"\"\"안녕하세요?\n",
        "반갑 \n",
        "습 \n",
        "니\n",
        "다. \n",
        "\"\"\"\n",
        "sample"
      ]
    },
    {
      "cell_type": "markdown",
      "metadata": {},
      "source": [
        "문자열 출력(포맷팅)\n",
        "\n",
        "print(): 출력   "
      ]
    },
    {
      "cell_type": "code",
      "execution_count": 129,
      "metadata": {},
      "outputs": [
        {
          "name": "stdout",
          "output_type": "stream",
          "text": [
            "옐로\n"
          ]
        }
      ],
      "source": [
        "print('옐로')"
      ]
    },
    {
      "cell_type": "code",
      "execution_count": 130,
      "metadata": {},
      "outputs": [
        {
          "name": "stdout",
          "output_type": "stream",
          "text": [
            "첫째 그리고 둘째\n"
          ]
        }
      ],
      "source": [
        "print('첫째', '그리고','둘째')"
      ]
    },
    {
      "cell_type": "markdown",
      "metadata": {},
      "source": [
        "end 옵션으로 출력될 마지막 글자를 변경할 수 있음 \n"
      ]
    },
    {
      "cell_type": "code",
      "execution_count": 131,
      "metadata": {},
      "outputs": [
        {
          "name": "stdout",
          "output_type": "stream",
          "text": [
            "여기까지!end출력!"
          ]
        }
      ],
      "source": [
        "print('여기까지!', end='end출력!')"
      ]
    },
    {
      "cell_type": "markdown",
      "metadata": {},
      "source": [
        "sep 옵션으로 출력될 문자열 사이에 출력될 글자를 변경할 수 있음 "
      ]
    },
    {
      "cell_type": "code",
      "execution_count": 132,
      "metadata": {},
      "outputs": [
        {
          "name": "stdout",
          "output_type": "stream",
          "text": [
            "문자1<구분>문자2<구분>문자3\n"
          ]
        }
      ],
      "source": [
        "print('문자1','문자2','문자3', sep='<구분>')\n"
      ]
    },
    {
      "cell_type": "markdown",
      "metadata": {},
      "source": [
        "%를 사용한 출력"
      ]
    },
    {
      "cell_type": "code",
      "execution_count": 133,
      "metadata": {},
      "outputs": [
        {
          "data": {
            "text/plain": [
              "'안녕하세요? 반갑습니다'"
            ]
          },
          "execution_count": 133,
          "metadata": {},
          "output_type": "execute_result"
        }
      ],
      "source": [
        "\"안녕하세요? %s\" % ('반갑습니다')"
      ]
    },
    {
      "cell_type": "code",
      "execution_count": 134,
      "metadata": {},
      "outputs": [
        {
          "data": {
            "text/plain": [
              "'안녕하세요? 0.123'"
            ]
          },
          "execution_count": 134,
          "metadata": {},
          "output_type": "execute_result"
        }
      ],
      "source": [
        "'안녕하세요? %.3f' % (0.123456)"
      ]
    },
    {
      "cell_type": "code",
      "execution_count": 135,
      "metadata": {},
      "outputs": [
        {
          "data": {
            "text/plain": [
              "'안녕하세요? 12345'"
            ]
          },
          "execution_count": 135,
          "metadata": {},
          "output_type": "execute_result"
        }
      ],
      "source": [
        "'안녕하세요? %d' % (12345)"
      ]
    },
    {
      "cell_type": "code",
      "execution_count": 136,
      "metadata": {},
      "outputs": [
        {
          "data": {
            "text/plain": [
              "'안녕하세요? a'"
            ]
          },
          "execution_count": 136,
          "metadata": {},
          "output_type": "execute_result"
        }
      ],
      "source": [
        "'안녕하세요? %c' % ('a')"
      ]
    },
    {
      "cell_type": "markdown",
      "metadata": {},
      "source": [
        "{}와 format를 사용한 출력"
      ]
    },
    {
      "cell_type": "code",
      "execution_count": 137,
      "metadata": {},
      "outputs": [
        {
          "data": {
            "text/plain": [
              "'웰컴투? 파이썬.'"
            ]
          },
          "execution_count": 137,
          "metadata": {},
          "output_type": "execute_result"
        }
      ],
      "source": [
        "'웰컴투? {}'.format('파이썬.')"
      ]
    },
    {
      "cell_type": "code",
      "execution_count": 138,
      "metadata": {},
      "outputs": [
        {
          "data": {
            "text/plain": [
              "'비밀번호 486'"
            ]
          },
          "execution_count": 138,
          "metadata": {},
          "output_type": "execute_result"
        }
      ],
      "source": [
        "'비밀번호 {}'.format(486)"
      ]
    },
    {
      "cell_type": "code",
      "execution_count": 139,
      "metadata": {},
      "outputs": [
        {
          "data": {
            "text/plain": [
              "'원주율?  3.14'"
            ]
          },
          "execution_count": 139,
          "metadata": {},
          "output_type": "execute_result"
        }
      ],
      "source": [
        "#소수점 2자리까지 제한하는 경우(그 이하자리는 반올림)\n",
        "\n",
        "'원주율? {: .2f}'.format(3.141592)\n"
      ]
    },
    {
      "cell_type": "markdown",
      "metadata": {},
      "source": [
        "f 문자열 포맷팅 \n"
      ]
    },
    {
      "cell_type": "code",
      "execution_count": 140,
      "metadata": {},
      "outputs": [
        {
          "name": "stdout",
          "output_type": "stream",
          "text": [
            "나의 이름은 펭수입니다. 나이는 10살 입니다\n"
          ]
        }
      ],
      "source": [
        "name = '펭수'\n",
        "age= 10\n",
        "print(f'나의 이름은 {name}입니다. 나이는 {age}살 입니다')"
      ]
    },
    {
      "cell_type": "code",
      "execution_count": 141,
      "metadata": {},
      "outputs": [
        {
          "name": "stdout",
          "output_type": "stream",
          "text": [
            "내년에 저는 11살 입니다\n"
          ]
        }
      ],
      "source": [
        "print(f'내년에 저는 {age+1}살 입니다')"
      ]
    },
    {
      "cell_type": "code",
      "execution_count": 142,
      "metadata": {},
      "outputs": [
        {
          "name": "stdout",
          "output_type": "stream",
          "text": [
            "반가워요. 저는 펭수입니다. 저의 나이는 10살 입니다.\n"
          ]
        }
      ],
      "source": [
        "d= {'name':'펭수', 'age':10}\n",
        "\n",
        "print(f\"반가워요. 저는 {d['name']}입니다. 저의 나이는 {d['age']}살 입니다.\")"
      ]
    },
    {
      "cell_type": "markdown",
      "metadata": {},
      "source": [
        "문자열 길이 "
      ]
    },
    {
      "cell_type": "code",
      "execution_count": 143,
      "metadata": {},
      "outputs": [
        {
          "data": {
            "text/plain": [
              "6"
            ]
          },
          "execution_count": 143,
          "metadata": {},
          "output_type": "execute_result"
        }
      ],
      "source": [
        "#영문\n",
        "len('banana')"
      ]
    },
    {
      "cell_type": "code",
      "execution_count": 144,
      "metadata": {},
      "outputs": [
        {
          "data": {
            "text/plain": [
              "10"
            ]
          },
          "execution_count": 144,
          "metadata": {},
          "output_type": "execute_result"
        }
      ],
      "source": [
        "len('banana pen')"
      ]
    },
    {
      "cell_type": "code",
      "execution_count": 145,
      "metadata": {},
      "outputs": [
        {
          "data": {
            "text/plain": [
              "2"
            ]
          },
          "execution_count": 145,
          "metadata": {},
          "output_type": "execute_result"
        }
      ],
      "source": [
        "len('한글')"
      ]
    },
    {
      "cell_type": "code",
      "execution_count": 146,
      "metadata": {},
      "outputs": [
        {
          "data": {
            "text/plain": [
              "6"
            ]
          },
          "execution_count": 146,
          "metadata": {},
          "output_type": "execute_result"
        }
      ],
      "source": [
        "#공백은 길이에 포함 \n",
        "len('한글 킹왕짱')"
      ]
    },
    {
      "cell_type": "markdown",
      "metadata": {},
      "source": [
        "인덱싱(indexing)\n",
        "문자열에서 한 개의 글자(char)를 조회하기 위해서는 []를 활용한 인덱싱으로 조회"
      ]
    },
    {
      "cell_type": "code",
      "execution_count": 147,
      "metadata": {},
      "outputs": [
        {
          "data": {
            "text/plain": [
              "'Python is my life'"
            ]
          },
          "execution_count": 147,
          "metadata": {},
          "output_type": "execute_result"
        }
      ],
      "source": [
        "a= 'Python is my life'\n",
        "a"
      ]
    },
    {
      "cell_type": "code",
      "execution_count": 148,
      "metadata": {},
      "outputs": [
        {
          "data": {
            "text/plain": [
              "'P'"
            ]
          },
          "execution_count": 148,
          "metadata": {},
          "output_type": "execute_result"
        }
      ],
      "source": [
        "a[0]"
      ]
    },
    {
      "cell_type": "code",
      "execution_count": 149,
      "metadata": {},
      "outputs": [
        {
          "data": {
            "text/plain": [
              "'f'"
            ]
          },
          "execution_count": 149,
          "metadata": {},
          "output_type": "execute_result"
        }
      ],
      "source": [
        "a[-2]"
      ]
    },
    {
      "cell_type": "markdown",
      "metadata": {},
      "source": [
        "슬라이싱 \n",
        "슬라이싱의 활용: [start:stop:step]을 명시하여 부분을 추출할 수 있음 "
      ]
    },
    {
      "cell_type": "code",
      "execution_count": 150,
      "metadata": {},
      "outputs": [
        {
          "data": {
            "text/plain": [
              "'Python is my life'"
            ]
          },
          "execution_count": 150,
          "metadata": {},
          "output_type": "execute_result"
        }
      ],
      "source": [
        "a[:]"
      ]
    },
    {
      "cell_type": "code",
      "execution_count": 151,
      "metadata": {},
      "outputs": [
        {
          "data": {
            "text/plain": [
              "'hon is my life'"
            ]
          },
          "execution_count": 151,
          "metadata": {},
          "output_type": "execute_result"
        }
      ],
      "source": [
        "a[3:]"
      ]
    },
    {
      "cell_type": "code",
      "execution_count": 152,
      "metadata": {},
      "outputs": [
        {
          "data": {
            "text/plain": [
              "'life'"
            ]
          },
          "execution_count": 152,
          "metadata": {},
          "output_type": "execute_result"
        }
      ],
      "source": [
        "a[-4:]"
      ]
    },
    {
      "cell_type": "markdown",
      "metadata": {},
      "source": [
        "[:end]는 처음부터 end전까지 추출함 "
      ]
    },
    {
      "cell_type": "code",
      "execution_count": 153,
      "metadata": {},
      "outputs": [
        {
          "data": {
            "text/plain": [
              "'Python'"
            ]
          },
          "execution_count": 153,
          "metadata": {},
          "output_type": "execute_result"
        }
      ],
      "source": [
        "a[:6]"
      ]
    },
    {
      "cell_type": "code",
      "execution_count": 154,
      "metadata": {},
      "outputs": [
        {
          "data": {
            "text/plain": [
              "'Python is my l'"
            ]
          },
          "execution_count": 154,
          "metadata": {},
          "output_type": "execute_result"
        }
      ],
      "source": [
        "a[:-3]"
      ]
    },
    {
      "cell_type": "markdown",
      "metadata": {},
      "source": [
        "[start:end]는 start부터 end 전까지 추출함"
      ]
    },
    {
      "cell_type": "code",
      "execution_count": 155,
      "metadata": {},
      "outputs": [
        {
          "data": {
            "text/plain": [
              "'hon'"
            ]
          },
          "execution_count": 155,
          "metadata": {},
          "output_type": "execute_result"
        }
      ],
      "source": [
        "a[3:6]"
      ]
    },
    {
      "cell_type": "code",
      "execution_count": 156,
      "metadata": {},
      "outputs": [
        {
          "data": {
            "text/plain": [
              "'Pto sm ie'"
            ]
          },
          "execution_count": 156,
          "metadata": {},
          "output_type": "execute_result"
        }
      ],
      "source": [
        "a[::2]"
      ]
    },
    {
      "cell_type": "code",
      "execution_count": 157,
      "metadata": {},
      "outputs": [
        {
          "data": {
            "text/plain": [
              "'efil ym si nohtyP'"
            ]
          },
          "execution_count": 157,
          "metadata": {},
          "output_type": "execute_result"
        }
      ],
      "source": [
        "a[::-1]"
      ]
    },
    {
      "cell_type": "markdown",
      "metadata": {},
      "source": [
        "불변 \n",
        "문자열은 index를 통해 값을 수정 및 변경이 불가능함 \n",
        "\n",
        "문자열의 덧셈과 곱셈 \n",
        "연결: 문자열의 덧셈 \n",
        "덧셈은 문자열을 연결함 "
      ]
    },
    {
      "cell_type": "code",
      "execution_count": 158,
      "metadata": {},
      "outputs": [
        {
          "data": {
            "text/plain": [
              "'반갑습니다파이썬 하이'"
            ]
          },
          "execution_count": 158,
          "metadata": {},
          "output_type": "execute_result"
        }
      ],
      "source": [
        "a= '반갑습니다'\n",
        "b= '파이썬 하이'\n",
        "\n",
        "a+b"
      ]
    },
    {
      "cell_type": "code",
      "execution_count": 159,
      "metadata": {},
      "outputs": [
        {
          "data": {
            "text/plain": [
              "'반갑습니다?????'"
            ]
          },
          "execution_count": 159,
          "metadata": {},
          "output_type": "execute_result"
        }
      ],
      "source": [
        "a + '?????'"
      ]
    },
    {
      "cell_type": "code",
      "execution_count": 160,
      "metadata": {},
      "outputs": [
        {
          "data": {
            "text/plain": [
              "'hello, world'"
            ]
          },
          "execution_count": 160,
          "metadata": {},
          "output_type": "execute_result"
        }
      ],
      "source": [
        "'hello'+', world'"
      ]
    },
    {
      "cell_type": "markdown",
      "metadata": {},
      "source": [
        "복제: 문자열의 곱셈 \n",
        "문자열을 곱한 숫자만큼 반복하여 생성함"
      ]
    },
    {
      "cell_type": "code",
      "execution_count": 161,
      "metadata": {},
      "outputs": [
        {
          "data": {
            "text/plain": [
              "'반갑습니다반갑습니다'"
            ]
          },
          "execution_count": 161,
          "metadata": {},
          "output_type": "execute_result"
        }
      ],
      "source": [
        "a*2"
      ]
    },
    {
      "cell_type": "code",
      "execution_count": 162,
      "metadata": {},
      "outputs": [
        {
          "name": "stdout",
          "output_type": "stream",
          "text": [
            "abcabcabcabcabc\n",
            "=====================\n"
          ]
        }
      ],
      "source": [
        "print('abc' *5)\n",
        "print('==='*7)"
      ]
    },
    {
      "cell_type": "markdown",
      "metadata": {},
      "source": [
        "문자열 list, set \n",
        "\n",
        "리스트(list)\n",
        "문자열을 리시트(list)로 타입 변환이 가능 \n",
        "타입 변환시 한 글자를 요소로 갖는 리스트가 생성됨 "
      ]
    },
    {
      "cell_type": "code",
      "execution_count": 163,
      "metadata": {},
      "outputs": [
        {
          "data": {
            "text/plain": [
              "['A', 'B', 'C', 'D', 'E']"
            ]
          },
          "execution_count": 163,
          "metadata": {},
          "output_type": "execute_result"
        }
      ],
      "source": [
        "list('ABCDE')"
      ]
    },
    {
      "cell_type": "markdown",
      "metadata": {},
      "source": [
        "세트(set)\n",
        "한 글자를 요소로 갖는 세트가 생성됨 \n",
        "세트의 특성상 요소를 생성한 후 중복된 글자는 제거됨 "
      ]
    },
    {
      "cell_type": "code",
      "execution_count": 164,
      "metadata": {},
      "outputs": [
        {
          "data": {
            "text/plain": [
              "{'A', 'B', 'C', 'D', 'E'}"
            ]
          },
          "execution_count": 164,
          "metadata": {},
          "output_type": "execute_result"
        }
      ],
      "source": [
        "set('AAAABBBBBCCCEEDD')"
      ]
    },
    {
      "cell_type": "markdown",
      "metadata": {},
      "source": [
        "중복된 제거된 리스트로 생성하기 위해서는 list로 다시 타입변환 "
      ]
    },
    {
      "cell_type": "code",
      "execution_count": 165,
      "metadata": {},
      "outputs": [
        {
          "data": {
            "text/plain": [
              "['A', 'W', 'D', 'S', 'B']"
            ]
          },
          "execution_count": 165,
          "metadata": {},
          "output_type": "execute_result"
        }
      ],
      "source": [
        "list(set('AAAABBBSBDBDBDBWW'))"
      ]
    },
    {
      "cell_type": "markdown",
      "metadata": {},
      "source": [
        "문자열(텍스트)을 다루는 다양한 기능, 메서드(method)\n",
        "\n",
        "문자열만 가지고 있는 고유의 편한 기능들이 있음 "
      ]
    },
    {
      "cell_type": "markdown",
      "metadata": {},
      "source": [
        "split():분리 \n",
        "split은 문장을 특정 규칙에 의해 쪼개 주는 기능 \n",
        "분리한 결과는 list형식으로 값을 return 받음 "
      ]
    },
    {
      "cell_type": "code",
      "execution_count": 166,
      "metadata": {},
      "outputs": [],
      "source": [
        "a= 'This is a pen'"
      ]
    },
    {
      "cell_type": "markdown",
      "metadata": {},
      "source": [
        "기본 값으로 공백이 지정되어 있습니다. \n",
        "공백을 기준으로 분리하여 리스트로 반환함 "
      ]
    },
    {
      "cell_type": "code",
      "execution_count": 167,
      "metadata": {},
      "outputs": [
        {
          "data": {
            "text/plain": [
              "['This', 'is', 'a', 'pen']"
            ]
          },
          "execution_count": 167,
          "metadata": {},
          "output_type": "execute_result"
        }
      ],
      "source": [
        "a.split()"
      ]
    },
    {
      "cell_type": "markdown",
      "metadata": {},
      "source": [
        "기본 값인 공백에서 특정문자로 지정할 수 있음 "
      ]
    },
    {
      "cell_type": "code",
      "execution_count": 168,
      "metadata": {},
      "outputs": [
        {
          "data": {
            "text/plain": [
              "['This', 'is', 'a', 'pen']"
            ]
          },
          "execution_count": 168,
          "metadata": {},
          "output_type": "execute_result"
        }
      ],
      "source": [
        "a= 'This-is-a-pen'\n",
        "a.split('-')"
      ]
    },
    {
      "cell_type": "code",
      "execution_count": 169,
      "metadata": {},
      "outputs": [
        {
          "data": {
            "text/plain": [
              "['This', 'is', 'a', 'pen']"
            ]
          },
          "execution_count": 169,
          "metadata": {},
          "output_type": "execute_result"
        }
      ],
      "source": [
        "aa = a.split('-')\n",
        "aa"
      ]
    },
    {
      "cell_type": "markdown",
      "metadata": {},
      "source": [
        "aa에 반환된 리스트를 대입 후 index로 값을 조회할 수 있습니다."
      ]
    },
    {
      "cell_type": "code",
      "execution_count": 170,
      "metadata": {},
      "outputs": [
        {
          "data": {
            "text/plain": [
              "'This'"
            ]
          },
          "execution_count": 170,
          "metadata": {},
          "output_type": "execute_result"
        }
      ],
      "source": [
        "aa[0]"
      ]
    },
    {
      "cell_type": "code",
      "execution_count": 171,
      "metadata": {},
      "outputs": [
        {
          "data": {
            "text/plain": [
              "'a'"
            ]
          },
          "execution_count": 171,
          "metadata": {},
          "output_type": "execute_result"
        }
      ],
      "source": [
        "aa[2]"
      ]
    },
    {
      "cell_type": "code",
      "execution_count": 172,
      "metadata": {},
      "outputs": [
        {
          "data": {
            "text/plain": [
              "'Thisa'"
            ]
          },
          "execution_count": 172,
          "metadata": {},
          "output_type": "execute_result"
        }
      ],
      "source": [
        "aa[0] + aa[2]"
      ]
    },
    {
      "cell_type": "markdown",
      "metadata": {},
      "source": [
        "한글도 동일하게 적용됨 "
      ]
    },
    {
      "cell_type": "code",
      "execution_count": 173,
      "metadata": {},
      "outputs": [
        {
          "data": {
            "text/plain": [
              "['한글한글한글은', '졸려']"
            ]
          },
          "execution_count": 173,
          "metadata": {},
          "output_type": "execute_result"
        }
      ],
      "source": [
        "a= '한글한글한글은 졸려'\n",
        "\n",
        "a.split()"
      ]
    },
    {
      "cell_type": "markdown",
      "metadata": {},
      "source": [
        "join(): 합치기 \n",
        "결합하고자 하는 문자에 .join()안에 리스트를 지정하여 결합할 수 있음 "
      ]
    },
    {
      "cell_type": "code",
      "execution_count": 175,
      "metadata": {},
      "outputs": [
        {
          "data": {
            "text/plain": [
              "'010-1234-5678'"
            ]
          },
          "execution_count": 175,
          "metadata": {},
          "output_type": "execute_result"
        }
      ],
      "source": [
        "'-'.join(['010',  '1234', '5678'])"
      ]
    },
    {
      "cell_type": "code",
      "execution_count": 176,
      "metadata": {},
      "outputs": [
        {
          "data": {
            "text/plain": [
              "'A-B-C-D-E'"
            ]
          },
          "execution_count": 176,
          "metadata": {},
          "output_type": "execute_result"
        }
      ],
      "source": [
        "'-'.join('ABCDE')"
      ]
    },
    {
      "cell_type": "markdown",
      "metadata": {},
      "source": [
        "lower(), upper(): 소문자/대문자로 만들기"
      ]
    },
    {
      "cell_type": "code",
      "execution_count": 177,
      "metadata": {},
      "outputs": [],
      "source": [
        "a= 'Many Many Many '"
      ]
    },
    {
      "cell_type": "code",
      "execution_count": 178,
      "metadata": {},
      "outputs": [
        {
          "data": {
            "text/plain": [
              "'many many many '"
            ]
          },
          "execution_count": 178,
          "metadata": {},
          "output_type": "execute_result"
        }
      ],
      "source": [
        "#소문자로 변경 \n",
        "\n",
        "a.lower()"
      ]
    },
    {
      "cell_type": "code",
      "execution_count": 179,
      "metadata": {},
      "outputs": [
        {
          "data": {
            "text/plain": [
              "'MANY MANY MANY '"
            ]
          },
          "execution_count": 179,
          "metadata": {},
          "output_type": "execute_result"
        }
      ],
      "source": [
        "#대문자로 변경\n",
        "\n",
        "a.upper()"
      ]
    },
    {
      "cell_type": "markdown",
      "metadata": {},
      "source": [
        "startswith, endswith\n",
        "시작과 끝이 맞는지 결과를 bool로 반환함 "
      ]
    },
    {
      "cell_type": "code",
      "execution_count": 180,
      "metadata": {},
      "outputs": [],
      "source": [
        "a = '01-sample.png'"
      ]
    },
    {
      "cell_type": "markdown",
      "metadata": {},
      "source": [
        "startswith(): 시작하는 \n",
        "\n",
        "지정한 문자열로 시작하면 True, 그렇지 않으면 False를 반환함 "
      ]
    },
    {
      "cell_type": "code",
      "execution_count": 181,
      "metadata": {},
      "outputs": [
        {
          "data": {
            "text/plain": [
              "True"
            ]
          },
          "execution_count": 181,
          "metadata": {},
          "output_type": "execute_result"
        }
      ],
      "source": [
        "a.startswith('01')\n"
      ]
    },
    {
      "cell_type": "code",
      "execution_count": 182,
      "metadata": {},
      "outputs": [
        {
          "data": {
            "text/plain": [
              "False"
            ]
          },
          "execution_count": 182,
          "metadata": {},
          "output_type": "execute_result"
        }
      ],
      "source": [
        "a.startswith('02')"
      ]
    },
    {
      "cell_type": "markdown",
      "metadata": {},
      "source": [
        "endswith():끝나는 \n",
        "지정한 문자열로 끝나면 True, 그렇지 않으면 False를 반환 \n"
      ]
    },
    {
      "cell_type": "code",
      "execution_count": 183,
      "metadata": {},
      "outputs": [
        {
          "data": {
            "text/plain": [
              "True"
            ]
          },
          "execution_count": 183,
          "metadata": {},
          "output_type": "execute_result"
        }
      ],
      "source": [
        "a.endswith('.png')"
      ]
    },
    {
      "cell_type": "code",
      "execution_count": 184,
      "metadata": {},
      "outputs": [
        {
          "data": {
            "text/plain": [
              "False"
            ]
          },
          "execution_count": 184,
          "metadata": {},
          "output_type": "execute_result"
        }
      ],
      "source": [
        "a.endswith('.jpg')"
      ]
    },
    {
      "cell_type": "markdown",
      "metadata": {},
      "source": [
        "replace():문자열 바꾸기 \n",
        "문자열에 replace(바꿀대상, 바꾸려는 문자열)을 지정하여 문자열을 지정 \n"
      ]
    },
    {
      "cell_type": "code",
      "execution_count": 185,
      "metadata": {},
      "outputs": [],
      "source": [
        "a = '01-sample.png'"
      ]
    },
    {
      "cell_type": "code",
      "execution_count": 186,
      "metadata": {},
      "outputs": [
        {
          "data": {
            "text/plain": [
              "'01-sample.jpg'"
            ]
          },
          "execution_count": 186,
          "metadata": {},
          "output_type": "execute_result"
        }
      ],
      "source": [
        "a.replace('.png', '.jpg')"
      ]
    },
    {
      "cell_type": "markdown",
      "metadata": {},
      "source": [
        "반환값은 복사본, 원본에 변경사항이 바로 적용되지 않음 "
      ]
    },
    {
      "cell_type": "code",
      "execution_count": 187,
      "metadata": {},
      "outputs": [
        {
          "data": {
            "text/plain": [
              "'01-sample.png'"
            ]
          },
          "execution_count": 187,
          "metadata": {},
          "output_type": "execute_result"
        }
      ],
      "source": [
        "a"
      ]
    },
    {
      "cell_type": "code",
      "execution_count": 188,
      "metadata": {},
      "outputs": [],
      "source": [
        "new_a = a.replace('.png', '.jpg')"
      ]
    },
    {
      "cell_type": "code",
      "execution_count": 189,
      "metadata": {},
      "outputs": [
        {
          "name": "stdout",
          "output_type": "stream",
          "text": [
            "01-sample.jpg\n"
          ]
        }
      ],
      "source": [
        "print(new_a)"
      ]
    },
    {
      "cell_type": "markdown",
      "metadata": {},
      "source": [
        "불필요한 공백 제거 "
      ]
    },
    {
      "cell_type": "code",
      "execution_count": 190,
      "metadata": {},
      "outputs": [
        {
          "name": "stdout",
          "output_type": "stream",
          "text": [
            "    01-sample.png                \n"
          ]
        }
      ],
      "source": [
        "a = '    01-sample.png                '\n",
        "print(a)"
      ]
    },
    {
      "cell_type": "markdown",
      "metadata": {},
      "source": [
        "lstrip() : 왼쪽 공백 제거\n",
        "rstrip() : 오른쪽 공백 제거\n",
        "strip() : 양쪽 공백 제거"
      ]
    },
    {
      "cell_type": "code",
      "execution_count": 191,
      "metadata": {},
      "outputs": [
        {
          "data": {
            "text/plain": [
              "'01-sample.png                '"
            ]
          },
          "execution_count": 191,
          "metadata": {},
          "output_type": "execute_result"
        }
      ],
      "source": [
        "a.lstrip()"
      ]
    },
    {
      "cell_type": "code",
      "execution_count": 192,
      "metadata": {},
      "outputs": [
        {
          "data": {
            "text/plain": [
              "'    01-sample.png'"
            ]
          },
          "execution_count": 192,
          "metadata": {},
          "output_type": "execute_result"
        }
      ],
      "source": [
        "a.rstrip()"
      ]
    },
    {
      "cell_type": "code",
      "execution_count": 193,
      "metadata": {},
      "outputs": [
        {
          "data": {
            "text/plain": [
              "'01-sample.png'"
            ]
          },
          "execution_count": 193,
          "metadata": {},
          "output_type": "execute_result"
        }
      ],
      "source": [
        "a.strip()"
      ]
    }
  ],
  "metadata": {
    "colab": {
      "name": "파이썬-리스트-튜플.ipynb",
      "provenance": []
    },
    "interpreter": {
      "hash": "d4dae4ea8e5f4de9e76d858a9174cd4657e40ccbbb94f8495095b398f7d4021b"
    },
    "kernelspec": {
      "display_name": "Python 3.10.4 64-bit (windows store)",
      "language": "python",
      "name": "python3"
    },
    "language_info": {
      "codemirror_mode": {
        "name": "ipython",
        "version": 3
      },
      "file_extension": ".py",
      "mimetype": "text/x-python",
      "name": "python",
      "nbconvert_exporter": "python",
      "pygments_lexer": "ipython3",
      "version": "3.10.4"
    }
  },
  "nbformat": 4,
  "nbformat_minor": 0
}
