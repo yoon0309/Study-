{
  "cells": [
    {
      "cell_type": "markdown",
      "metadata": {
        "id": "Ezhvg_yF8F-y"
      },
      "source": [
        "패키지와 모듈의 관계 \n",
        "\n",
        "함수들이 뭉쳐진 하나의 .py 파일 안에 이루어진 것을 모듈 \n",
        "여러개의 모듈을 그룹화하면 패키지 \n",
        "패키지는 종종 라이브러리라고 불리움\n",
        "\n",
        "즉, 하나의 .py파일은 모듈, 모듈을 포함하는 디렉토리는 패키지로 정의됨 \n"
      ]
    },
    {
      "cell_type": "markdown",
      "metadata": {},
      "source": [
        "모듈 import \n",
        "\n",
        "외장 라이브러리의 모듈을 불러오는 유용한 기능 \n",
        "다른 누군가가 이미 만들어 놓은 기능을 쉽게 가져와 사용할 수 있음\n",
        "파이썬 모듈을 가져와 사용하기 위해서는 import 구문을 사용 "
      ]
    },
    {
      "cell_type": "code",
      "execution_count": 1,
      "metadata": {},
      "outputs": [
        {
          "name": "stdout",
          "output_type": "stream",
          "text": [
            "Writing calculator.py\n"
          ]
        }
      ],
      "source": [
        "%%writefile calculator.py\n",
        "name = '계산기'\n",
        "\n",
        "def add(a,b): \n",
        "    return a+b\n",
        "\n",
        "\n",
        "def sub(a,b):\n",
        "    return a -b \n",
        "\n",
        "def multiply(a,b):\n",
        "    return a *b \n",
        "\n",
        "def divide(a,b): \n",
        "    return a/ b "
      ]
    },
    {
      "cell_type": "code",
      "execution_count": 2,
      "metadata": {},
      "outputs": [],
      "source": [
        "#정의한 모듈 import \n",
        "\n",
        "import calculator"
      ]
    },
    {
      "cell_type": "code",
      "execution_count": 3,
      "metadata": {},
      "outputs": [
        {
          "data": {
            "text/plain": [
              "'계산기'"
            ]
          },
          "execution_count": 3,
          "metadata": {},
          "output_type": "execute_result"
        }
      ],
      "source": [
        "# 모듈의 변수에 접근 \n",
        "\n",
        "calculator.name"
      ]
    },
    {
      "cell_type": "code",
      "execution_count": 5,
      "metadata": {},
      "outputs": [
        {
          "data": {
            "text/plain": [
              "30"
            ]
          },
          "execution_count": 5,
          "metadata": {},
          "output_type": "execute_result"
        }
      ],
      "source": [
        "#모듈의 함수 실행 \n",
        "\n",
        "calculator.add(10,20)"
      ]
    },
    {
      "cell_type": "markdown",
      "metadata": {},
      "source": [
        "#별칭(alias) 지정 \n",
        "as 구문으로 긴 이름의 모듈을 축약하여 별칭(alias)으로 지정할 수 있음 "
      ]
    },
    {
      "cell_type": "code",
      "execution_count": 6,
      "metadata": {},
      "outputs": [],
      "source": [
        "import calculator as calc "
      ]
    },
    {
      "cell_type": "code",
      "execution_count": 7,
      "metadata": {},
      "outputs": [
        {
          "data": {
            "text/plain": [
              "200"
            ]
          },
          "execution_count": 7,
          "metadata": {},
          "output_type": "execute_result"
        }
      ],
      "source": [
        "calc.multiply(10,20)"
      ]
    },
    {
      "cell_type": "markdown",
      "metadata": {},
      "source": [
        "#모듈의 다양한 import\n",
        "파이썬 모듈을 import 하는 방법은 여러가지 방식이 존재함 "
      ]
    },
    {
      "cell_type": "code",
      "execution_count": 8,
      "metadata": {},
      "outputs": [],
      "source": [
        "import random"
      ]
    },
    {
      "cell_type": "code",
      "execution_count": 10,
      "metadata": {},
      "outputs": [],
      "source": [
        "a= [1,2,3,4,5]\n",
        "\n",
        "random.shuffle(a)"
      ]
    },
    {
      "cell_type": "code",
      "execution_count": 11,
      "metadata": {},
      "outputs": [
        {
          "data": {
            "text/plain": [
              "[5, 3, 2, 4, 1]"
            ]
          },
          "execution_count": 11,
          "metadata": {},
          "output_type": "execute_result"
        }
      ],
      "source": [
        "a"
      ]
    },
    {
      "cell_type": "code",
      "execution_count": 12,
      "metadata": {},
      "outputs": [
        {
          "data": {
            "text/plain": [
              "[2, 3, 1, 5, 4]"
            ]
          },
          "execution_count": 12,
          "metadata": {},
          "output_type": "execute_result"
        }
      ],
      "source": [
        "#random 모듈을 rd 별칭(alias) 지정\n",
        "import random as rd \n",
        "\n",
        "b = [1, 2,3,4,5]\n",
        "rd.shuffle(b)\n",
        "b"
      ]
    },
    {
      "cell_type": "code",
      "execution_count": 13,
      "metadata": {},
      "outputs": [
        {
          "data": {
            "text/plain": [
              "[3, 1, 5, 2, 4]"
            ]
          },
          "execution_count": 13,
          "metadata": {},
          "output_type": "execute_result"
        }
      ],
      "source": [
        "#random 모듈의 shuffle()함수 import\n",
        "\n",
        "from random import shuffle\n",
        "\n",
        "c= [1,2,3,4,5]\n",
        "shuffle(c)\n",
        "c"
      ]
    },
    {
      "cell_type": "code",
      "execution_count": 14,
      "metadata": {},
      "outputs": [
        {
          "data": {
            "text/plain": [
              "[1, 2, 5, 3, 4]"
            ]
          },
          "execution_count": 14,
          "metadata": {},
          "output_type": "execute_result"
        }
      ],
      "source": [
        "#random 모듈의 shuffle() 함수를 sf 별칭(alias)지정 \n",
        "\n",
        "from random import shuffle as sf \n",
        "\n",
        "d= [1,2,3,4,5]\n",
        "sf(d)\n",
        "d"
      ]
    },
    {
      "cell_type": "code",
      "execution_count": null,
      "metadata": {},
      "outputs": [],
      "source": [
        "import numpy as np \n",
        "import pandas as pd \n",
        "import matplotlib.pyplot as plt \n",
        "import seaborn as sns \n",
        "import random "
      ]
    },
    {
      "cell_type": "markdown",
      "metadata": {},
      "source": [
        "numpy : 과학 계산을 위한 패키지\n",
        "pandas: 데이터 분석을 할 때 가장 많이 쓰이는 모듈 \n",
        "matplotlib: 시각화를 위한 모듈 \n",
        "seaborn:시각화를 위한 모듈(통계 시각화 기능을 제공하며 matplotlib에 기반 모듈 라이브러리)\n",
        "random: 난수 생성 관련 모듈 "
      ]
    },
    {
      "cell_type": "code",
      "execution_count": 15,
      "metadata": {},
      "outputs": [
        {
          "data": {
            "text/plain": [
              "0.07782552694038924"
            ]
          },
          "execution_count": 15,
          "metadata": {},
          "output_type": "execute_result"
        }
      ],
      "source": [
        "#random 모듈을 활용한 예시 \n",
        "\n",
        "random.random()"
      ]
    },
    {
      "cell_type": "code",
      "execution_count": 16,
      "metadata": {},
      "outputs": [
        {
          "data": {
            "text/plain": [
              "[3, 1, 2, 4]"
            ]
          },
          "execution_count": 16,
          "metadata": {},
          "output_type": "execute_result"
        }
      ],
      "source": [
        "#shuffle \n",
        "a= [1,2,3,4]\n",
        "random.shuffle(a)\n",
        "a"
      ]
    },
    {
      "cell_type": "code",
      "execution_count": 17,
      "metadata": {},
      "outputs": [
        {
          "data": {
            "text/plain": [
              "8"
            ]
          },
          "execution_count": 17,
          "metadata": {},
          "output_type": "execute_result"
        }
      ],
      "source": [
        "#start 포함 end미만 사이에서 랜덤한 정수 난수 생성 \n",
        "\n",
        "random.randrange(3,10)"
      ]
    }
  ],
  "metadata": {
    "colab": {
      "name": "연산.ipynb",
      "provenance": []
    },
    "interpreter": {
      "hash": "d4dae4ea8e5f4de9e76d858a9174cd4657e40ccbbb94f8495095b398f7d4021b"
    },
    "kernelspec": {
      "display_name": "Python 3.10.4 64-bit (windows store)",
      "language": "python",
      "name": "python3"
    },
    "language_info": {
      "codemirror_mode": {
        "name": "ipython",
        "version": 3
      },
      "file_extension": ".py",
      "mimetype": "text/x-python",
      "name": "python",
      "nbconvert_exporter": "python",
      "pygments_lexer": "ipython3",
      "version": "3.10.5"
    }
  },
  "nbformat": 4,
  "nbformat_minor": 0
}
