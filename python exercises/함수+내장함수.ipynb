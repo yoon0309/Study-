{
  "cells": [
    {
      "cell_type": "markdown",
      "metadata": {
        "id": "CcAe7u88qqWW"
      },
      "source": [
        "함수(function)\n",
        "-자주 사용되는 코드 및 반복되는 코드를 모아 하나의 기능으로 만들고 이름을 붙인것 \n",
        "- 함수의 가장 중요한 기능?\n",
        "  -코드의 재사용성 "
      ]
    },
    {
      "cell_type": "markdown",
      "metadata": {},
      "source": [
        "함수의 기본 구조?\n",
        "def로 시작 \n",
        "함수명을 기입 \n",
        "()안에 매개변수를 지정할 수 있고, 생략도 가능 \n",
        "끝에는 ;로 끝남 \n",
        "함수의 범위 안에서는 들여쓰기를 함 \n",
        "들여쓰기가 끝난 지점이 함수의 범위가 끝나는 지점 "
      ]
    },
    {
      "cell_type": "code",
      "execution_count": 19,
      "metadata": {},
      "outputs": [],
      "source": [
        "#일반형태\n",
        "#입력, 매개변수: O\n",
        "#return: O\n",
        "\n",
        "def sample_function(a,b):\n",
        "    reuslt = a + b\n",
        "    return result "
      ]
    },
    {
      "cell_type": "code",
      "execution_count": 20,
      "metadata": {},
      "outputs": [],
      "source": [
        "#입력 매개변수가 없는 형태 \n",
        "\n",
        "def sample_function():\n",
        "    a= 1\n",
        "    b=2 \n",
        "    result= a+b\n",
        "    return result "
      ]
    },
    {
      "cell_type": "code",
      "execution_count": 21,
      "metadata": {},
      "outputs": [],
      "source": [
        "#return이 없는 형태 \n",
        "def sample_function(a,b):\n",
        "    result = a+b\n",
        "    print(f'result: {result}')"
      ]
    },
    {
      "cell_type": "code",
      "execution_count": 22,
      "metadata": {},
      "outputs": [],
      "source": [
        "#입력 매개변수, return 모두 없는 형태 \n",
        "\n",
        "def sample_function():\n",
        "    print('Hello, World!')"
      ]
    },
    {
      "cell_type": "markdown",
      "metadata": {},
      "source": [
        "함수의 이름 및 호출 \n",
        "-함수의 이름은 알파벳이나 _로 시작해야함 \n",
        "-함수의 지정된 이름과 ()로 호출할 수 있음 "
      ]
    },
    {
      "cell_type": "code",
      "execution_count": 23,
      "metadata": {},
      "outputs": [],
      "source": [
        "def sample_function():\n",
        "    print('함수가 호출 되었습니다.')"
      ]
    },
    {
      "cell_type": "code",
      "execution_count": 24,
      "metadata": {},
      "outputs": [
        {
          "data": {
            "text/plain": [
              "<function __main__.sample_function()>"
            ]
          },
          "execution_count": 24,
          "metadata": {},
          "output_type": "execute_result"
        }
      ],
      "source": [
        "#함수 이름만 출력시\n",
        "\n",
        "sample_function"
      ]
    },
    {
      "cell_type": "code",
      "execution_count": 25,
      "metadata": {},
      "outputs": [
        {
          "name": "stdout",
          "output_type": "stream",
          "text": [
            "함수가 호출 되었습니다.\n"
          ]
        }
      ],
      "source": [
        "#함수를 호출\n",
        "#호출(call): 함수의 이름과 함께 ()를 같이 실행\n",
        "\n",
        "sample_function()\n"
      ]
    },
    {
      "cell_type": "markdown",
      "metadata": {},
      "source": [
        "함수의 이름을 별도의 변수에 대입한 후 변수에 ()를 같이 실행한 경우 "
      ]
    },
    {
      "cell_type": "code",
      "execution_count": 26,
      "metadata": {},
      "outputs": [
        {
          "name": "stdout",
          "output_type": "stream",
          "text": [
            "함수가 호출 되었습니다.\n"
          ]
        }
      ],
      "source": [
        "a= sample_function\n",
        "a()"
      ]
    },
    {
      "cell_type": "code",
      "execution_count": 27,
      "metadata": {},
      "outputs": [],
      "source": [
        "#return이 존재하는 경우 \n",
        "\n",
        "def sample_function():\n",
        "    print('함수가 호출 되었습니다!')\n",
        "    return 123 "
      ]
    },
    {
      "cell_type": "markdown",
      "metadata": {},
      "source": [
        "return 값이 존재하는 경우 \n",
        "함수는 결과 값을 반환하며, 반환된 결과를 변수에 대입할 수 있음"
      ]
    },
    {
      "cell_type": "code",
      "execution_count": 28,
      "metadata": {},
      "outputs": [
        {
          "name": "stdout",
          "output_type": "stream",
          "text": [
            "함수가 호출 되었습니다!\n"
          ]
        }
      ],
      "source": [
        "result= sample_function()"
      ]
    },
    {
      "cell_type": "code",
      "execution_count": 29,
      "metadata": {},
      "outputs": [
        {
          "data": {
            "text/plain": [
              "123"
            ]
          },
          "execution_count": 29,
          "metadata": {},
          "output_type": "execute_result"
        }
      ],
      "source": [
        "result"
      ]
    },
    {
      "cell_type": "markdown",
      "metadata": {},
      "source": [
        "함수가 아무런 결과 값을 반환하지 않는다면 반환된 결과는 None일 것 "
      ]
    },
    {
      "cell_type": "code",
      "execution_count": 30,
      "metadata": {},
      "outputs": [],
      "source": [
        "# return이 없는 경우 \n",
        "\n",
        "def sample_function():\n",
        "    print('함수가 호출 되었습니다!')"
      ]
    },
    {
      "cell_type": "code",
      "execution_count": 31,
      "metadata": {},
      "outputs": [
        {
          "name": "stdout",
          "output_type": "stream",
          "text": [
            "함수가 호출 되었습니다!\n"
          ]
        }
      ],
      "source": [
        "result= sample_function()"
      ]
    },
    {
      "cell_type": "code",
      "execution_count": 32,
      "metadata": {},
      "outputs": [
        {
          "name": "stdout",
          "output_type": "stream",
          "text": [
            "None\n"
          ]
        }
      ],
      "source": [
        "print(result)"
      ]
    },
    {
      "cell_type": "markdown",
      "metadata": {},
      "source": [
        "docstring\n",
        "-함수에 대한 설명을 기록"
      ]
    },
    {
      "cell_type": "code",
      "execution_count": 33,
      "metadata": {},
      "outputs": [],
      "source": [
        "def sample_function():\n",
        "    \"\"\"\n",
        "    함수에 대한 설명을 기록하기\n",
        "    sample_function은 함수를 설명하기 위한 예제 함수\n",
        "    \"\"\"\n",
        "    print('함수가 호출 되었습니다')"
      ]
    },
    {
      "cell_type": "code",
      "execution_count": 34,
      "metadata": {},
      "outputs": [
        {
          "name": "stdout",
          "output_type": "stream",
          "text": [
            "함수가 호출 되었습니다\n"
          ]
        }
      ],
      "source": [
        "sample_function()"
      ]
    },
    {
      "cell_type": "markdown",
      "metadata": {},
      "source": [
        "함수명.__doc__로 docstring을 출력할 수 있음"
      ]
    },
    {
      "cell_type": "code",
      "execution_count": 35,
      "metadata": {},
      "outputs": [
        {
          "name": "stdout",
          "output_type": "stream",
          "text": [
            "\n",
            "    함수에 대한 설명을 기록하기\n",
            "    sample_function은 함수를 설명하기 위한 예제 함수\n",
            "    \n"
          ]
        }
      ],
      "source": [
        "print(sample_function.__doc__)"
      ]
    },
    {
      "cell_type": "markdown",
      "metadata": {},
      "source": [
        "함수의 인수(매개변수)\n",
        "\n",
        "인수(argument): 값, 변수, 참조 등 전달되는 값\n",
        "\n",
        "매개변수(parmeter): 함수 등에서 사용되는 전달된 값을 받는 변수\n",
        "\n",
        "10,20 - 인수(argument)\n",
        "\n",
        "a,b - 매개변수(parameter)"
      ]
    },
    {
      "cell_type": "code",
      "execution_count": 36,
      "metadata": {},
      "outputs": [
        {
          "data": {
            "text/plain": [
              "30"
            ]
          },
          "execution_count": 36,
          "metadata": {},
          "output_type": "execute_result"
        }
      ],
      "source": [
        "def some_fuction(a,b):\n",
        "    result= a+b\n",
        "    return result \n",
        "\n",
        "some_fuction(10,20)"
      ]
    },
    {
      "cell_type": "markdown",
      "metadata": {},
      "source": [
        "위치 인수(postion arguments)\n",
        "가장 보편적인 인수\n",
        "변수명을 인수로 지정 \n",
        "위치가 중요함 \n",
        "a,b,c를 위치 인수로 지정한 경우 "
      ]
    },
    {
      "cell_type": "code",
      "execution_count": 37,
      "metadata": {},
      "outputs": [],
      "source": [
        "def add_fuction(a,b,c):\n",
        "    result= a+b+c\n",
        "    print(f'a:{a},b:{b},c:{c}')\n",
        "    print(f'sum: {result}')\n",
        "    return result "
      ]
    },
    {
      "cell_type": "code",
      "execution_count": 38,
      "metadata": {},
      "outputs": [
        {
          "name": "stdout",
          "output_type": "stream",
          "text": [
            "a:1,b:3,c:5\n",
            "sum: 9\n"
          ]
        },
        {
          "data": {
            "text/plain": [
              "9"
            ]
          },
          "execution_count": 38,
          "metadata": {},
          "output_type": "execute_result"
        }
      ],
      "source": [
        "add_fuction(1,3,5)"
      ]
    },
    {
      "cell_type": "markdown",
      "metadata": {},
      "source": [
        "키워드 인수(keyword arguments):\n",
        "위치 인수의 위치를 정확히 기억하지 못하고 혼란을 야기할 수 있기에 인수명에 값을 \n",
        "직접 지정함 "
      ]
    },
    {
      "cell_type": "code",
      "execution_count": 39,
      "metadata": {},
      "outputs": [],
      "source": [
        "def add_fuction(a,b,c):\n",
        "    result= a+b+c\n",
        "    print(f'a:{a}, b:{b},c:{c}')\n",
        "    print(f'sum: {result}')\n",
        "    return result "
      ]
    },
    {
      "cell_type": "code",
      "execution_count": 40,
      "metadata": {},
      "outputs": [
        {
          "name": "stdout",
          "output_type": "stream",
          "text": [
            "a:5, b:3,c:1\n",
            "sum: 9\n"
          ]
        },
        {
          "data": {
            "text/plain": [
              "9"
            ]
          },
          "execution_count": 40,
          "metadata": {},
          "output_type": "execute_result"
        }
      ],
      "source": [
        "add_fuction(b=3,c=1,a=5)"
      ]
    },
    {
      "cell_type": "markdown",
      "metadata": {},
      "source": [
        "기본 매개변수(default parameter)\n",
        "매개변수에 기본 값을 지정할 수 있음 \n",
        "기본 값을 지정시 인수에 값을 생략가능함 \n",
        "단, 기본 값이 지정된 인수는 위치 인수보다 다음 위치해야함 "
      ]
    },
    {
      "cell_type": "code",
      "execution_count": 41,
      "metadata": {},
      "outputs": [],
      "source": [
        "def add_fuction(a,b=0,c=0):\n",
        "    result= a+b+c\n",
        "    print(f'a:{a}, b={b}, c={c}')\n",
        "    print(f'sum: {result}')\n",
        "    return result"
      ]
    },
    {
      "cell_type": "code",
      "execution_count": 42,
      "metadata": {},
      "outputs": [
        {
          "name": "stdout",
          "output_type": "stream",
          "text": [
            "a:1, b=0, c=0\n",
            "sum: 1\n"
          ]
        },
        {
          "data": {
            "text/plain": [
              "1"
            ]
          },
          "execution_count": 42,
          "metadata": {},
          "output_type": "execute_result"
        }
      ],
      "source": [
        "add_fuction(1)"
      ]
    },
    {
      "cell_type": "code",
      "execution_count": 43,
      "metadata": {},
      "outputs": [
        {
          "name": "stdout",
          "output_type": "stream",
          "text": [
            "a:1, b=3, c=0\n",
            "sum: 4\n"
          ]
        },
        {
          "data": {
            "text/plain": [
              "4"
            ]
          },
          "execution_count": 43,
          "metadata": {},
          "output_type": "execute_result"
        }
      ],
      "source": [
        "add_fuction(1,3)"
      ]
    },
    {
      "cell_type": "code",
      "execution_count": 44,
      "metadata": {},
      "outputs": [
        {
          "name": "stdout",
          "output_type": "stream",
          "text": [
            "a:1, b=3, c=5\n",
            "sum: 9\n"
          ]
        },
        {
          "data": {
            "text/plain": [
              "9"
            ]
          },
          "execution_count": 44,
          "metadata": {},
          "output_type": "execute_result"
        }
      ],
      "source": [
        "add_fuction(1,3,5)"
      ]
    },
    {
      "cell_type": "code",
      "execution_count": 45,
      "metadata": {},
      "outputs": [
        {
          "name": "stdout",
          "output_type": "stream",
          "text": [
            "a:1, b=3, c=5\n",
            "sum: 9\n"
          ]
        },
        {
          "data": {
            "text/plain": [
              "9"
            ]
          },
          "execution_count": 45,
          "metadata": {},
          "output_type": "execute_result"
        }
      ],
      "source": [
        "add_fuction(c=5, b=3, a=1)"
      ]
    },
    {
      "cell_type": "markdown",
      "metadata": {},
      "source": [
        "기본 매개변수가 위치 인수보다 앞 쪽에 위치한 경우 Error가 발생함"
      ]
    },
    {
      "cell_type": "code",
      "execution_count": 46,
      "metadata": {},
      "outputs": [
        {
          "ename": "SyntaxError",
          "evalue": "non-default argument follows default argument (944190906.py, line 1)",
          "output_type": "error",
          "traceback": [
            "\u001b[1;36m  Input \u001b[1;32mIn [46]\u001b[1;36m\u001b[0m\n\u001b[1;33m    def add_fuction(a=0, b, c):\u001b[0m\n\u001b[1;37m                         ^\u001b[0m\n\u001b[1;31mSyntaxError\u001b[0m\u001b[1;31m:\u001b[0m non-default argument follows default argument\n"
          ]
        }
      ],
      "source": [
        "def add_fuction(a=0, b, c):\n",
        "    result= a+b+c\n",
        "    print(f'a:{a}, b:{b}, c={c}')\n",
        "    print(f'sum: {result}')\n",
        "    return result "
      ]
    },
    {
      "cell_type": "markdown",
      "metadata": {},
      "source": [
        "*tuple 인수 \n",
        "여러 개의 인수를 전달 받을 수 있습니다\n",
        "여러 개의 인수를 전달 받은 *args에는 튜플(tuple)형식으로 데이터가 저장됨 \n",
        "*args로 받은 인수는 반복문으로 처리하는 것이 일반적임 \n",
        "대체적으로 *args 변수가 많이 사용됨"
      ]
    },
    {
      "cell_type": "code",
      "execution_count": null,
      "metadata": {},
      "outputs": [],
      "source": [
        "def add_fuction(*args):\n",
        "    result =0 \n",
        "    print(f'args의 타입: {type(args)}')\n",
        "    for arg in args:\n",
        "        print(arg)\n",
        "        result += arg \n",
        "    print('==='*5)\n",
        "    print(f'sum: {result}')"
      ]
    },
    {
      "cell_type": "code",
      "execution_count": null,
      "metadata": {},
      "outputs": [
        {
          "name": "stdout",
          "output_type": "stream",
          "text": [
            "args의 타입: <class 'tuple'>\n",
            "===============\n",
            "sum: 0\n"
          ]
        }
      ],
      "source": [
        "add_fuction()"
      ]
    },
    {
      "cell_type": "code",
      "execution_count": null,
      "metadata": {},
      "outputs": [
        {
          "name": "stdout",
          "output_type": "stream",
          "text": [
            "args의 타입: <class 'tuple'>\n",
            "1\n",
            "===============\n",
            "sum: 1\n"
          ]
        }
      ],
      "source": [
        "add_fuction(1)"
      ]
    },
    {
      "cell_type": "code",
      "execution_count": null,
      "metadata": {},
      "outputs": [
        {
          "name": "stdout",
          "output_type": "stream",
          "text": [
            "args의 타입: <class 'tuple'>\n",
            "1\n",
            "2\n",
            "3\n",
            "4\n",
            "5\n",
            "===============\n",
            "sum: 15\n"
          ]
        }
      ],
      "source": [
        "add_fuction(1,2,3,4,5)"
      ]
    },
    {
      "cell_type": "markdown",
      "metadata": {},
      "source": [
        "위치 매개변수와 *tuple 매개변수의 혼용 \n",
        "\n",
        "\n",
        "*tuple 매개변수는 위치 매개변수의 뒤에 위치해야함 "
      ]
    },
    {
      "cell_type": "code",
      "execution_count": null,
      "metadata": {},
      "outputs": [],
      "source": [
        "def add_fuction(a, *args):\n",
        "    print(f'a: {a}')\n",
        "    print('==='*5)\n",
        "    result = 0\n",
        "    for arg in args:\n",
        "        print(arg)\n",
        "        result += arg \n",
        "    print('==='*5)\n",
        "    print(f'sum: {result}')"
      ]
    },
    {
      "cell_type": "markdown",
      "metadata": {},
      "source": [
        "아무런 값을 지정하지 않은 경우 \n",
        "\n",
        "위치 매개변수 미지정으로 인한 Error 발생"
      ]
    },
    {
      "cell_type": "code",
      "execution_count": null,
      "metadata": {},
      "outputs": [
        {
          "name": "stdout",
          "output_type": "stream",
          "text": [
            "a: 1\n",
            "===============\n",
            "===============\n",
            "sum: 0\n"
          ]
        }
      ],
      "source": [
        "add_fuction(1)"
      ]
    },
    {
      "cell_type": "code",
      "execution_count": null,
      "metadata": {},
      "outputs": [
        {
          "name": "stdout",
          "output_type": "stream",
          "text": [
            "a: 1\n",
            "===============\n",
            "2\n",
            "3\n",
            "4\n",
            "5\n",
            "===============\n",
            "sum: 14\n"
          ]
        }
      ],
      "source": [
        "add_fuction(1,2,3,4,5)"
      ]
    },
    {
      "cell_type": "markdown",
      "metadata": {},
      "source": [
        "**dict 인수 \n",
        "\n",
        "여러 개의 인수를 전달 받을 수 있음 \n",
        "여러 개의 인수를 전달 받은 **kwargs에는 딕셔너리(dict) 형식으로 데이터가 저장됨 \n",
        "**kwargs로 받은 인수 역시 반복문으로 처리하는 것이 일반 적 \n",
        "대체적으로 **kwargs 변수가 많이 사용됨 "
      ]
    },
    {
      "cell_type": "code",
      "execution_count": null,
      "metadata": {},
      "outputs": [],
      "source": [
        "def add_fuction(**kwargs):\n",
        "    total_age = 0\n",
        "    for name, age in kwargs.items():\n",
        "        print(f'이름: {name}, 나이: {age}')\n",
        "        total_age += age\n",
        "    print('==='*5)\n",
        "    print(f'전체 나이의 합계: {total_age}')"
      ]
    },
    {
      "cell_type": "code",
      "execution_count": null,
      "metadata": {},
      "outputs": [
        {
          "name": "stdout",
          "output_type": "stream",
          "text": [
            "===============\n",
            "전체 나이의 합계: 0\n"
          ]
        }
      ],
      "source": [
        "add_fuction()"
      ]
    },
    {
      "cell_type": "code",
      "execution_count": null,
      "metadata": {},
      "outputs": [
        {
          "name": "stdout",
          "output_type": "stream",
          "text": [
            "이름: lee, 나이: 5\n",
            "===============\n",
            "전체 나이의 합계: 5\n"
          ]
        }
      ],
      "source": [
        "add_fuction(lee=5)"
      ]
    },
    {
      "cell_type": "code",
      "execution_count": null,
      "metadata": {},
      "outputs": [
        {
          "name": "stdout",
          "output_type": "stream",
          "text": [
            "이름: john, 나이: 10\n",
            "이름: peter, 나이: 12\n",
            "이름: lee, 나이: 5\n",
            "===============\n",
            "전체 나이의 합계: 27\n"
          ]
        }
      ],
      "source": [
        "add_fuction(john=10, peter=12, lee=5)"
      ]
    },
    {
      "cell_type": "markdown",
      "metadata": {},
      "source": [
        "딕셔너리를 인수로 지정하는 경우 **를 앞에 붙혀줌"
      ]
    },
    {
      "cell_type": "code",
      "execution_count": null,
      "metadata": {},
      "outputs": [
        {
          "data": {
            "text/plain": [
              "{'john': 10, 'peter': 12, 'lee': 5}"
            ]
          },
          "execution_count": 45,
          "metadata": {},
          "output_type": "execute_result"
        }
      ],
      "source": [
        "person = {'john':10, 'peter':12, 'lee':5}\n",
        "person"
      ]
    },
    {
      "cell_type": "code",
      "execution_count": null,
      "metadata": {},
      "outputs": [
        {
          "name": "stdout",
          "output_type": "stream",
          "text": [
            "이름: john, 나이: 10\n",
            "이름: peter, 나이: 12\n",
            "이름: lee, 나이: 5\n",
            "===============\n",
            "전체 나이의 합계: 27\n"
          ]
        }
      ],
      "source": [
        "add_fuction(**person)"
      ]
    },
    {
      "cell_type": "markdown",
      "metadata": {},
      "source": [
        "lambda: 익명함수\n",
        "\n",
        "이름 없이 정의된 함수 \n",
        "단일 문장(1줄)의 코드로 작성되어야 함 \n",
        "함수 내부에서는 return문이 포함하지 않지만 값을 반환함"
      ]
    },
    {
      "cell_type": "code",
      "execution_count": null,
      "metadata": {},
      "outputs": [
        {
          "data": {
            "text/plain": [
              "8"
            ]
          },
          "execution_count": 47,
          "metadata": {},
          "output_type": "execute_result"
        }
      ],
      "source": [
        "#단일 인수를 가지는 lambda 함수 \n",
        "\n",
        "a= lambda x: x*2 \n",
        "a(4)"
      ]
    },
    {
      "cell_type": "code",
      "execution_count": null,
      "metadata": {},
      "outputs": [
        {
          "data": {
            "text/plain": [
              "32"
            ]
          },
          "execution_count": 51,
          "metadata": {},
          "output_type": "execute_result"
        }
      ],
      "source": [
        "#2개의 인수를 가지는 lambda 함수 \n",
        "\n",
        "a =lambda x,y : x * y\n",
        "a(4,8)"
      ]
    },
    {
      "cell_type": "code",
      "execution_count": null,
      "metadata": {},
      "outputs": [],
      "source": [
        "#lambda 함수 내부에서 조건문 사용 \n",
        "\n",
        "a= lambda x, y: x*y if x>0 else y"
      ]
    },
    {
      "cell_type": "code",
      "execution_count": null,
      "metadata": {},
      "outputs": [
        {
          "data": {
            "text/plain": [
              "32"
            ]
          },
          "execution_count": 53,
          "metadata": {},
          "output_type": "execute_result"
        }
      ],
      "source": [
        "a(4,8)"
      ]
    },
    {
      "cell_type": "code",
      "execution_count": null,
      "metadata": {},
      "outputs": [
        {
          "data": {
            "text/plain": [
              "8"
            ]
          },
          "execution_count": 54,
          "metadata": {},
          "output_type": "execute_result"
        }
      ],
      "source": [
        "a(-1,8)"
      ]
    },
    {
      "cell_type": "markdown",
      "metadata": {},
      "source": [
        "elif 구문을 억지로 생성할 수 있음 \n",
        "\n",
        "복잡한 조건문을 사용하기 위햇는 일반적인 함수 사용을 권장함 "
      ]
    },
    {
      "cell_type": "code",
      "execution_count": null,
      "metadata": {},
      "outputs": [],
      "source": [
        "a= lambda x: x *10 if x<2 else (x**2 if x <4 else x +10)"
      ]
    },
    {
      "cell_type": "code",
      "execution_count": null,
      "metadata": {},
      "outputs": [
        {
          "data": {
            "text/plain": [
              "10"
            ]
          },
          "execution_count": 56,
          "metadata": {},
          "output_type": "execute_result"
        }
      ],
      "source": [
        "a(1)"
      ]
    },
    {
      "cell_type": "code",
      "execution_count": null,
      "metadata": {},
      "outputs": [
        {
          "data": {
            "text/plain": [
              "9"
            ]
          },
          "execution_count": 57,
          "metadata": {},
          "output_type": "execute_result"
        }
      ],
      "source": [
        "a(3)"
      ]
    },
    {
      "cell_type": "code",
      "execution_count": null,
      "metadata": {},
      "outputs": [
        {
          "data": {
            "text/plain": [
              "14"
            ]
          },
          "execution_count": 58,
          "metadata": {},
          "output_type": "execute_result"
        }
      ],
      "source": [
        "a(4)"
      ]
    },
    {
      "cell_type": "markdown",
      "metadata": {},
      "source": [
        "내장함수(bulit-in fuction)\n",
        "\n",
        "파이썬에는 이미 만들어진 내장함수가 존재함 \n",
        "print(), type()이 파이썬이 대표적인 내장함수가 있다 \n",
        "이 밖에도 유용한 몇 가지 내장함수를 알아보마"
      ]
    },
    {
      "cell_type": "markdown",
      "metadata": {},
      "source": [
        "#map \n",
        "map(function, iterable)\n",
        "map은 함수(f)와 순회 가능한(iterable) 자료형을 입력으로 받음 \n",
        "map은 입력받은 자료형의 각 요소를 함수(function)가 수행한 결과를 돌려줌 "
      ]
    },
    {
      "cell_type": "code",
      "execution_count": null,
      "metadata": {},
      "outputs": [],
      "source": [
        "sample_data = [1,2,3,4,5,6,7,8,9,10]"
      ]
    },
    {
      "cell_type": "code",
      "execution_count": null,
      "metadata": {},
      "outputs": [
        {
          "data": {
            "text/plain": [
              "<map at 0x18712b05e10>"
            ]
          },
          "execution_count": 2,
          "metadata": {},
          "output_type": "execute_result"
        }
      ],
      "source": [
        "#map만 실행시에 요소의 내용이 바로 출력되지 않음 \n",
        "\n",
        "map(str, sample_data)"
      ]
    },
    {
      "cell_type": "code",
      "execution_count": null,
      "metadata": {},
      "outputs": [
        {
          "data": {
            "text/plain": [
              "['1', '2', '3', '4', '5', '6', '7', '8', '9', '10']"
            ]
          },
          "execution_count": 3,
          "metadata": {},
          "output_type": "execute_result"
        }
      ],
      "source": [
        "#list()로 타입 변환하여 요소를 출력함 \n",
        "list(map(str, sample_data))"
      ]
    },
    {
      "cell_type": "code",
      "execution_count": null,
      "metadata": {},
      "outputs": [
        {
          "data": {
            "text/plain": [
              "[2, 4, 6, 8, 10, 12, 14, 16, 18, 20]"
            ]
          },
          "execution_count": 4,
          "metadata": {},
          "output_type": "execute_result"
        }
      ],
      "source": [
        "#map에 lambda 함수 적용\n",
        "result = map(lambda x: x*2, sample_data)\n",
        "list(result)"
      ]
    },
    {
      "cell_type": "code",
      "execution_count": null,
      "metadata": {},
      "outputs": [
        {
          "data": {
            "text/plain": [
              "[]"
            ]
          },
          "execution_count": 5,
          "metadata": {},
          "output_type": "execute_result"
        }
      ],
      "source": [
        "#map에 다중 인수를 지정 \n",
        "reuslt  = map(lambda x: x*2, sample_data)\n",
        "list(result)"
      ]
    },
    {
      "cell_type": "code",
      "execution_count": null,
      "metadata": {},
      "outputs": [
        {
          "data": {
            "text/plain": [
              "[1, 3, 5, 7, 10, 14, 20, 29, 43, 65]"
            ]
          },
          "execution_count": 6,
          "metadata": {},
          "output_type": "execute_result"
        }
      ],
      "source": [
        "#map에 다중 인수를 지정 \n",
        "sample_data= [1,2,3,4,5,6,7,8,9,10]\n",
        "sample_data2= [0,1,2,3,5,8,13,21,34,55]\n",
        "list(map(lambda x, y: x+y, sample_data, sample_data2))"
      ]
    },
    {
      "cell_type": "code",
      "execution_count": null,
      "metadata": {},
      "outputs": [
        {
          "data": {
            "text/plain": [
              "[2, 3, 4, 14, 105]"
            ]
          },
          "execution_count": 7,
          "metadata": {},
          "output_type": "execute_result"
        }
      ],
      "source": [
        "#list의 size가 다른 경우, 작은 size에 맞춰 생성 \n",
        "\n",
        "sample_data= [1,2,3,4,5,6,7,8,9,10]\n",
        "sample_data2= [1,1,1,10,100]\n",
        "\n",
        "list(map(lambda x,y: x+y, sample_data, sample_data2))"
      ]
    },
    {
      "cell_type": "markdown",
      "metadata": {},
      "source": [
        "#filter \n",
        "문법: filter(function, iterable)\n",
        "filter 내장 함수는 값을 filter 할 때 사용합니다 \n",
        "True인 값을 가지는 요소만 filter "
      ]
    },
    {
      "cell_type": "code",
      "execution_count": null,
      "metadata": {},
      "outputs": [],
      "source": [
        "sample_data = [1,2,3,4,5,6,7,8,9,10]"
      ]
    },
    {
      "cell_type": "code",
      "execution_count": null,
      "metadata": {},
      "outputs": [
        {
          "data": {
            "text/plain": [
              "[1, 3, 5, 7, 9]"
            ]
          },
          "execution_count": 11,
          "metadata": {},
          "output_type": "execute_result"
        }
      ],
      "source": [
        "#lambda함수를 지정한 경우 \n",
        "\n",
        "result = filter(lambda x: True if (x % 2 == 1) else False, sample_data)\n",
        "list(result)"
      ]
    },
    {
      "cell_type": "code",
      "execution_count": null,
      "metadata": {},
      "outputs": [],
      "source": [
        "#함수를 선언하여 함수명으로 지정한 경우 \n",
        "def three_multiple(x):\n",
        "    if x % 3 == 0:\n",
        "        return True\n",
        "    else: \n",
        "        return False "
      ]
    },
    {
      "cell_type": "code",
      "execution_count": 47,
      "metadata": {},
      "outputs": [
        {
          "data": {
            "text/plain": [
              "[]"
            ]
          },
          "execution_count": 47,
          "metadata": {},
          "output_type": "execute_result"
        }
      ],
      "source": [
        "#함수의 이름만 입력 \n",
        "result = filter(three_multiple, sample_data)\n",
        "list(reuslt)\n",
        "\n",
        "#[3,6,9]가 출력되어야하는데 왜 ??"
      ]
    },
    {
      "cell_type": "markdown",
      "metadata": {},
      "source": [
        "#zip \n",
        "\n",
        "문법: zip(*iterable)\n",
        "동일한 개수로 이루어진 자료형을 묶어 주는 역할을 함"
      ]
    },
    {
      "cell_type": "code",
      "execution_count": 48,
      "metadata": {},
      "outputs": [],
      "source": [
        "sample_data = [1,2,3,4,5,6,7,8,9,10]\n",
        "sample_data2= [0,1,2,3,5,8,13,21,34,55]\n",
        "sample_data3= [5,6,7]"
      ]
    },
    {
      "cell_type": "code",
      "execution_count": 50,
      "metadata": {},
      "outputs": [
        {
          "data": {
            "text/plain": [
              "[(1, 0),\n",
              " (2, 1),\n",
              " (3, 2),\n",
              " (4, 3),\n",
              " (5, 5),\n",
              " (6, 8),\n",
              " (7, 13),\n",
              " (8, 21),\n",
              " (9, 34),\n",
              " (10, 55)]"
            ]
          },
          "execution_count": 50,
          "metadata": {},
          "output_type": "execute_result"
        }
      ],
      "source": [
        "#sample_data, sample_data2을 zip으로 묶어준 경우 \n",
        "\n",
        "result= zip(sample_data, sample_data2)\n",
        "list(result)"
      ]
    },
    {
      "cell_type": "code",
      "execution_count": 51,
      "metadata": {},
      "outputs": [
        {
          "data": {
            "text/plain": [
              "[(1, 0, 5), (2, 1, 6), (3, 2, 7)]"
            ]
          },
          "execution_count": 51,
          "metadata": {},
          "output_type": "execute_result"
        }
      ],
      "source": [
        "#sample_data, sample_data2, sample_data3을 zip으로 묶어준 경우 \n",
        "\n",
        "#작은 size를 가지는 리스트(list)에 맞춰 생성함 \n",
        "\n",
        "list(zip(sample_data, sample_data2, sample_data3))"
      ]
    },
    {
      "cell_type": "markdown",
      "metadata": {},
      "source": [
        "zip의 응용"
      ]
    },
    {
      "cell_type": "code",
      "execution_count": 52,
      "metadata": {},
      "outputs": [],
      "source": [
        "number= [1,2,3,4]\n",
        "name=['홍길동','김철수','John','Paul']"
      ]
    },
    {
      "cell_type": "code",
      "execution_count": 54,
      "metadata": {},
      "outputs": [
        {
          "data": {
            "text/plain": [
              "[(1, '홍길동'), (2, '김철수'), (3, 'John'), (4, 'Paul')]"
            ]
          },
          "execution_count": 54,
          "metadata": {},
          "output_type": "execute_result"
        }
      ],
      "source": [
        "number_name = list(zip(number,name))\n",
        "number_name"
      ]
    },
    {
      "cell_type": "code",
      "execution_count": 55,
      "metadata": {},
      "outputs": [],
      "source": [
        "#zip을 활용한 dict 만들기 \n",
        "\n",
        "number= [1,2,3,4]\n",
        "name =['홍길동','김철수','John','Paul']\n",
        "dic = {}\n",
        "\n",
        "for number, name in zip(number,name):\n",
        "    dic[number] = name "
      ]
    },
    {
      "cell_type": "code",
      "execution_count": 56,
      "metadata": {},
      "outputs": [
        {
          "data": {
            "text/plain": [
              "{1: '홍길동', 2: '김철수', 3: 'John', 4: 'Paul'}"
            ]
          },
          "execution_count": 56,
          "metadata": {},
          "output_type": "execute_result"
        }
      ],
      "source": [
        "dic"
      ]
    },
    {
      "cell_type": "markdown",
      "metadata": {},
      "source": [
        "#enumerate \n",
        "enumerate(iterable, start=0)\n",
        "순서가 있는 자료형을 입력받아 index를 포함하는 객체로 return"
      ]
    },
    {
      "cell_type": "code",
      "execution_count": 57,
      "metadata": {},
      "outputs": [
        {
          "name": "stdout",
          "output_type": "stream",
          "text": [
            "1\n",
            "3\n",
            "5\n",
            "7\n",
            "9\n"
          ]
        }
      ],
      "source": [
        "#일반 range()함수를 사용한 경우 \n",
        "\n",
        "for value in range(1,10,2):\n",
        "    print(value)"
      ]
    },
    {
      "cell_type": "code",
      "execution_count": 58,
      "metadata": {},
      "outputs": [
        {
          "name": "stdout",
          "output_type": "stream",
          "text": [
            "index: 0, value: 1\n",
            "index: 1, value: 3\n",
            "index: 2, value: 5\n",
            "index: 3, value: 7\n",
            "index: 4, value: 9\n"
          ]
        }
      ],
      "source": [
        "#enumerate()함수를 사용하여 index를 return 받은 경우\n",
        "\n",
        "for idx, value in enumerate(range(1,10,2)):\n",
        "    print(f'index: {idx}, value: {value}')"
      ]
    }
  ],
  "metadata": {
    "colab": {
      "name": "파이썬-리스트-튜플.ipynb",
      "provenance": []
    },
    "interpreter": {
      "hash": "d4dae4ea8e5f4de9e76d858a9174cd4657e40ccbbb94f8495095b398f7d4021b"
    },
    "kernelspec": {
      "display_name": "Python 3.10.4 64-bit (windows store)",
      "language": "python",
      "name": "python3"
    },
    "language_info": {
      "codemirror_mode": {
        "name": "ipython",
        "version": 3
      },
      "file_extension": ".py",
      "mimetype": "text/x-python",
      "name": "python",
      "nbconvert_exporter": "python",
      "pygments_lexer": "ipython3",
      "version": "3.10.5"
    }
  },
  "nbformat": 4,
  "nbformat_minor": 0
}
