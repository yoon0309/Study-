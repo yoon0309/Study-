{
  "nbformat": 4,
  "nbformat_minor": 0,
  "metadata": {
    "colab": {
      "name": "파이썬 - 자료구조",
      "provenance": []
    },
    "kernelspec": {
      "name": "python3",
      "display_name": "Python 3"
    },
    "language_info": {
      "name": "python"
    }
  },
  "cells": [
    {
      "cell_type": "markdown",
      "source": [
        "#teddylee777/machine-learning의 자료구조 - 파이썬 연습 \n"
      ],
      "metadata": {
        "id": "MsXavsZbhHdC"
      }
    },
    {
      "cell_type": "code",
      "execution_count": 1,
      "metadata": {
        "colab": {
          "base_uri": "https://localhost:8080/"
        },
        "id": "J0WJvmWdYWpu",
        "outputId": "70371782-84b0-4784-f4b2-c9373dfb8331"
      },
      "outputs": [
        {
          "output_type": "stream",
          "name": "stdout",
          "text": [
            "오늘 파이썬 배우기 좋은 날이네!\n"
          ]
        }
      ],
      "source": [
        "#print(\"\"), print('')\n",
        "print('오늘 파이썬 배우기 좋은 날이네!')"
      ]
    },
    {
      "cell_type": "code",
      "source": [
        "print(\"오늘은\",\"일요일\")"
      ],
      "metadata": {
        "colab": {
          "base_uri": "https://localhost:8080/"
        },
        "id": "xc5AsRpKYmtI",
        "outputId": "ddba3177-c463-42bb-f27d-02a4f1c777e3"
      },
      "execution_count": 2,
      "outputs": [
        {
          "output_type": "stream",
          "name": "stdout",
          "text": [
            "오늘은 일요일\n"
          ]
        }
      ]
    },
    {
      "cell_type": "code",
      "source": [
        "print(1,2,3,4)"
      ],
      "metadata": {
        "colab": {
          "base_uri": "https://localhost:8080/"
        },
        "id": "cth7ATO-Yrgk",
        "outputId": "ba8de157-fd5a-4f0e-a1cc-6b83c8190e81"
      },
      "execution_count": 3,
      "outputs": [
        {
          "output_type": "stream",
          "name": "stdout",
          "text": [
            "1 2 3 4\n"
          ]
        }
      ]
    },
    {
      "cell_type": "code",
      "source": [
        "#항상 마지막 값 출력 \n",
        "3.14\n",
        "'안녕'\n",
        "100"
      ],
      "metadata": {
        "colab": {
          "base_uri": "https://localhost:8080/"
        },
        "id": "UDnOzbV2Y0lI",
        "outputId": "f264c88c-4daa-4bd5-d779-1e18ec20f4ec"
      },
      "execution_count": 5,
      "outputs": [
        {
          "output_type": "execute_result",
          "data": {
            "text/plain": [
              "100"
            ]
          },
          "metadata": {},
          "execution_count": 5
        }
      ]
    },
    {
      "cell_type": "code",
      "source": [
        "3.14\n",
        "100\n",
        "'안녕'"
      ],
      "metadata": {
        "colab": {
          "base_uri": "https://localhost:8080/",
          "height": 35
        },
        "id": "QbJY9jJuY7cZ",
        "outputId": "7f409572-319a-4984-8f30-ce648c5e5923"
      },
      "execution_count": 6,
      "outputs": [
        {
          "output_type": "execute_result",
          "data": {
            "text/plain": [
              "'안녕'"
            ],
            "application/vnd.google.colaboratory.intrinsic+json": {
              "type": "string"
            }
          },
          "metadata": {},
          "execution_count": 6
        }
      ]
    },
    {
      "cell_type": "code",
      "source": [
        "100\n",
        "'안녕'\n",
        "3.14"
      ],
      "metadata": {
        "colab": {
          "base_uri": "https://localhost:8080/"
        },
        "id": "1IOF7HBYY_Bb",
        "outputId": "2bec8b5b-eccd-47a4-af9c-b819636e1cc6"
      },
      "execution_count": 7,
      "outputs": [
        {
          "output_type": "execute_result",
          "data": {
            "text/plain": [
              "3.14"
            ]
          },
          "metadata": {},
          "execution_count": 7
        }
      ]
    },
    {
      "cell_type": "markdown",
      "source": [
        "변수? 데이터를 담는 그릇 \n",
        "\n",
        "변수의 이름 규칙(Rule)\n",
        "\n",
        "-소문자\n",
        "\n",
        "-대문자\n",
        "\n",
        "-숫자\n",
        "\n",
        "-한글\n",
        "\n",
        "-특수기호는 _(언더바)\n",
        "\n",
        "규칙\n",
        "\n",
        "-대소문자를 구분 \n",
        "\n",
        "-숫자는 맨 처음 올 수 없음 \n",
        "\n",
        "-예약어 사용불가 (def, if, del, ...등등)\n",
        "\n"
      ],
      "metadata": {
        "id": "FkvcooZdZH93"
      }
    },
    {
      "cell_type": "code",
      "source": [
        "a=2"
      ],
      "metadata": {
        "id": "wJqnUJP2ZdjK"
      },
      "execution_count": 15,
      "outputs": []
    },
    {
      "cell_type": "code",
      "source": [
        "A=1"
      ],
      "metadata": {
        "id": "tXVSQ7IAZgPY"
      },
      "execution_count": 16,
      "outputs": []
    },
    {
      "cell_type": "code",
      "source": [
        "a!=A"
      ],
      "metadata": {
        "colab": {
          "base_uri": "https://localhost:8080/"
        },
        "id": "aVtiBTqRZvfi",
        "outputId": "26e7f451-40ee-4016-9d14-9ed13aea8d7f"
      },
      "execution_count": 19,
      "outputs": [
        {
          "output_type": "execute_result",
          "data": {
            "text/plain": [
              "True"
            ]
          },
          "metadata": {},
          "execution_count": 19
        }
      ]
    },
    {
      "cell_type": "code",
      "source": [
        "a==A"
      ],
      "metadata": {
        "colab": {
          "base_uri": "https://localhost:8080/"
        },
        "id": "ptidavbIZon7",
        "outputId": "4af5f46e-f03c-4e3d-de4f-84ec564a691e"
      },
      "execution_count": 17,
      "outputs": [
        {
          "output_type": "execute_result",
          "data": {
            "text/plain": [
              "False"
            ]
          },
          "metadata": {},
          "execution_count": 17
        }
      ]
    },
    {
      "cell_type": "code",
      "source": [
        "변수= 1"
      ],
      "metadata": {
        "id": "CzfluKPSZhuh"
      },
      "execution_count": 10,
      "outputs": []
    },
    {
      "cell_type": "code",
      "source": [
        "변수"
      ],
      "metadata": {
        "colab": {
          "base_uri": "https://localhost:8080/"
        },
        "id": "K68RztMuZjtY",
        "outputId": "020080ca-d60d-4245-879f-02d47a32fcb6"
      },
      "execution_count": 11,
      "outputs": [
        {
          "output_type": "execute_result",
          "data": {
            "text/plain": [
              "1"
            ]
          },
          "metadata": {},
          "execution_count": 11
        }
      ]
    },
    {
      "cell_type": "code",
      "source": [
        "#알파벳, 숫자\n",
        "a1= 1"
      ],
      "metadata": {
        "id": "UTl28Vp5ZucG"
      },
      "execution_count": 21,
      "outputs": []
    },
    {
      "cell_type": "code",
      "source": [
        "#알파벳 + 언더바(_)\n",
        "a_=1"
      ],
      "metadata": {
        "id": "glBWn_eRZ4Xk"
      },
      "execution_count": 22,
      "outputs": []
    },
    {
      "cell_type": "code",
      "source": [
        "#언더바(_)+알파벳\n",
        "_a=1"
      ],
      "metadata": {
        "id": "HoZaARHIZ9BQ"
      },
      "execution_count": 23,
      "outputs": []
    },
    {
      "cell_type": "code",
      "source": [
        "test = 10"
      ],
      "metadata": {
        "id": "rrnI3AmqaE1l"
      },
      "execution_count": 24,
      "outputs": []
    },
    {
      "cell_type": "code",
      "source": [
        "test10 =20 "
      ],
      "metadata": {
        "id": "gtqbO2WIaGPX"
      },
      "execution_count": 25,
      "outputs": []
    },
    {
      "cell_type": "code",
      "source": [
        "test_01 =30 "
      ],
      "metadata": {
        "id": "aKhlUWwhaIFs"
      },
      "execution_count": 26,
      "outputs": []
    },
    {
      "cell_type": "markdown",
      "source": [
        "데이터 타입 (Data Type)\n",
        "\n",
        "1. int (정수): Integer(정수)의 약어, 정수를 나타내는 자료형 \n",
        "\n",
        "2. float(실수): Floating point의 약어, 소수점이 있는 숫자를 나타냄 \n",
        "\n",
        "3. str(문자열): 문자를 나타내는 자료형, 작은 따옴표 또는 큰 따옴표로 감싸져 있음 \n",
        "\n",
        "4. bool(참/거짓): 참 또는 거짓을 나타내는 자료형, True, False에서 T와 F는 반드시 대문자로 표기해야함 "
      ],
      "metadata": {
        "id": "jG46RU1PaMz_"
      }
    },
    {
      "cell_type": "code",
      "source": [
        "#type()함수을 통하여 데이터타입 확인 \n",
        " \n",
        "print(type(1)) #Int\n",
        "print(type(3.14)) #float \n",
        "print(type(\"안녕\")) #str\n",
        "print(type(True)) #bool\n"
      ],
      "metadata": {
        "colab": {
          "base_uri": "https://localhost:8080/"
        },
        "id": "RRv_onrxbbY3",
        "outputId": "ff948453-fa59-4e39-d129-376517bfd586"
      },
      "execution_count": 27,
      "outputs": [
        {
          "output_type": "stream",
          "name": "stdout",
          "text": [
            "<class 'int'>\n",
            "<class 'float'>\n",
            "<class 'str'>\n",
            "<class 'bool'>\n"
          ]
        }
      ]
    },
    {
      "cell_type": "code",
      "source": [
        "#int(정수)\n",
        "\n",
        "a=1 \n",
        "print(a) #1 \n",
        "print(type(a)) #Int "
      ],
      "metadata": {
        "colab": {
          "base_uri": "https://localhost:8080/"
        },
        "id": "N5cIMmUBbxIb",
        "outputId": "2ae6fc49-924c-433e-b8a2-9b649bcb4934"
      },
      "execution_count": 29,
      "outputs": [
        {
          "output_type": "stream",
          "name": "stdout",
          "text": [
            "1\n",
            "<class 'int'>\n"
          ]
        }
      ]
    },
    {
      "cell_type": "code",
      "source": [
        "#float(실수)\n",
        "\n",
        "a= 3.14\n",
        "print(a) #3.14\n",
        "print(type(a)) #float"
      ],
      "metadata": {
        "colab": {
          "base_uri": "https://localhost:8080/"
        },
        "id": "v7j3HdwacCwA",
        "outputId": "b4f02035-d53d-40f3-e40d-526905daac2f"
      },
      "execution_count": 32,
      "outputs": [
        {
          "output_type": "stream",
          "name": "stdout",
          "text": [
            "3.14\n",
            "<class 'float'>\n"
          ]
        }
      ]
    },
    {
      "cell_type": "code",
      "source": [
        "#str(문자열)\n",
        "\n",
        "#작은 따옴표 ('')에 문자를 입력한 경우 \n",
        "\n",
        "word = '안녕하세요'\n",
        "print(word) #안녕하세요\n",
        "print(type(word)) #str "
      ],
      "metadata": {
        "colab": {
          "base_uri": "https://localhost:8080/"
        },
        "id": "9mArDr3HcO4l",
        "outputId": "404652a0-9c9e-4691-85f9-d0a14bb10801"
      },
      "execution_count": 35,
      "outputs": [
        {
          "output_type": "stream",
          "name": "stdout",
          "text": [
            "안녕하세요\n",
            "<class 'str'>\n"
          ]
        }
      ]
    },
    {
      "cell_type": "code",
      "source": [
        "#큰 따옴표(\"\")사이에 문자를 입력한 경우 \n",
        "\n",
        "word = \"안녕하세요\"\n",
        "print(word) #안녕하세요\n",
        "print(type(word)) #str "
      ],
      "metadata": {
        "colab": {
          "base_uri": "https://localhost:8080/"
        },
        "id": "wGOfg4WucgaI",
        "outputId": "610292a9-653a-4251-f7c2-6c9b606b16aa"
      },
      "execution_count": 36,
      "outputs": [
        {
          "output_type": "stream",
          "name": "stdout",
          "text": [
            "안녕하세요\n",
            "<class 'str'>\n"
          ]
        }
      ]
    },
    {
      "cell_type": "code",
      "source": [
        "#여러 줄에 입력하고 싶을 때는?\n",
        "#문장을 여러줄로 나누어 입력이 가능하다 \n",
        "\n",
        "#작은따옴표 ''' 3개를 연속 \n",
        "word = ''' 안녕\n",
        "하 \n",
        "세 \n",
        "요\n",
        "'''\n",
        "\n",
        "print(word) \n",
        "# 안녕 \n",
        "#하\n",
        "#세\n",
        "#요\n",
        "\n",
        "print(type(word)) #str "
      ],
      "metadata": {
        "colab": {
          "base_uri": "https://localhost:8080/"
        },
        "id": "E-YiL1Urct7s",
        "outputId": "7874da27-c636-41c1-bf16-f3534892b973"
      },
      "execution_count": 40,
      "outputs": [
        {
          "output_type": "stream",
          "name": "stdout",
          "text": [
            " 안녕\n",
            "하 \n",
            "세 \n",
            "요\n",
            "\n",
            "<class 'str'>\n"
          ]
        }
      ]
    },
    {
      "cell_type": "code",
      "source": [
        "#큰따옴표 \"\"\" 3개를 연속 \n",
        "\n",
        "word= \"\"\" 안녕\n",
        "하\n",
        "세\n",
        "요\n",
        "\"\"\"\n",
        "print(word)\n",
        "# 안녕\n",
        "#하\n",
        "#세\n",
        "#요\n",
        "\n",
        "print(type(word)) #str"
      ],
      "metadata": {
        "colab": {
          "base_uri": "https://localhost:8080/"
        },
        "id": "16Mst19kdE-K",
        "outputId": "ea3a4895-ed12-4f61-cee8-6024f7b9c437"
      },
      "execution_count": 42,
      "outputs": [
        {
          "output_type": "stream",
          "name": "stdout",
          "text": [
            " 안녕\n",
            "하\n",
            "세\n",
            "요\n",
            "\n",
            "<class 'str'>\n"
          ]
        }
      ]
    },
    {
      "cell_type": "code",
      "source": [
        "#bool (참/거짓)\n",
        "#True ,False는 T와 F, 반드시 대문자로 표기 \n",
        "\n",
        "a = False \n",
        "print(a) #False\n",
        "print(type(a)) #bool"
      ],
      "metadata": {
        "colab": {
          "base_uri": "https://localhost:8080/"
        },
        "id": "WXmCKZo1dWS4",
        "outputId": "ac1476b8-f815-44eb-e798-f390ad121404"
      },
      "execution_count": 46,
      "outputs": [
        {
          "output_type": "stream",
          "name": "stdout",
          "text": [
            "False\n",
            "<class 'bool'>\n"
          ]
        }
      ]
    },
    {
      "cell_type": "code",
      "source": [
        "#정수 1은 True\n",
        "#정수 0은 False \n",
        "#파이썬에서의 같다는 == 기호로 사용 \n",
        "\n",
        "1 == True\n",
        "0 == False \n",
        "\n",
        "print(type(True)) #bool\n",
        "print(type(1)) #Int\n",
        "print(type(False)) #bool\n",
        "print(type(0)) #int \n"
      ],
      "metadata": {
        "colab": {
          "base_uri": "https://localhost:8080/"
        },
        "id": "r8JsbS8jd8H_",
        "outputId": "ed0d9653-d9a2-419e-d11d-30dfaee3a1ef"
      },
      "execution_count": 53,
      "outputs": [
        {
          "output_type": "stream",
          "name": "stdout",
          "text": [
            "<class 'bool'>\n",
            "<class 'int'>\n",
            "<class 'bool'>\n",
            "<class 'int'>\n"
          ]
        }
      ]
    },
    {
      "cell_type": "code",
      "source": [
        "print( 1 == True ) #True\n",
        "print( 1 == False) #False \n",
        "print( 0 == True) #False\n",
        "print( 1 == True) #True\n",
        "print( 1 != True) #False\n",
        "print(0 != True ) #True\n",
        "print( 1 != False) #True \n",
        "print( 0 != False) #False "
      ],
      "metadata": {
        "colab": {
          "base_uri": "https://localhost:8080/"
        },
        "id": "eDK_Stt7fNuI",
        "outputId": "6a8ab1ec-edf7-4e98-efef-1129d09a6465"
      },
      "execution_count": 54,
      "outputs": [
        {
          "output_type": "stream",
          "name": "stdout",
          "text": [
            "True\n",
            "False\n",
            "False\n",
            "True\n",
            "False\n",
            "True\n",
            "True\n",
            "False\n"
          ]
        }
      ]
    },
    {
      "cell_type": "code",
      "source": [
        "# None 타입 : 아무 것도 아닌 Null 값을 넣는다 \n",
        "#NIll: Nullify(무효화하다)라는 뜻을 가지고 있음 \n",
        "#python에서는 None\n",
        "\n",
        "a= None\n",
        "print(type(a)) #NoneType\n",
        "print(a) #None"
      ],
      "metadata": {
        "colab": {
          "base_uri": "https://localhost:8080/"
        },
        "id": "aye0lvwffQHf",
        "outputId": "3136c170-befd-4946-b727-23a61be32084"
      },
      "execution_count": 59,
      "outputs": [
        {
          "output_type": "stream",
          "name": "stdout",
          "text": [
            "<class 'NoneType'>\n",
            "None\n"
          ]
        }
      ]
    },
    {
      "cell_type": "code",
      "source": [
        "#타입 변환 \n",
        "#int -> float \n",
        "\n",
        "a= 1\n",
        "print(type(a)) #int \n",
        "\n",
        "print(float(a)) #1.0"
      ],
      "metadata": {
        "colab": {
          "base_uri": "https://localhost:8080/"
        },
        "id": "iNPMjQeifvmR",
        "outputId": "c5d94308-ec1e-4679-9dff-d020fa578647"
      },
      "execution_count": 62,
      "outputs": [
        {
          "output_type": "stream",
          "name": "stdout",
          "text": [
            "<class 'int'>\n",
            "1.0\n"
          ]
        }
      ]
    },
    {
      "cell_type": "code",
      "source": [
        "#float -> int \n",
        "b=3.99\n",
        "print(int(b)) #3"
      ],
      "metadata": {
        "colab": {
          "base_uri": "https://localhost:8080/"
        },
        "id": "3-scF6Ldf9Mt",
        "outputId": "1fc8fbb5-9dbf-43a2-e137-19d85df6ca53"
      },
      "execution_count": 63,
      "outputs": [
        {
          "output_type": "stream",
          "name": "stdout",
          "text": [
            "3\n"
          ]
        }
      ]
    },
    {
      "cell_type": "code",
      "source": [
        "#bool -> int \n",
        "c= True \n",
        "print(int(c)) #1 \n",
        "\n",
        "d= False \n",
        "print(int(d)) #0"
      ],
      "metadata": {
        "colab": {
          "base_uri": "https://localhost:8080/"
        },
        "id": "u7roxclfgEzl",
        "outputId": "549d2833-f6b9-47e1-d6d0-b8afe6c2ce01"
      },
      "execution_count": 65,
      "outputs": [
        {
          "output_type": "execute_result",
          "data": {
            "text/plain": [
              "0"
            ]
          },
          "metadata": {},
          "execution_count": 65
        }
      ]
    },
    {
      "cell_type": "code",
      "source": [
        "#bool -> float \n",
        "\n",
        "print(float(True)) #1.0"
      ],
      "metadata": {
        "colab": {
          "base_uri": "https://localhost:8080/"
        },
        "id": "MKBGBkYvgWlz",
        "outputId": "782728ae-48ff-4f97-f1d3-a407298c8dfa"
      },
      "execution_count": 66,
      "outputs": [
        {
          "output_type": "stream",
          "name": "stdout",
          "text": [
            "1.0\n"
          ]
        }
      ]
    },
    {
      "cell_type": "code",
      "source": [
        "#파이썬에서 0이 아닌 값은 모두 True로 간주 \n",
        "\n",
        "print(bool(1)) #True\n",
        "print(bool(0.8)) #True\n",
        "print(bool(0)) #False \n"
      ],
      "metadata": {
        "colab": {
          "base_uri": "https://localhost:8080/"
        },
        "id": "6vX-7u8FhX1c",
        "outputId": "8e56e877-cbe2-4ca6-d997-72cbb04600e8"
      },
      "execution_count": 71,
      "outputs": [
        {
          "output_type": "stream",
          "name": "stdout",
          "text": [
            "True\n",
            "True\n",
            "False\n"
          ]
        }
      ]
    }
  ]
}