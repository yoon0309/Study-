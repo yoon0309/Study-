{
  "cells": [
    {
      "cell_type": "markdown",
      "metadata": {
        "id": "Ezhvg_yF8F-y"
      },
      "source": [
        "python의 class와 상속(inheritance)의 개념 \n",
        "\n",
        "\n",
        "python 문법에서 상속(inheritance)?\n",
        "부모클래스(Super Class)의 속성(property)과 함수(method)를 그대로 물려받는 개념 \n",
        "\n",
        "Super Class의 내용을 자식 클래스(Sub Class)가 물려 받게 되면 \n",
        "Super Class의 속성과 함수를 자식클래스에서 사용\n",
        "\n",
        "\n",
        "class에 속한 함수(method)는 첫 번째 인자로 self를 입력,\n",
        "자식클래스의 함수를 재정의하게 되면, 재정의된 함수로 실행되게 됨 "
      ]
    },
    {
      "cell_type": "code",
      "execution_count": 1,
      "metadata": {},
      "outputs": [],
      "source": [
        "class Person:   \n",
        "    \"\"\"Super Class\"\"\"\n",
        "    toral_count = 0 \n",
        "\n",
        "    #생성자 메서드(method)\n",
        "    def __init__(self):\n",
        "        self.name= '홍길동'\n",
        "        self.age= 1\n",
        "        Person.toral_count+=1\n",
        "    \n",
        "    #class내 정의된 메서드(method)\n",
        "    def introduce(self):\n",
        "        print(f'제 이름은 {self.name}이고, 나이는 {self.age}살 입니다.')"
      ]
    },
    {
      "cell_type": "markdown",
      "metadata": {},
      "source": [
        "인스턴스(instance) 생상과 객체(object)\n",
        "\n",
        "객체는 바로 밑의 예시에서 p1,p2,p3를 말함 \n",
        "\n",
        "정의된 클래스(class)로부터 생성된 녀석을 인스턴스(instance) 혹은 객체(object)라고 함 "
      ]
    },
    {
      "cell_type": "code",
      "execution_count": 3,
      "metadata": {},
      "outputs": [],
      "source": [
        "p1 = Person()\n",
        "p2 = Person()\n",
        "p3 = Person()"
      ]
    },
    {
      "cell_type": "code",
      "execution_count": 4,
      "metadata": {},
      "outputs": [
        {
          "name": "stdout",
          "output_type": "stream",
          "text": [
            "제 이름은 홍길동이고, 나이는 1살 입니다.\n"
          ]
        }
      ],
      "source": [
        "p1. introduce()"
      ]
    },
    {
      "cell_type": "markdown",
      "metadata": {},
      "source": [
        "클래스로 만든 객체를 인스턴스 \n",
        "\n",
        "객체와 인스턴스의 차이는 무엇일까?\n",
        "p1= person(), p1 객체 \n",
        "\n",
        "p1객체는 Person의 인스턴스 \n",
        "\n",
        "인스턴스? 특정객체(p1)가 어떤 클래스(Person)의 객체인지를 관계 위주로 설명할 때 사용한다 \n",
        "\"p1은 인스턴스\"보다는 \"p1은 객체\"라는 표현이 어울리며 \"p1은 Person의 객체\"\n",
        "\"p1은 Person의 인스턴스\""
      ]
    },
    {
      "cell_type": "markdown",
      "metadata": {},
      "source": [
        "클래스 변수의 출력 \n",
        "클래스 변수는 모든 클래스가 공유하게 됨 \n",
        "클래스의 객체가 3번 만들어 졌기 때문에 3이 출력되는 것을 확인할 수 있음"
      ]
    },
    {
      "cell_type": "code",
      "execution_count": 5,
      "metadata": {},
      "outputs": [],
      "source": [
        "class Person:\n",
        "    \"\"\"Super Class\"\"\"\n",
        "    # 클래스 변수\n",
        "    total_count = 0\n",
        "    \n",
        "    # 생성자 메서드\n",
        "    def __init__(self, name, age):\n",
        "        self.name = name\n",
        "        self.age = age\n",
        "        Person.total_count+=1\n",
        "    \n",
        "    # class내 정의된 함수(method)\n",
        "    def introduce(self):\n",
        "        print(f'제 이름은 {self.name} 이고, 나이는 {self.age}살 입니다.')"
      ]
    },
    {
      "cell_type": "code",
      "execution_count": 7,
      "metadata": {},
      "outputs": [
        {
          "ename": "NameError",
          "evalue": "name 'person' is not defined",
          "output_type": "error",
          "traceback": [
            "\u001b[1;31m---------------------------------------------------------------------------\u001b[0m",
            "\u001b[1;31mNameError\u001b[0m                                 Traceback (most recent call last)",
            "\u001b[1;32mc:\\Users\\SAMSUNG\\OneDrive\\바탕 화면\\codestates\\Study-\\python exercises\\클래스 상속.ipynb Cell 9'\u001b[0m in \u001b[0;36m<cell line: 1>\u001b[1;34m()\u001b[0m\n\u001b[1;32m----> <a href='vscode-notebook-cell:/c%3A/Users/SAMSUNG/OneDrive/%EB%B0%94%ED%83%95%20%ED%99%94%EB%A9%B4/codestates/Study-/python%20exercises/%ED%81%B4%EB%9E%98%EC%8A%A4%20%EC%83%81%EC%86%8D.ipynb#ch0000031?line=0'>1</a>\u001b[0m p4 \u001b[39m=\u001b[39m person()\n",
            "\u001b[1;31mNameError\u001b[0m: name 'person' is not defined"
          ]
        }
      ],
      "source": [
        "# 생성자 메서드가 재정의 되었기 때문\n",
        "p4 = person()"
      ]
    },
    {
      "cell_type": "code",
      "execution_count": 8,
      "metadata": {},
      "outputs": [
        {
          "name": "stdout",
          "output_type": "stream",
          "text": [
            "제 이름은 김철수 이고, 나이는 22살 입니다.\n"
          ]
        }
      ],
      "source": [
        "p5 = Person('김철수', 22)\n",
        "p5.introduce()"
      ]
    },
    {
      "cell_type": "markdown",
      "metadata": {},
      "source": [
        "클래스 상속(inheritance) 받기 "
      ]
    },
    {
      "cell_type": "code",
      "execution_count": 9,
      "metadata": {},
      "outputs": [],
      "source": [
        "class Student(Person):\n",
        "    \"\"\"Sub Class\"\"\"\n",
        "\n",
        "    def __init__(self):\n",
        "        super().__init__()\n",
        "\n",
        "    def print_name(self):\n",
        "        print(f'제 이름은 {self.name} 입니다.')\n",
        "        \n",
        "    def print_age(self):\n",
        "        print(f'제 나이는 {self.age} 입니다.')"
      ]
    },
    {
      "cell_type": "code",
      "execution_count": 10,
      "metadata": {},
      "outputs": [
        {
          "ename": "TypeError",
          "evalue": "Person.__init__() missing 2 required positional arguments: 'name' and 'age'",
          "output_type": "error",
          "traceback": [
            "\u001b[1;31m---------------------------------------------------------------------------\u001b[0m",
            "\u001b[1;31mTypeError\u001b[0m                                 Traceback (most recent call last)",
            "\u001b[1;32mc:\\Users\\SAMSUNG\\OneDrive\\바탕 화면\\codestates\\Study-\\python exercises\\클래스 상속.ipynb Cell 13'\u001b[0m in \u001b[0;36m<cell line: 1>\u001b[1;34m()\u001b[0m\n\u001b[1;32m----> <a href='vscode-notebook-cell:/c%3A/Users/SAMSUNG/OneDrive/%EB%B0%94%ED%83%95%20%ED%99%94%EB%A9%B4/codestates/Study-/python%20exercises/%ED%81%B4%EB%9E%98%EC%8A%A4%20%EC%83%81%EC%86%8D.ipynb#ch0000034?line=0'>1</a>\u001b[0m s1 \u001b[39m=\u001b[39m Student()\n",
            "\u001b[1;32mc:\\Users\\SAMSUNG\\OneDrive\\바탕 화면\\codestates\\Study-\\python exercises\\클래스 상속.ipynb Cell 12'\u001b[0m in \u001b[0;36mStudent.__init__\u001b[1;34m(self)\u001b[0m\n\u001b[0;32m      <a href='vscode-notebook-cell:/c%3A/Users/SAMSUNG/OneDrive/%EB%B0%94%ED%83%95%20%ED%99%94%EB%A9%B4/codestates/Study-/python%20exercises/%ED%81%B4%EB%9E%98%EC%8A%A4%20%EC%83%81%EC%86%8D.ipynb#ch0000032?line=3'>4</a>\u001b[0m \u001b[39mdef\u001b[39;00m \u001b[39m__init__\u001b[39m(\u001b[39mself\u001b[39m):\n\u001b[1;32m----> <a href='vscode-notebook-cell:/c%3A/Users/SAMSUNG/OneDrive/%EB%B0%94%ED%83%95%20%ED%99%94%EB%A9%B4/codestates/Study-/python%20exercises/%ED%81%B4%EB%9E%98%EC%8A%A4%20%EC%83%81%EC%86%8D.ipynb#ch0000032?line=4'>5</a>\u001b[0m     \u001b[39msuper\u001b[39;49m()\u001b[39m.\u001b[39;49m\u001b[39m__init__\u001b[39;49m()\n",
            "\u001b[1;31mTypeError\u001b[0m: Person.__init__() missing 2 required positional arguments: 'name' and 'age'"
          ]
        }
      ],
      "source": [
        "s1 = Student()"
      ]
    },
    {
      "cell_type": "markdown",
      "metadata": {},
      "source": [
        "Sub Class 에서의 오류\n",
        "Student 클래스는 Person 클래스를 상속받아 구현하게 되면서, \n",
        "생성자 (init) 함수에서 name, age argument를 요구합니다. \n",
        "이 Rule을 지켜주지 못하면 에러가 발생합니다."
      ]
    },
    {
      "cell_type": "code",
      "execution_count": 11,
      "metadata": {},
      "outputs": [],
      "source": [
        "#1. super().__init__() 호출시 name과 age argument를 넘겨줌 \n",
        "\n",
        "class Student(Person):\n",
        "    \"\"\"Sub Class\"\"\"\n",
        "\n",
        "    def __init__(self):\n",
        "        super().__init__('테디', 30)\n",
        "\n",
        "student= Student()"
      ]
    },
    {
      "cell_type": "code",
      "execution_count": 15,
      "metadata": {},
      "outputs": [],
      "source": [
        "#2. Student 클래스의 ___init__()을 .__init__(name, age)인자를 받는 생성자 메서드로 재정의\n",
        "\n",
        "class Student(Person):\n",
        "    \"\"\"Sub Class\"\"\"\n",
        "    def __init__(self, name, age):\n",
        "        super().__init__(name, age)"
      ]
    },
    {
      "cell_type": "code",
      "execution_count": 16,
      "metadata": {},
      "outputs": [
        {
          "name": "stdout",
          "output_type": "stream",
          "text": [
            "제 이름은 테디 이고, 나이는 30살 입니다.\n"
          ]
        }
      ],
      "source": [
        "student = Student('테디', 30)\n",
        "student.introduce()"
      ]
    },
    {
      "cell_type": "markdown",
      "metadata": {},
      "source": [
        "메서드 오버라이딩 \n",
        "\n",
        "부모로부터 물려받은(상속받은) 메서드를 재정의하여 사용할 때 사용함 \n",
        "\n",
        "부모로부터 물려받은 다른 기능은 그대로 사용하되, 몇몇 메서드만 수정하여 활용하고 싶을 때 사용함 "
      ]
    },
    {
      "cell_type": "code",
      "execution_count": null,
      "metadata": {},
      "outputs": [],
      "source": [
        "Class Person:\n",
        "    \"\"\"Super Class\"\"\"\n",
        "\n",
        "    #Person의 생성자 메서드 \n",
        "    def ___init___(self, name='홍길동', age=20)\n",
        "        self.name = name \n",
        "        self.age = age \n",
        "        "
      ]
    }
  ],
  "metadata": {
    "colab": {
      "name": "연산.ipynb",
      "provenance": []
    },
    "interpreter": {
      "hash": "d4dae4ea8e5f4de9e76d858a9174cd4657e40ccbbb94f8495095b398f7d4021b"
    },
    "kernelspec": {
      "display_name": "Python 3.10.4 64-bit (windows store)",
      "language": "python",
      "name": "python3"
    },
    "language_info": {
      "codemirror_mode": {
        "name": "ipython",
        "version": 3
      },
      "file_extension": ".py",
      "mimetype": "text/x-python",
      "name": "python",
      "nbconvert_exporter": "python",
      "pygments_lexer": "ipython3",
      "version": "3.10.5"
    }
  },
  "nbformat": 4,
  "nbformat_minor": 0
}
