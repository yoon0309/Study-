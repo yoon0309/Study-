{
  "cells": [
    {
      "cell_type": "markdown",
      "metadata": {
        "id": "MsXavsZbhHdC"
      },
      "source": [
        "#teddylee777/machine-learning의 자료구조 - 파이썬 연습 \n",
        "\n",
        "세트(set)\n",
        "\n",
        "- 세트는 순서가 보장되지 않는다\n",
        "- 세트는 요소의 중복을 허용하지 않는다 \n",
        "- 세트는 ()를 활용하여 생성할 수 있다       "
      ]
    },
    {
      "cell_type": "code",
      "execution_count": 32,
      "metadata": {
        "id": "mIcLvRL1M3sQ",
        "outputId": "8f89e650-523b-46c4-a1e4-36b2df22e7fe",
        "colab": {
          "base_uri": "https://localhost:8080/"
        }
      },
      "outputs": [
        {
          "output_type": "execute_result",
          "data": {
            "text/plain": [
              "set()"
            ]
          },
          "metadata": {},
          "execution_count": 32
        }
      ],
      "source": [
        "mset= set()\n",
        "mset"
      ]
    },
    {
      "cell_type": "code",
      "execution_count": 33,
      "metadata": {
        "id": "OnDLbZ9JM3sS",
        "outputId": "ca3de6b4-407a-45c0-e779-1cd80b089416",
        "colab": {
          "base_uri": "https://localhost:8080/"
        }
      },
      "outputs": [
        {
          "output_type": "execute_result",
          "data": {
            "text/plain": [
              "{1, 2, 3, 4, 5}"
            ]
          },
          "metadata": {},
          "execution_count": 33
        }
      ],
      "source": [
        "mset = set([1,2,3,4,5,4,5,2,3,1])\n",
        "mset"
      ]
    },
    {
      "cell_type": "code",
      "execution_count": 34,
      "metadata": {
        "id": "lppXJDfGM3sS",
        "outputId": "2ba030c9-27c3-4de4-923d-25c2623313d4",
        "colab": {
          "base_uri": "https://localhost:8080/"
        }
      },
      "outputs": [
        {
          "output_type": "execute_result",
          "data": {
            "text/plain": [
              "{1, 2, 3, 4}"
            ]
          },
          "metadata": {},
          "execution_count": 34
        }
      ],
      "source": [
        "mset= set((1,2,3,4,2,2,3,1,2))\n",
        "mset\n"
      ]
    },
    {
      "cell_type": "code",
      "execution_count": 35,
      "metadata": {
        "id": "pTcFKM41M3sT",
        "outputId": "4cb96d0c-151e-473f-eb4b-5326457384d3",
        "colab": {
          "base_uri": "https://localhost:8080/"
        }
      },
      "outputs": [
        {
          "output_type": "execute_result",
          "data": {
            "text/plain": [
              "{1, 2, 3, 4}"
            ]
          },
          "metadata": {},
          "execution_count": 35
        }
      ],
      "source": [
        "#딕셔너리의 형태에 넣었으므로 딕셔너리형태로 출력된다\n",
        "mset = {1,2,3,4,2,1,1,1,1,2}\n",
        "mset"
      ]
    },
    {
      "cell_type": "markdown",
      "metadata": {
        "id": "bM93OvITM3sT"
      },
      "source": [
        "add() : 값 추가 \n",
        "set에 요소를 추가함"
      ]
    },
    {
      "cell_type": "code",
      "execution_count": 36,
      "metadata": {
        "id": "1vrQwJeqM3sU"
      },
      "outputs": [],
      "source": [
        "#빈 set 생성\n",
        "mset=set()\n"
      ]
    },
    {
      "cell_type": "code",
      "execution_count": 37,
      "metadata": {
        "id": "ao5p8wYsM3sU"
      },
      "outputs": [],
      "source": [
        "#add()로 요소를 추가함 \n",
        "\n",
        "mset.add(1)\n",
        "mset.add(3)\n",
        "mset.add(2)\n",
        "\n",
        "mset.add(2)\n",
        "mset.add(3)\n",
        "mset.add(1)"
      ]
    },
    {
      "cell_type": "markdown",
      "metadata": {
        "id": "k_4iPL4lM3sV"
      },
      "source": [
        "잊지말자, set를 빼고 ()만 넣으면 튜플형태라는 것 \n",
        "튜플은 순서가 있고 불변이라는 것... "
      ]
    },
    {
      "cell_type": "code",
      "execution_count": 38,
      "metadata": {
        "id": "wJqnUJP2ZdjK",
        "outputId": "1f3e5c96-a840-4792-82a8-2996ac9b3bb0",
        "colab": {
          "base_uri": "https://localhost:8080/"
        }
      },
      "outputs": [
        {
          "output_type": "execute_result",
          "data": {
            "text/plain": [
              "{1, 2, 3}"
            ]
          },
          "metadata": {},
          "execution_count": 38
        }
      ],
      "source": [
        "mset"
      ]
    },
    {
      "cell_type": "markdown",
      "metadata": {
        "id": "FMPGvmQPM3sW"
      },
      "source": [
        "update(): 여러개 값 추가 \n",
        " 여러개의 값을 한꺼번에 추가하고자 할 때는 update()메서드를 이용"
      ]
    },
    {
      "cell_type": "code",
      "execution_count": 39,
      "metadata": {
        "id": "i6ys6TyIM3sW",
        "outputId": "d093c7b2-deb9-4d72-e43d-9586e7b73d13",
        "colab": {
          "base_uri": "https://localhost:8080/"
        }
      },
      "outputs": [
        {
          "output_type": "execute_result",
          "data": {
            "text/plain": [
              "{1, 2, 3, 4, 5, 6}"
            ]
          },
          "metadata": {},
          "execution_count": 39
        }
      ],
      "source": [
        "mset= {1,2,3}\n",
        "\n",
        "#list요소들을 한꺼번에 update\n",
        "mset.update([2,4,5,6])\n",
        "mset"
      ]
    },
    {
      "cell_type": "code",
      "execution_count": 40,
      "metadata": {
        "id": "5LQBsetdM3sX",
        "outputId": "5a5b1454-ad47-429e-fe18-f327531c2667",
        "colab": {
          "base_uri": "https://localhost:8080/"
        }
      },
      "outputs": [
        {
          "output_type": "execute_result",
          "data": {
            "text/plain": [
              "{1, 2, 3, 4, 5, 6, 7, 8, 9}"
            ]
          },
          "metadata": {},
          "execution_count": 40
        }
      ],
      "source": [
        "#tuple 요소들을 한꺼번에 update \n",
        "\n",
        "mset.update((7,8,9))\n",
        "mset"
      ]
    },
    {
      "cell_type": "code",
      "execution_count": 41,
      "metadata": {
        "id": "HMv2s3S-M3sX",
        "outputId": "7b2e5d6f-9e86-4f37-f52d-f9388e9fc99d",
        "colab": {
          "base_uri": "https://localhost:8080/"
        }
      },
      "outputs": [
        {
          "output_type": "execute_result",
          "data": {
            "text/plain": [
              "{1, 2, 3, 4, 5, 6, 7, 8, 9, 10, 11, 79}"
            ]
          },
          "metadata": {},
          "execution_count": 41
        }
      ],
      "source": [
        "#set 요소들을 한꺼번에 update\n",
        "\n",
        "mset.update({10,11,79})\n",
        "mset"
      ]
    },
    {
      "cell_type": "markdown",
      "metadata": {
        "id": "TEI1bRjhM3sX"
      },
      "source": [
        "remove(): 값제거\n",
        " 단일 요소를 제거함"
      ]
    },
    {
      "cell_type": "code",
      "execution_count": 42,
      "metadata": {
        "id": "TF6RJVinM3sX",
        "outputId": "43ee164e-ff11-4377-8356-df791f7fbed9",
        "colab": {
          "base_uri": "https://localhost:8080/"
        }
      },
      "outputs": [
        {
          "output_type": "execute_result",
          "data": {
            "text/plain": [
              "{2, 3, 4, 5}"
            ]
          },
          "metadata": {},
          "execution_count": 42
        }
      ],
      "source": [
        "mset= {1,2,3,4,5}\n",
        "mset.remove(1)\n",
        "mset"
      ]
    },
    {
      "cell_type": "markdown",
      "metadata": {
        "id": "uvUwbfMkM3sY"
      },
      "source": [
        "교집합(intersection)\n",
        " 집합 A와 B가 주어졌을 때, 공통된 요소를 말함 \n",
        "  & 기호나 intersection() 메서드를 활용하여 교집합을 구할 수 있음 \n"
      ]
    },
    {
      "cell_type": "code",
      "execution_count": 43,
      "metadata": {
        "id": "DGq3EPT0M3sY",
        "outputId": "9803926d-1e03-4d87-9ae8-65f47f69640f",
        "colab": {
          "base_uri": "https://localhost:8080/"
        }
      },
      "outputs": [
        {
          "output_type": "execute_result",
          "data": {
            "text/plain": [
              "{1, 2, 3}"
            ]
          },
          "metadata": {},
          "execution_count": 43
        }
      ],
      "source": [
        "a= {1,2,3,4,5,6}\n",
        "b= {7,8,9,1,2,3}\n",
        "\n",
        "a&b"
      ]
    },
    {
      "cell_type": "code",
      "execution_count": 44,
      "metadata": {
        "id": "2cX2SbREM3sY",
        "outputId": "cfe38f65-1ecb-48db-f8bf-6dd5993272db",
        "colab": {
          "base_uri": "https://localhost:8080/"
        }
      },
      "outputs": [
        {
          "output_type": "execute_result",
          "data": {
            "text/plain": [
              "{1, 2, 3}"
            ]
          },
          "metadata": {},
          "execution_count": 44
        }
      ],
      "source": [
        "a.intersection(b)"
      ]
    },
    {
      "cell_type": "markdown",
      "metadata": {
        "id": "oo7DCtMEM3sZ"
      },
      "source": [
        "합집합(union)\n",
        " 집합 A와 B가 주어졌을 때, 집합 A,B요소를 모두 포함하는 것을 말함 \n",
        "\n",
        " | 기호 또는 union()메서드를 이용함"
      ]
    },
    {
      "cell_type": "code",
      "execution_count": 45,
      "metadata": {
        "id": "z7m9eCKJM3sZ",
        "outputId": "fb279f2a-0d2a-4eb0-d6fc-b508868b5ba6",
        "colab": {
          "base_uri": "https://localhost:8080/"
        }
      },
      "outputs": [
        {
          "output_type": "execute_result",
          "data": {
            "text/plain": [
              "{1, 2, 3, 4, 5, 6, 9}"
            ]
          },
          "metadata": {},
          "execution_count": 45
        }
      ],
      "source": [
        "a= {1,2,3,4,5,6}\n",
        "b= {3,4,5,1,2,9}\n",
        "\n",
        "a|b"
      ]
    },
    {
      "cell_type": "code",
      "execution_count": 46,
      "metadata": {
        "id": "OzizW0BAM3sZ",
        "outputId": "915799f0-707d-4015-822f-5cdb5c46d9b6",
        "colab": {
          "base_uri": "https://localhost:8080/"
        }
      },
      "outputs": [
        {
          "output_type": "execute_result",
          "data": {
            "text/plain": [
              "{1, 2, 3, 4, 5, 6, 9}"
            ]
          },
          "metadata": {},
          "execution_count": 46
        }
      ],
      "source": [
        "a.union(b)"
      ]
    },
    {
      "cell_type": "markdown",
      "metadata": {
        "id": "Hq_e-cpnM3sZ"
      },
      "source": [
        "차집합(difference)\n",
        " 두 집합에서, 하나의 집합에 포함되고 다른 집합에는 포함되지 않는 모든 원소의 집합 \n",
        "  - 연산자 활용 or differenc()메서드를 활용하여 구할 수 있음 \n"
      ]
    },
    {
      "cell_type": "code",
      "execution_count": 47,
      "metadata": {
        "id": "5CsQH7EtM3sa",
        "outputId": "722b4fb1-3b4b-4962-a983-85c2b3a78a75",
        "colab": {
          "base_uri": "https://localhost:8080/"
        }
      },
      "outputs": [
        {
          "output_type": "execute_result",
          "data": {
            "text/plain": [
              "{6}"
            ]
          },
          "metadata": {},
          "execution_count": 47
        }
      ],
      "source": [
        "a= {1,2,3,4,5,6}\n",
        "b= {3,4,5,1,2,9}\n",
        "\n",
        "a-b"
      ]
    },
    {
      "cell_type": "code",
      "execution_count": 48,
      "metadata": {
        "id": "Hi-UkWOaM3sa",
        "outputId": "dbbea056-7a47-4ef3-9cb9-5435d742ae13",
        "colab": {
          "base_uri": "https://localhost:8080/"
        }
      },
      "outputs": [
        {
          "output_type": "execute_result",
          "data": {
            "text/plain": [
              "{6}"
            ]
          },
          "metadata": {},
          "execution_count": 48
        }
      ],
      "source": [
        "a.difference(b)"
      ]
    },
    {
      "cell_type": "code",
      "execution_count": 49,
      "metadata": {
        "id": "HcKWwFqAM3sa",
        "outputId": "2721b5e4-180a-4245-ed1b-877e3cd29dba",
        "colab": {
          "base_uri": "https://localhost:8080/"
        }
      },
      "outputs": [
        {
          "output_type": "execute_result",
          "data": {
            "text/plain": [
              "{9}"
            ]
          },
          "metadata": {},
          "execution_count": 49
        }
      ],
      "source": [
        "b-a"
      ]
    },
    {
      "cell_type": "code",
      "execution_count": 50,
      "metadata": {
        "id": "VGFCShsmM3sa",
        "outputId": "8355dc06-2015-44b8-866e-5a8317251eb9",
        "colab": {
          "base_uri": "https://localhost:8080/"
        }
      },
      "outputs": [
        {
          "output_type": "execute_result",
          "data": {
            "text/plain": [
              "{9}"
            ]
          },
          "metadata": {},
          "execution_count": 50
        }
      ],
      "source": [
        "b.difference(a)"
      ]
    },
    {
      "cell_type": "markdown",
      "metadata": {
        "id": "Bg1UgLInM3sa"
      },
      "source": [
        "집합의 타입 변환 "
      ]
    },
    {
      "cell_type": "code",
      "execution_count": 51,
      "metadata": {
        "id": "Rh7blRB6M3sa",
        "outputId": "ff2fe3e1-46ee-4c47-f6d5-672465f56add",
        "colab": {
          "base_uri": "https://localhost:8080/"
        }
      },
      "outputs": [
        {
          "output_type": "execute_result",
          "data": {
            "text/plain": [
              "set"
            ]
          },
          "metadata": {},
          "execution_count": 51
        }
      ],
      "source": [
        "#set를 list로 변환\n",
        "\n",
        "a= {1,2,3,4,5,6}\n",
        "type(a)"
      ]
    },
    {
      "cell_type": "code",
      "execution_count": 52,
      "metadata": {
        "id": "ucxUjy6nM3sb",
        "outputId": "858a0ea8-3622-49b2-e3d1-513abbf13512",
        "colab": {
          "base_uri": "https://localhost:8080/"
        }
      },
      "outputs": [
        {
          "output_type": "execute_result",
          "data": {
            "text/plain": [
              "[1, 2, 3, 4, 5, 6]"
            ]
          },
          "metadata": {},
          "execution_count": 52
        }
      ],
      "source": [
        "b= list(a)\n",
        "b"
      ]
    },
    {
      "cell_type": "code",
      "execution_count": 53,
      "metadata": {
        "id": "R0nov5WwM3sb",
        "outputId": "f0dc53e7-4fd3-480f-ed5b-39913ad28544",
        "colab": {
          "base_uri": "https://localhost:8080/"
        }
      },
      "outputs": [
        {
          "output_type": "execute_result",
          "data": {
            "text/plain": [
              "list"
            ]
          },
          "metadata": {},
          "execution_count": 53
        }
      ],
      "source": [
        "type(b)"
      ]
    },
    {
      "cell_type": "code",
      "execution_count": 54,
      "metadata": {
        "id": "rAvDNAreM3sb",
        "outputId": "3cfa47db-65d6-4ad1-d67f-8146f4d7401e",
        "colab": {
          "base_uri": "https://localhost:8080/"
        }
      },
      "outputs": [
        {
          "output_type": "stream",
          "name": "stdout",
          "text": [
            "[1, 2, 3, 4, 5, 2, 2, 2, 1, 2, 6, 7]\n"
          ]
        },
        {
          "output_type": "execute_result",
          "data": {
            "text/plain": [
              "list"
            ]
          },
          "metadata": {},
          "execution_count": 54
        }
      ],
      "source": [
        "#list를 set로 변환 \n",
        " #중복을 제거할 때 많이 활용함 \n",
        "\n",
        "a= [1,2,3,4,5,2,2,2,1,2,6,7]\n",
        "print(a)\n",
        "type(a)"
      ]
    },
    {
      "cell_type": "code",
      "execution_count": 55,
      "metadata": {
        "id": "yq7iP-28M3sb",
        "outputId": "1cc09677-d60d-44ee-db25-dbd126c2ea30",
        "colab": {
          "base_uri": "https://localhost:8080/"
        }
      },
      "outputs": [
        {
          "output_type": "execute_result",
          "data": {
            "text/plain": [
              "{1, 2, 3, 4, 5, 6, 7}"
            ]
          },
          "metadata": {},
          "execution_count": 55
        }
      ],
      "source": [
        "b= set(a)\n",
        "b"
      ]
    },
    {
      "cell_type": "code",
      "execution_count": 56,
      "metadata": {
        "id": "ZFqFkJZVM3sb",
        "outputId": "ad279086-3467-46fe-ee7c-75fd7dea54c8",
        "colab": {
          "base_uri": "https://localhost:8080/"
        }
      },
      "outputs": [
        {
          "output_type": "execute_result",
          "data": {
            "text/plain": [
              "[1, 2, 3, 4, 5, 6, 7]"
            ]
          },
          "metadata": {},
          "execution_count": 56
        }
      ],
      "source": [
        "#b를 다시 list 자료형으로 변환 \n",
        "\n",
        "b=list(b)\n",
        "b"
      ]
    },
    {
      "cell_type": "markdown",
      "metadata": {
        "id": "dqVaLlXVM3sb"
      },
      "source": [
        "딕셔너리(dictionary)\n",
        " -순서를 가지지 않음 \n",
        " -키와 값의 쌍으로 이루어져있음 \n",
        " -type은 dict로 표시됨\n",
        " -key를 사용하여 값을 조회할 수 있음 \n",
        " -딕셔너리는 수정, 삭제, 추가가 가능 \n"
      ]
    },
    {
      "cell_type": "code",
      "execution_count": 57,
      "metadata": {
        "id": "fxqMq0tGM3sb",
        "outputId": "88f6b9de-03e5-4033-f50a-d86ad9c55c22",
        "colab": {
          "base_uri": "https://localhost:8080/"
        }
      },
      "outputs": [
        {
          "output_type": "stream",
          "name": "stdout",
          "text": [
            "<class 'dict'>\n"
          ]
        },
        {
          "output_type": "execute_result",
          "data": {
            "text/plain": [
              "{}"
            ]
          },
          "metadata": {},
          "execution_count": 57
        }
      ],
      "source": [
        "#생성 \n",
        "\n",
        "mdict= dict()\n",
        "print(type(mdict))\n",
        "mdict"
      ]
    },
    {
      "cell_type": "code",
      "execution_count": 58,
      "metadata": {
        "id": "0PDHYYpyM3sc",
        "outputId": "151039b8-58ec-4e7e-87cf-e7906ac4f3a0",
        "colab": {
          "base_uri": "https://localhost:8080/"
        }
      },
      "outputs": [
        {
          "output_type": "stream",
          "name": "stdout",
          "text": [
            "<class 'dict'>\n"
          ]
        },
        {
          "output_type": "execute_result",
          "data": {
            "text/plain": [
              "{'a': 1, 'b': 2, 'c': 3}"
            ]
          },
          "metadata": {},
          "execution_count": 58
        }
      ],
      "source": [
        "mdict = {'a':1, 'b':2 , 'c':3}\n",
        "print(type(mdict))\n",
        "mdict"
      ]
    },
    {
      "cell_type": "code",
      "execution_count": 59,
      "metadata": {
        "id": "wXny5k7DM3sc",
        "outputId": "29141abc-5c59-4bf6-e4ae-64623df75af5",
        "colab": {
          "base_uri": "https://localhost:8080/"
        }
      },
      "outputs": [
        {
          "output_type": "execute_result",
          "data": {
            "text/plain": [
              "{100: 3, 2.1: 4, True: 5, 'a': 1, '가': 2}"
            ]
          },
          "metadata": {},
          "execution_count": 59
        }
      ],
      "source": [
        "#딕셔너리는 여러 타입의 key를 가질 수 있음 \n",
        "\n",
        "mdict= {'a':1, '가':2, 100:3, 2.1:4, True:5}\n",
        "mdict"
      ]
    },
    {
      "cell_type": "code",
      "execution_count": 60,
      "metadata": {
        "id": "wykJ7WP9M3sc",
        "outputId": "7e2c5726-1d11-49de-8c83-8aba8f5eb892",
        "colab": {
          "base_uri": "https://localhost:8080/"
        }
      },
      "outputs": [
        {
          "output_type": "execute_result",
          "data": {
            "text/plain": [
              "1"
            ]
          },
          "metadata": {},
          "execution_count": 60
        }
      ],
      "source": [
        "#값 조회 key 값으로 값을 조회할 수 있음\n",
        "\n",
        "mdict['a']\n",
        "\n",
        "#원래 error뜰 내용이 아님..\n",
        "# 1"
      ]
    },
    {
      "cell_type": "code",
      "execution_count": 61,
      "metadata": {
        "id": "VRoBNs5LM3sc",
        "outputId": "c6a17d11-4760-438b-f80b-7e09406081f9",
        "colab": {
          "base_uri": "https://localhost:8080/"
        }
      },
      "outputs": [
        {
          "output_type": "execute_result",
          "data": {
            "text/plain": [
              "1"
            ]
          },
          "metadata": {},
          "execution_count": 61
        }
      ],
      "source": [
        "#get()메서드를 활용하여 값을 조회\n",
        "\n",
        "mdict.get('a')\n",
        "\n",
        "#1"
      ]
    },
    {
      "cell_type": "code",
      "execution_count": 62,
      "metadata": {
        "id": "b0ELuxjhM3sc"
      },
      "outputs": [],
      "source": [
        "#get()을 사용하면 key가 없는 경우라도 Error가 발생하지 않습니다. 단지 None이 반환됩니다.\n",
        "\n",
        "mdict.get('b')"
      ]
    },
    {
      "cell_type": "markdown",
      "metadata": {
        "id": "PJEhd5pSM3sd"
      },
      "source": [
        "keys(): 모든 key 조회"
      ]
    },
    {
      "cell_type": "code",
      "execution_count": 63,
      "metadata": {
        "id": "luV28V4hM3sd",
        "outputId": "d9d340a6-2907-4fc9-fa56-ac184c3acb6e",
        "colab": {
          "base_uri": "https://localhost:8080/"
        }
      },
      "outputs": [
        {
          "output_type": "execute_result",
          "data": {
            "text/plain": [
              "{'a': 100, 'b': 200, 'c': 300, 'd': 400, 'e': 500}"
            ]
          },
          "metadata": {},
          "execution_count": 63
        }
      ],
      "source": [
        "mydict = {'a': 100, 'b': 200, 'c': 300, 'd': 400, 'e': 500}\n",
        "mydict"
      ]
    },
    {
      "cell_type": "code",
      "execution_count": 64,
      "metadata": {
        "id": "OcXSFW4MM3sd",
        "outputId": "66b5d4bb-0f30-4c6d-dd85-f5d6e66cd177",
        "colab": {
          "base_uri": "https://localhost:8080/"
        }
      },
      "outputs": [
        {
          "output_type": "execute_result",
          "data": {
            "text/plain": [
              "dict_keys(['a', 'b', 'c', 'd', 'e'])"
            ]
          },
          "metadata": {},
          "execution_count": 64
        }
      ],
      "source": [
        "mydict.keys()"
      ]
    },
    {
      "cell_type": "markdown",
      "metadata": {
        "id": "kdKT-stuM3sd"
      },
      "source": [
        "dict_keys는 리스트(list)가 아님 \n",
        "객체(object)로 생성되는데, 이를 list로 변경하기 위해서는 list()로 타입 변환을 하면 됨 "
      ]
    },
    {
      "cell_type": "markdown",
      "metadata": {
        "id": "WSlTQ4I4M3sd"
      },
      "source": [
        "values(): 모든 value조회"
      ]
    },
    {
      "cell_type": "code",
      "execution_count": 65,
      "metadata": {
        "id": "nzYCKWWDM3sd",
        "outputId": "8e65e5ec-8fc9-49de-ab62-b1a3aee57feb",
        "colab": {
          "base_uri": "https://localhost:8080/"
        }
      },
      "outputs": [
        {
          "output_type": "execute_result",
          "data": {
            "text/plain": [
              "dict_values([100, 200, 300, 400, 500])"
            ]
          },
          "metadata": {},
          "execution_count": 65
        }
      ],
      "source": [
        "mydict.values()"
      ]
    },
    {
      "cell_type": "markdown",
      "metadata": {
        "id": "aF0pI30SM3sd"
      },
      "source": [
        "items(): 모든 key, value 조회"
      ]
    },
    {
      "cell_type": "code",
      "execution_count": 66,
      "metadata": {
        "id": "qLSxL5ZpM3se",
        "outputId": "bbb1625d-3417-451c-f79f-0567113169cc",
        "colab": {
          "base_uri": "https://localhost:8080/"
        }
      },
      "outputs": [
        {
          "output_type": "execute_result",
          "data": {
            "text/plain": [
              "dict_items([('a', 100), ('b', 200), ('c', 300), ('d', 400), ('e', 500)])"
            ]
          },
          "metadata": {},
          "execution_count": 66
        }
      ],
      "source": [
        "mydict.items()"
      ]
    },
    {
      "cell_type": "code",
      "execution_count": 67,
      "metadata": {
        "id": "0BrpljgiM3se",
        "outputId": "f3761332-496c-444f-bd24-6e37f8af96f1",
        "colab": {
          "base_uri": "https://localhost:8080/"
        }
      },
      "outputs": [
        {
          "output_type": "execute_result",
          "data": {
            "text/plain": [
              "[('a', 100), ('b', 200), ('c', 300), ('d', 400), ('e', 500)]"
            ]
          },
          "metadata": {},
          "execution_count": 67
        }
      ],
      "source": [
        "list(mydict.items())"
      ]
    },
    {
      "cell_type": "markdown",
      "metadata": {
        "id": "2bw--NGsM3se"
      },
      "source": [
        "key 값의 존재 유무 확인 "
      ]
    },
    {
      "cell_type": "code",
      "execution_count": 68,
      "metadata": {
        "id": "eqFkJf1rM3se",
        "outputId": "a990d367-841f-4874-b2b2-a86429a7c349",
        "colab": {
          "base_uri": "https://localhost:8080/"
        }
      },
      "outputs": [
        {
          "output_type": "execute_result",
          "data": {
            "text/plain": [
              "True"
            ]
          },
          "metadata": {},
          "execution_count": 68
        }
      ],
      "source": [
        "'a' in mydict"
      ]
    },
    {
      "cell_type": "code",
      "execution_count": 69,
      "metadata": {
        "id": "vLlkVFUnM3se",
        "outputId": "4c69f918-c010-49ac-bca9-3020351a6abb",
        "colab": {
          "base_uri": "https://localhost:8080/"
        }
      },
      "outputs": [
        {
          "output_type": "execute_result",
          "data": {
            "text/plain": [
              "False"
            ]
          },
          "metadata": {},
          "execution_count": 69
        }
      ],
      "source": [
        "'f' in mydict"
      ]
    },
    {
      "cell_type": "markdown",
      "metadata": {
        "id": "4pjgMv9qM3se"
      },
      "source": [
        "값을 추가하기 \n",
        " 새로운 key에 값을 대입하여 추가 "
      ]
    },
    {
      "cell_type": "code",
      "execution_count": 70,
      "metadata": {
        "id": "MsBBfa6UM3se",
        "outputId": "3e7aa0c7-3f77-44d5-ab80-036621bfd67c",
        "colab": {
          "base_uri": "https://localhost:8080/"
        }
      },
      "outputs": [
        {
          "output_type": "execute_result",
          "data": {
            "text/plain": [
              "{}"
            ]
          },
          "metadata": {},
          "execution_count": 70
        }
      ],
      "source": [
        "mydict= dict()\n",
        "mydict"
      ]
    },
    {
      "cell_type": "code",
      "execution_count": 71,
      "metadata": {
        "id": "FVX7gyD4M3sf",
        "outputId": "963c55cf-76fe-492b-c18a-7733108ff9cb",
        "colab": {
          "base_uri": "https://localhost:8080/"
        }
      },
      "outputs": [
        {
          "output_type": "execute_result",
          "data": {
            "text/plain": [
              "123"
            ]
          },
          "metadata": {},
          "execution_count": 71
        }
      ],
      "source": [
        "mydict['apple'] =123\n",
        "mydict['apple']"
      ]
    },
    {
      "cell_type": "code",
      "execution_count": 72,
      "metadata": {
        "id": "6VpJf-DqM3sf",
        "outputId": "db32b0a1-106c-4bd1-a2fc-ba1108c83989",
        "colab": {
          "base_uri": "https://localhost:8080/"
        }
      },
      "outputs": [
        {
          "output_type": "execute_result",
          "data": {
            "text/plain": [
              "2"
            ]
          },
          "metadata": {},
          "execution_count": 72
        }
      ],
      "source": [
        "mydict[0]=2\n",
        "mydict[0]"
      ]
    },
    {
      "cell_type": "markdown",
      "metadata": {
        "id": "RY7wzfXHM3sf"
      },
      "source": [
        "update(): 다중 업데이트\n",
        " 값을 한꺼번에 업데이트함 "
      ]
    },
    {
      "cell_type": "code",
      "execution_count": 73,
      "metadata": {
        "id": "DX5oD-9uM3sf",
        "outputId": "66c27f43-c284-4579-8cbf-e0a6fed515b7",
        "colab": {
          "base_uri": "https://localhost:8080/"
        }
      },
      "outputs": [
        {
          "output_type": "execute_result",
          "data": {
            "text/plain": [
              "{'a': 100, 'b': 200, 'c': 300, 'd': 400, 'e': 500}"
            ]
          },
          "metadata": {},
          "execution_count": 73
        }
      ],
      "source": [
        "mydict = {'a': 100, 'b': 200, 'c': 300, 'd': 400, 'e': 500}\n",
        "mydict"
      ]
    },
    {
      "cell_type": "code",
      "execution_count": 74,
      "metadata": {
        "id": "49U8AxILM3sf"
      },
      "outputs": [],
      "source": [
        "fruit = {\n",
        "    '사과': 2000, \n",
        "    '딸기': 3000, \n",
        "    '수박': 5000, \n",
        "}"
      ]
    },
    {
      "cell_type": "code",
      "execution_count": 75,
      "metadata": {
        "id": "LOIN0CY9M3sf",
        "outputId": "f07594fa-b457-4fd5-b255-bfbf33a4cdfe",
        "colab": {
          "base_uri": "https://localhost:8080/"
        }
      },
      "outputs": [
        {
          "output_type": "execute_result",
          "data": {
            "text/plain": [
              "{'a': 100,\n",
              " 'b': 200,\n",
              " 'c': 300,\n",
              " 'd': 400,\n",
              " 'e': 500,\n",
              " '딸기': 3000,\n",
              " '사과': 2000,\n",
              " '수박': 5000}"
            ]
          },
          "metadata": {},
          "execution_count": 75
        }
      ],
      "source": [
        "mydict.update(fruit)\n",
        "mydict"
      ]
    },
    {
      "cell_type": "markdown",
      "metadata": {
        "id": "XC_1VxLTM3sf"
      },
      "source": [
        "값 변경 \n",
        " key 값에 새로운 값(value)를 대입하여 값을 변경할 수 있음"
      ]
    },
    {
      "cell_type": "code",
      "execution_count": 76,
      "metadata": {
        "id": "fVidi7NaM3sg",
        "outputId": "183e5c84-09f2-413b-e0ba-743681fcfa41",
        "colab": {
          "base_uri": "https://localhost:8080/"
        }
      },
      "outputs": [
        {
          "output_type": "execute_result",
          "data": {
            "text/plain": [
              "{'a': 100,\n",
              " 'b': 200,\n",
              " 'c': 300,\n",
              " 'd': 400,\n",
              " 'e': 500,\n",
              " '딸기': 3000,\n",
              " '사과': 2000,\n",
              " '수박': 5000}"
            ]
          },
          "metadata": {},
          "execution_count": 76
        }
      ],
      "source": [
        "mydict.update(fruit)\n",
        "mydict"
      ]
    },
    {
      "cell_type": "code",
      "execution_count": 77,
      "metadata": {
        "id": "okNic_wDM3sg",
        "outputId": "c935a676-536e-4826-9926-574f2274f902",
        "colab": {
          "base_uri": "https://localhost:8080/"
        }
      },
      "outputs": [
        {
          "output_type": "execute_result",
          "data": {
            "text/plain": [
              "{'a': 900,\n",
              " 'b': 200,\n",
              " 'c': 300,\n",
              " 'd': 400,\n",
              " 'e': 500,\n",
              " '딸기': 3000,\n",
              " '사과': 2000,\n",
              " '수박': 5000}"
            ]
          },
          "metadata": {},
          "execution_count": 77
        }
      ],
      "source": [
        "mydict['a'] = 900\n",
        "mydict"
      ]
    },
    {
      "cell_type": "markdown",
      "metadata": {
        "id": "Ia1M6NlPM3sg"
      },
      "source": [
        "제거하기/ key제거 "
      ]
    },
    {
      "cell_type": "code",
      "execution_count": 78,
      "metadata": {
        "id": "x3Ol6hjjM3sg",
        "outputId": "9de9c79d-fc88-4ffc-8fd2-b43f7a57e1e9",
        "colab": {
          "base_uri": "https://localhost:8080/"
        }
      },
      "outputs": [
        {
          "output_type": "execute_result",
          "data": {
            "text/plain": [
              "{'a': 100, 'b': 200, 'c': 300, 'd': 400, 'e': 500}"
            ]
          },
          "metadata": {},
          "execution_count": 78
        }
      ],
      "source": [
        "mydict = {'a': 100, 'b': 200, 'c': 300, 'd': 400, 'e': 500}\n",
        "mydict"
      ]
    },
    {
      "cell_type": "markdown",
      "metadata": {
        "id": "cJ4FhmyeM3sg"
      },
      "source": [
        "del 값을 제거할 수 있음 \n",
        "del에 딕셔너리 key를 지정함 "
      ]
    },
    {
      "cell_type": "code",
      "execution_count": 79,
      "metadata": {
        "id": "JGtCji4PM3sg",
        "outputId": "fba01015-9d80-43f6-cb46-8a4f931e74d6",
        "colab": {
          "base_uri": "https://localhost:8080/"
        }
      },
      "outputs": [
        {
          "output_type": "execute_result",
          "data": {
            "text/plain": [
              "{'b': 200, 'c': 300, 'd': 400, 'e': 500}"
            ]
          },
          "metadata": {},
          "execution_count": 79
        }
      ],
      "source": [
        "del mydict['a']\n",
        "mydict"
      ]
    },
    {
      "cell_type": "markdown",
      "metadata": {
        "id": "UBNf2jDJM3sg"
      },
      "source": [
        "pop()에 key를 지정하여 값을 제거할 수 있음 \n",
        "제거되는 값의 value를 반환함 "
      ]
    },
    {
      "cell_type": "code",
      "execution_count": 80,
      "metadata": {
        "id": "kHA1stX0M3sg",
        "outputId": "88149dde-ce63-4172-d595-fff61e90d735",
        "colab": {
          "base_uri": "https://localhost:8080/"
        }
      },
      "outputs": [
        {
          "output_type": "execute_result",
          "data": {
            "text/plain": [
              "{'c': 300, 'd': 400, 'e': 500}"
            ]
          },
          "metadata": {},
          "execution_count": 80
        }
      ],
      "source": [
        "mydict.pop('b')\n",
        "mydict"
      ]
    },
    {
      "cell_type": "markdown",
      "metadata": {
        "id": "aQQEX8KjM3sh"
      },
      "source": [
        "len(): 요소의 개수 파악"
      ]
    },
    {
      "cell_type": "code",
      "execution_count": 81,
      "metadata": {
        "id": "5Kh9YqaxM3sh",
        "outputId": "fb38694d-d478-4f1e-c2fa-6971c169dcf0",
        "colab": {
          "base_uri": "https://localhost:8080/"
        }
      },
      "outputs": [
        {
          "output_type": "execute_result",
          "data": {
            "text/plain": [
              "3"
            ]
          },
          "metadata": {},
          "execution_count": 81
        }
      ],
      "source": [
        "len(mydict)"
      ]
    },
    {
      "cell_type": "markdown",
      "metadata": {
        "id": "4lstHF2IM3sh"
      },
      "source": [
        "clear()- 전부삭제 "
      ]
    },
    {
      "cell_type": "code",
      "execution_count": 82,
      "metadata": {
        "id": "P97YBI9KM3sh"
      },
      "outputs": [],
      "source": [
        "mydict.clear()"
      ]
    },
    {
      "cell_type": "code",
      "execution_count": 83,
      "metadata": {
        "id": "lXHH4cLYM3sh",
        "outputId": "71780738-b000-4691-c3e1-b77faf719a04",
        "colab": {
          "base_uri": "https://localhost:8080/"
        }
      },
      "outputs": [
        {
          "output_type": "execute_result",
          "data": {
            "text/plain": [
              "{}"
            ]
          },
          "metadata": {},
          "execution_count": 83
        }
      ],
      "source": [
        "mydict"
      ]
    }
  ],
  "metadata": {
    "colab": {
      "name": "파이썬 - 자료구조",
      "provenance": []
    },
    "interpreter": {
      "hash": "ad2bdc8ecc057115af97d19610ffacc2b4e99fae6737bb82f5d7fb13d2f2c186"
    },
    "kernelspec": {
      "display_name": "Python 3.9.7 ('base')",
      "language": "python",
      "name": "python3"
    },
    "language_info": {
      "codemirror_mode": {
        "name": "ipython",
        "version": 3
      },
      "file_extension": ".py",
      "mimetype": "text/x-python",
      "name": "python",
      "nbconvert_exporter": "python",
      "pygments_lexer": "ipython3",
      "version": "3.9.7"
    }
  },
  "nbformat": 4,
  "nbformat_minor": 0
}