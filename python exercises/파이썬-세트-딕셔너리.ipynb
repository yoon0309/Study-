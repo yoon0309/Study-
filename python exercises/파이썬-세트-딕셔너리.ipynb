{
  "cells": [
    {
      "cell_type": "markdown",
      "metadata": {
        "id": "MsXavsZbhHdC"
      },
      "source": [
        "#teddylee777/machine-learning의 자료구조 - 파이썬 연습 \n",
        "\n",
        "세트(set)\n",
        "\n",
        "- 세트는 순서가 보장되지 않는다\n",
        "- 세트는 요소의 중복을 허용하지 않는다 \n",
        "- 세트는 {}를 활용하여 생성할 수 있다       "
      ]
    },
    {
      "cell_type": "code",
      "execution_count": 68,
      "metadata": {},
      "outputs": [
        {
          "data": {
            "text/plain": [
              "set()"
            ]
          },
          "execution_count": 68,
          "metadata": {},
          "output_type": "execute_result"
        }
      ],
      "source": [
        "mset= set()\n",
        "mset"
      ]
    },
    {
      "cell_type": "code",
      "execution_count": 69,
      "metadata": {},
      "outputs": [
        {
          "data": {
            "text/plain": [
              "{1, 2, 3, 4, 5}"
            ]
          },
          "execution_count": 69,
          "metadata": {},
          "output_type": "execute_result"
        }
      ],
      "source": [
        "mset = set([1,2,3,4,5,4,5,2,3,1])\n",
        "mset"
      ]
    },
    {
      "cell_type": "code",
      "execution_count": 70,
      "metadata": {},
      "outputs": [
        {
          "data": {
            "text/plain": [
              "{1, 2, 3, 4}"
            ]
          },
          "execution_count": 70,
          "metadata": {},
          "output_type": "execute_result"
        }
      ],
      "source": [
        "mset= set((1,2,3,4,2,2,3,1,2))\n",
        "mset\n"
      ]
    },
    {
      "cell_type": "code",
      "execution_count": 71,
      "metadata": {},
      "outputs": [
        {
          "data": {
            "text/plain": [
              "{1, 2, 3, 4}"
            ]
          },
          "execution_count": 71,
          "metadata": {},
          "output_type": "execute_result"
        }
      ],
      "source": [
        "#딕셔너리의 형태에 넣었으므로 딕셔너리형태로 출력된다\n",
        "mset = {1,2,3,4,2,1,1,1,1,2}\n",
        "mset"
      ]
    },
    {
      "cell_type": "markdown",
      "metadata": {},
      "source": [
        "add() : 값 추가 \n",
        "set에 요소를 추가함"
      ]
    },
    {
      "cell_type": "code",
      "execution_count": 72,
      "metadata": {},
      "outputs": [],
      "source": [
        "#빈 set 생성\n",
        "mset=set()\n"
      ]
    },
    {
      "cell_type": "code",
      "execution_count": 73,
      "metadata": {},
      "outputs": [],
      "source": [
        "#add()로 요소를 추가함 \n",
        "\n",
        "mset.add(1)\n",
        "mset.add(3)\n",
        "mset.add(2)\n",
        "\n",
        "mset.add(2)\n",
        "mset.add(3)\n",
        "mset.add(1)"
      ]
    },
    {
      "cell_type": "markdown",
      "metadata": {},
      "source": [
        "잊지말자, set를 빼고 ()만 넣으면 튜플형태라는 것 \n",
        "튜플은 순서가 있고 불변이라는 것... "
      ]
    },
    {
      "cell_type": "code",
      "execution_count": 74,
      "metadata": {
        "id": "wJqnUJP2ZdjK"
      },
      "outputs": [
        {
          "data": {
            "text/plain": [
              "{1, 2, 3}"
            ]
          },
          "execution_count": 74,
          "metadata": {},
          "output_type": "execute_result"
        }
      ],
      "source": [
        "mset"
      ]
    },
    {
      "cell_type": "markdown",
      "metadata": {},
      "source": [
        "update(): 여러개 값 추가 \n",
        " 여러개의 값을 한꺼번에 추가하고자 할 때는 update()메서드를 이용"
      ]
    },
    {
      "cell_type": "code",
      "execution_count": 75,
      "metadata": {},
      "outputs": [
        {
          "data": {
            "text/plain": [
              "{1, 2, 3, 4, 5, 6}"
            ]
          },
          "execution_count": 75,
          "metadata": {},
          "output_type": "execute_result"
        }
      ],
      "source": [
        "mset= {1,2,3}\n",
        "\n",
        "#list요소들을 한꺼번에 update\n",
        "mset.update([2,4,5,6])\n",
        "mset"
      ]
    },
    {
      "cell_type": "code",
      "execution_count": 76,
      "metadata": {},
      "outputs": [
        {
          "data": {
            "text/plain": [
              "{1, 2, 3, 4, 5, 6, 7, 8, 9}"
            ]
          },
          "execution_count": 76,
          "metadata": {},
          "output_type": "execute_result"
        }
      ],
      "source": [
        "#tuple 요소들을 한꺼번에 update \n",
        "\n",
        "mset.update((7,8,9))\n",
        "mset"
      ]
    },
    {
      "cell_type": "code",
      "execution_count": 77,
      "metadata": {},
      "outputs": [
        {
          "data": {
            "text/plain": [
              "{1, 2, 3, 4, 5, 6, 7, 8, 9, 10, 11, 79}"
            ]
          },
          "execution_count": 77,
          "metadata": {},
          "output_type": "execute_result"
        }
      ],
      "source": [
        "#set 요소들을 한꺼번에 update\n",
        "\n",
        "mset.update({10,11,79})\n",
        "mset"
      ]
    },
    {
      "cell_type": "markdown",
      "metadata": {},
      "source": [
        "remove(): 값제거\n",
        " 단일 요소를 제거함"
      ]
    },
    {
      "cell_type": "code",
      "execution_count": 78,
      "metadata": {},
      "outputs": [
        {
          "data": {
            "text/plain": [
              "{2, 3, 4, 5}"
            ]
          },
          "execution_count": 78,
          "metadata": {},
          "output_type": "execute_result"
        }
      ],
      "source": [
        "mset= {1,2,3,4,5}\n",
        "mset.remove(1)\n",
        "mset"
      ]
    },
    {
      "cell_type": "markdown",
      "metadata": {},
      "source": [
        "교집합(intersection)\n",
        " 집합 A와 B가 주어졌을 때, 공통된 요소를 말함 \n",
        "  & 기호나 intersection() 메서드를 활용하여 교집합을 구할 수 있음 \n"
      ]
    },
    {
      "cell_type": "code",
      "execution_count": 79,
      "metadata": {},
      "outputs": [
        {
          "data": {
            "text/plain": [
              "{1, 2, 3}"
            ]
          },
          "execution_count": 79,
          "metadata": {},
          "output_type": "execute_result"
        }
      ],
      "source": [
        "a= {1,2,3,4,5,6}\n",
        "b= {7,8,9,1,2,3}\n",
        "\n",
        "a&b"
      ]
    },
    {
      "cell_type": "code",
      "execution_count": 80,
      "metadata": {},
      "outputs": [
        {
          "data": {
            "text/plain": [
              "{1, 2, 3}"
            ]
          },
          "execution_count": 80,
          "metadata": {},
          "output_type": "execute_result"
        }
      ],
      "source": [
        "a.intersection(b)"
      ]
    },
    {
      "cell_type": "markdown",
      "metadata": {},
      "source": [
        "합집합(union)\n",
        " 집합 A와 B가 주어졌을 때, 집합 A,B요소를 모두 포함하는 것을 말함 \n",
        "\n",
        " | 기호 또는 union()메서드를 이용함"
      ]
    },
    {
      "cell_type": "code",
      "execution_count": 81,
      "metadata": {},
      "outputs": [
        {
          "data": {
            "text/plain": [
              "{1, 2, 3, 4, 5, 6, 9}"
            ]
          },
          "execution_count": 81,
          "metadata": {},
          "output_type": "execute_result"
        }
      ],
      "source": [
        "a= {1,2,3,4,5,6}\n",
        "b= {3,4,5,1,2,9}\n",
        "\n",
        "a|b"
      ]
    },
    {
      "cell_type": "code",
      "execution_count": 82,
      "metadata": {},
      "outputs": [
        {
          "data": {
            "text/plain": [
              "{1, 2, 3, 4, 5, 6, 9}"
            ]
          },
          "execution_count": 82,
          "metadata": {},
          "output_type": "execute_result"
        }
      ],
      "source": [
        "a.union(b)"
      ]
    },
    {
      "cell_type": "markdown",
      "metadata": {},
      "source": [
        "차집합(difference)\n",
        " 두 집합에서, 하나의 집합에 포함되고 다른 집합에는 포함되지 않는 모든 원소의 집합 \n",
        "  - 연산자 활용 or differenc()메서드를 활용하여 구할 수 있음 \n"
      ]
    },
    {
      "cell_type": "code",
      "execution_count": 83,
      "metadata": {},
      "outputs": [
        {
          "data": {
            "text/plain": [
              "{6}"
            ]
          },
          "execution_count": 83,
          "metadata": {},
          "output_type": "execute_result"
        }
      ],
      "source": [
        "a= {1,2,3,4,5,6}\n",
        "b= {3,4,5,1,2,9}\n",
        "\n",
        "a-b"
      ]
    },
    {
      "cell_type": "code",
      "execution_count": 84,
      "metadata": {},
      "outputs": [
        {
          "data": {
            "text/plain": [
              "{6}"
            ]
          },
          "execution_count": 84,
          "metadata": {},
          "output_type": "execute_result"
        }
      ],
      "source": [
        "a.difference(b)"
      ]
    },
    {
      "cell_type": "code",
      "execution_count": 85,
      "metadata": {},
      "outputs": [
        {
          "data": {
            "text/plain": [
              "{9}"
            ]
          },
          "execution_count": 85,
          "metadata": {},
          "output_type": "execute_result"
        }
      ],
      "source": [
        "b-a"
      ]
    },
    {
      "cell_type": "code",
      "execution_count": 86,
      "metadata": {},
      "outputs": [
        {
          "data": {
            "text/plain": [
              "{9}"
            ]
          },
          "execution_count": 86,
          "metadata": {},
          "output_type": "execute_result"
        }
      ],
      "source": [
        "b.difference(a)"
      ]
    },
    {
      "cell_type": "markdown",
      "metadata": {},
      "source": [
        "집합의 타입 변환 "
      ]
    },
    {
      "cell_type": "code",
      "execution_count": 87,
      "metadata": {},
      "outputs": [
        {
          "data": {
            "text/plain": [
              "set"
            ]
          },
          "execution_count": 87,
          "metadata": {},
          "output_type": "execute_result"
        }
      ],
      "source": [
        "#set를 list로 변환\n",
        "\n",
        "a= {1,2,3,4,5,6}\n",
        "type(a)"
      ]
    },
    {
      "cell_type": "code",
      "execution_count": 88,
      "metadata": {},
      "outputs": [
        {
          "data": {
            "text/plain": [
              "[1, 2, 3, 4, 5, 6]"
            ]
          },
          "execution_count": 88,
          "metadata": {},
          "output_type": "execute_result"
        }
      ],
      "source": [
        "b= list(a)\n",
        "b"
      ]
    },
    {
      "cell_type": "code",
      "execution_count": 89,
      "metadata": {},
      "outputs": [
        {
          "data": {
            "text/plain": [
              "list"
            ]
          },
          "execution_count": 89,
          "metadata": {},
          "output_type": "execute_result"
        }
      ],
      "source": [
        "type(b)"
      ]
    },
    {
      "cell_type": "code",
      "execution_count": 90,
      "metadata": {},
      "outputs": [
        {
          "name": "stdout",
          "output_type": "stream",
          "text": [
            "[1, 2, 3, 4, 5, 2, 2, 2, 1, 2, 6, 7]\n"
          ]
        },
        {
          "data": {
            "text/plain": [
              "list"
            ]
          },
          "execution_count": 90,
          "metadata": {},
          "output_type": "execute_result"
        }
      ],
      "source": [
        "#list를 set로 변환 \n",
        " #중복을 제거할 때 많이 활용함 \n",
        "\n",
        "a= [1,2,3,4,5,2,2,2,1,2,6,7]\n",
        "print(a)\n",
        "type(a)"
      ]
    },
    {
      "cell_type": "code",
      "execution_count": 91,
      "metadata": {},
      "outputs": [
        {
          "data": {
            "text/plain": [
              "{1, 2, 3, 4, 5, 6, 7}"
            ]
          },
          "execution_count": 91,
          "metadata": {},
          "output_type": "execute_result"
        }
      ],
      "source": [
        "b= set(a)\n",
        "b"
      ]
    },
    {
      "cell_type": "code",
      "execution_count": 92,
      "metadata": {},
      "outputs": [
        {
          "data": {
            "text/plain": [
              "[1, 2, 3, 4, 5, 6, 7]"
            ]
          },
          "execution_count": 92,
          "metadata": {},
          "output_type": "execute_result"
        }
      ],
      "source": [
        "#b를 다시 list 자료형으로 변환 \n",
        "\n",
        "b=list(b)\n",
        "b"
      ]
    },
    {
      "cell_type": "markdown",
      "metadata": {},
      "source": [
        "딕셔너리(dictionary)\n",
        " -순서를 가지지 않음 \n",
        " -키와 값의 쌍으로 이루어져있음 \n",
        " -type은 dict로 표시됨\n",
        " -key를 사용하여 값을 조회할 수 있음 \n",
        " -딕셔너리는 수정, 삭제, 추가가 가능 \n"
      ]
    },
    {
      "cell_type": "code",
      "execution_count": 93,
      "metadata": {},
      "outputs": [
        {
          "name": "stdout",
          "output_type": "stream",
          "text": [
            "<class 'dict'>\n"
          ]
        },
        {
          "data": {
            "text/plain": [
              "{}"
            ]
          },
          "execution_count": 93,
          "metadata": {},
          "output_type": "execute_result"
        }
      ],
      "source": [
        "#생성 \n",
        "\n",
        "mdict= dict()\n",
        "print(type(mdict))\n",
        "mdict"
      ]
    },
    {
      "cell_type": "code",
      "execution_count": 94,
      "metadata": {},
      "outputs": [
        {
          "name": "stdout",
          "output_type": "stream",
          "text": [
            "<class 'dict'>\n"
          ]
        },
        {
          "data": {
            "text/plain": [
              "{'a': 1, 'b': 2, 'c': 3}"
            ]
          },
          "execution_count": 94,
          "metadata": {},
          "output_type": "execute_result"
        }
      ],
      "source": [
        "mdict = {'a':1, 'b':2 , 'c':3}\n",
        "print(type(mdict))\n",
        "mdict"
      ]
    },
    {
      "cell_type": "code",
      "execution_count": 95,
      "metadata": {},
      "outputs": [
        {
          "data": {
            "text/plain": [
              "{'a': 1, '가': 2, 100: 3, 2.1: 4, True: 5}"
            ]
          },
          "execution_count": 95,
          "metadata": {},
          "output_type": "execute_result"
        }
      ],
      "source": [
        "#딕셔너리는 여러 타입의 key를 가질 수 있음 \n",
        "\n",
        "mdict= {'a':1, '가':2, 100:3, 2.1:4, True:5}\n",
        "mdict"
      ]
    },
    {
      "cell_type": "code",
      "execution_count": 106,
      "metadata": {},
      "outputs": [
        {
          "ename": "IndentationError",
          "evalue": "unexpected indent (Temp/ipykernel_13160/1780041359.py, line 2)",
          "output_type": "error",
          "traceback": [
            "\u001b[1;36m  File \u001b[1;32m\"C:\\Users\\SAMSUNG\\AppData\\Local\\Temp/ipykernel_13160/1780041359.py\"\u001b[1;36m, line \u001b[1;32m2\u001b[0m\n\u001b[1;33m    key 값으로 값을 조회할 수 있음\u001b[0m\n\u001b[1;37m    ^\u001b[0m\n\u001b[1;31mIndentationError\u001b[0m\u001b[1;31m:\u001b[0m unexpected indent\n"
          ]
        }
      ],
      "source": [
        "#값 조회 \n",
        " key 값으로 값을 조회할 수 있음\n",
        "\n",
        "mdict['a']\n",
        "\n",
        "#원래 error뜰 내용이 아님..\n",
        "# 1"
      ]
    },
    {
      "cell_type": "code",
      "execution_count": 104,
      "metadata": {},
      "outputs": [
        {
          "data": {
            "text/plain": [
              "1"
            ]
          },
          "execution_count": 104,
          "metadata": {},
          "output_type": "execute_result"
        }
      ],
      "source": [
        "#get()메서드를 활용하여 값을 조회\n",
        "\n",
        "mdict.get('a')\n",
        "\n",
        "#1"
      ]
    },
    {
      "cell_type": "code",
      "execution_count": 105,
      "metadata": {},
      "outputs": [],
      "source": [
        "#get()을 사용하면 key가 없는 경우라도 Error가 발생하지 않습니다. 단지 None이 반환됩니다.\n",
        "\n",
        "mdict.get('b')"
      ]
    },
    {
      "cell_type": "markdown",
      "metadata": {},
      "source": [
        "keys(): 모든 key 조회"
      ]
    },
    {
      "cell_type": "code",
      "execution_count": 108,
      "metadata": {},
      "outputs": [
        {
          "data": {
            "text/plain": [
              "{'a': 100, 'b': 200, 'c': 300, 'd': 400, 'e': 500}"
            ]
          },
          "execution_count": 108,
          "metadata": {},
          "output_type": "execute_result"
        }
      ],
      "source": [
        "mydict = {'a': 100, 'b': 200, 'c': 300, 'd': 400, 'e': 500}\n",
        "mydict"
      ]
    },
    {
      "cell_type": "code",
      "execution_count": 109,
      "metadata": {},
      "outputs": [
        {
          "data": {
            "text/plain": [
              "dict_keys(['a', 'b', 'c', 'd', 'e'])"
            ]
          },
          "execution_count": 109,
          "metadata": {},
          "output_type": "execute_result"
        }
      ],
      "source": [
        "mydict.keys()"
      ]
    },
    {
      "cell_type": "markdown",
      "metadata": {},
      "source": [
        "dict_keys는 리스트(list)가 아님 \n",
        "객체(object)로 생성되는데, 이를 list로 변경하기 위해서는 list()로 타입 변환을 하면 됨 "
      ]
    },
    {
      "cell_type": "markdown",
      "metadata": {},
      "source": [
        "values(): 모든 value조회"
      ]
    },
    {
      "cell_type": "code",
      "execution_count": 110,
      "metadata": {},
      "outputs": [
        {
          "data": {
            "text/plain": [
              "dict_values([100, 200, 300, 400, 500])"
            ]
          },
          "execution_count": 110,
          "metadata": {},
          "output_type": "execute_result"
        }
      ],
      "source": [
        "mydict.values()"
      ]
    },
    {
      "cell_type": "markdown",
      "metadata": {},
      "source": [
        "items(): 모든 key, value 조회"
      ]
    },
    {
      "cell_type": "code",
      "execution_count": 111,
      "metadata": {},
      "outputs": [
        {
          "data": {
            "text/plain": [
              "dict_items([('a', 100), ('b', 200), ('c', 300), ('d', 400), ('e', 500)])"
            ]
          },
          "execution_count": 111,
          "metadata": {},
          "output_type": "execute_result"
        }
      ],
      "source": [
        "mydict.items()"
      ]
    },
    {
      "cell_type": "code",
      "execution_count": 112,
      "metadata": {},
      "outputs": [
        {
          "data": {
            "text/plain": [
              "[('a', 100), ('b', 200), ('c', 300), ('d', 400), ('e', 500)]"
            ]
          },
          "execution_count": 112,
          "metadata": {},
          "output_type": "execute_result"
        }
      ],
      "source": [
        "list(mydict.items())"
      ]
    },
    {
      "cell_type": "markdown",
      "metadata": {},
      "source": [
        "key 값의 존재 유무 확인 "
      ]
    },
    {
      "cell_type": "code",
      "execution_count": 113,
      "metadata": {},
      "outputs": [
        {
          "data": {
            "text/plain": [
              "True"
            ]
          },
          "execution_count": 113,
          "metadata": {},
          "output_type": "execute_result"
        }
      ],
      "source": [
        "'a' in mydict"
      ]
    },
    {
      "cell_type": "code",
      "execution_count": 114,
      "metadata": {},
      "outputs": [
        {
          "data": {
            "text/plain": [
              "False"
            ]
          },
          "execution_count": 114,
          "metadata": {},
          "output_type": "execute_result"
        }
      ],
      "source": [
        "'f' in mydict"
      ]
    },
    {
      "cell_type": "markdown",
      "metadata": {},
      "source": [
        "값을 추가하기 \n",
        " 새로운 key에 값을 대입하여 추가 "
      ]
    },
    {
      "cell_type": "code",
      "execution_count": 115,
      "metadata": {},
      "outputs": [
        {
          "data": {
            "text/plain": [
              "{}"
            ]
          },
          "execution_count": 115,
          "metadata": {},
          "output_type": "execute_result"
        }
      ],
      "source": [
        "mydict= dict()\n",
        "mydict"
      ]
    },
    {
      "cell_type": "code",
      "execution_count": 116,
      "metadata": {},
      "outputs": [
        {
          "data": {
            "text/plain": [
              "123"
            ]
          },
          "execution_count": 116,
          "metadata": {},
          "output_type": "execute_result"
        }
      ],
      "source": [
        "mydict['apple'] =123\n",
        "mydict['apple']"
      ]
    },
    {
      "cell_type": "code",
      "execution_count": 118,
      "metadata": {},
      "outputs": [
        {
          "data": {
            "text/plain": [
              "2"
            ]
          },
          "execution_count": 118,
          "metadata": {},
          "output_type": "execute_result"
        }
      ],
      "source": [
        "mydict[0]=2\n",
        "mydict[0]"
      ]
    },
    {
      "cell_type": "markdown",
      "metadata": {},
      "source": [
        "update(): 다중 업데이트\n",
        " 값을 한꺼번에 업데이트함 "
      ]
    },
    {
      "cell_type": "code",
      "execution_count": 119,
      "metadata": {},
      "outputs": [
        {
          "data": {
            "text/plain": [
              "{'a': 100, 'b': 200, 'c': 300, 'd': 400, 'e': 500}"
            ]
          },
          "execution_count": 119,
          "metadata": {},
          "output_type": "execute_result"
        }
      ],
      "source": [
        "mydict = {'a': 100, 'b': 200, 'c': 300, 'd': 400, 'e': 500}\n",
        "mydict"
      ]
    },
    {
      "cell_type": "code",
      "execution_count": 120,
      "metadata": {},
      "outputs": [],
      "source": [
        "fruit = {\n",
        "    '사과': 2000, \n",
        "    '딸기': 3000, \n",
        "    '수박': 5000, \n",
        "}"
      ]
    },
    {
      "cell_type": "code",
      "execution_count": 122,
      "metadata": {},
      "outputs": [
        {
          "data": {
            "text/plain": [
              "{'a': 100,\n",
              " 'b': 200,\n",
              " 'c': 300,\n",
              " 'd': 400,\n",
              " 'e': 500,\n",
              " '사과': 2000,\n",
              " '딸기': 3000,\n",
              " '수박': 5000}"
            ]
          },
          "execution_count": 122,
          "metadata": {},
          "output_type": "execute_result"
        }
      ],
      "source": [
        "mydict.update(fruit)\n",
        "mydict"
      ]
    },
    {
      "cell_type": "markdown",
      "metadata": {},
      "source": [
        "값 변경 \n",
        " key 값에 새로운 값(value)를 대입하여 값을 변경할 수 있음"
      ]
    },
    {
      "cell_type": "code",
      "execution_count": 124,
      "metadata": {},
      "outputs": [
        {
          "data": {
            "text/plain": [
              "{'a': 100,\n",
              " 'b': 200,\n",
              " 'c': 300,\n",
              " 'd': 400,\n",
              " 'e': 500,\n",
              " '사과': 2000,\n",
              " '딸기': 3000,\n",
              " '수박': 5000}"
            ]
          },
          "execution_count": 124,
          "metadata": {},
          "output_type": "execute_result"
        }
      ],
      "source": [
        "mydict.update(fruit)\n",
        "mydict"
      ]
    },
    {
      "cell_type": "code",
      "execution_count": 126,
      "metadata": {},
      "outputs": [
        {
          "data": {
            "text/plain": [
              "{'a': 900,\n",
              " 'b': 200,\n",
              " 'c': 300,\n",
              " 'd': 400,\n",
              " 'e': 500,\n",
              " '사과': 2000,\n",
              " '딸기': 3000,\n",
              " '수박': 5000}"
            ]
          },
          "execution_count": 126,
          "metadata": {},
          "output_type": "execute_result"
        }
      ],
      "source": [
        "mydict['a'] = 900\n",
        "mydict"
      ]
    },
    {
      "cell_type": "markdown",
      "metadata": {},
      "source": [
        "제거하기/ key제거 "
      ]
    },
    {
      "cell_type": "code",
      "execution_count": 138,
      "metadata": {},
      "outputs": [
        {
          "data": {
            "text/plain": [
              "{'a': 100, 'b': 200, 'c': 300, 'd': 400, 'e': 500}"
            ]
          },
          "execution_count": 138,
          "metadata": {},
          "output_type": "execute_result"
        }
      ],
      "source": [
        "mydict = {'a': 100, 'b': 200, 'c': 300, 'd': 400, 'e': 500}\n",
        "mydict"
      ]
    },
    {
      "cell_type": "markdown",
      "metadata": {},
      "source": [
        "del 값을 제거할 수 있음 \n",
        "del에 딕셔너리 key를 지정함 "
      ]
    },
    {
      "cell_type": "code",
      "execution_count": 139,
      "metadata": {},
      "outputs": [
        {
          "data": {
            "text/plain": [
              "{'b': 200, 'c': 300, 'd': 400, 'e': 500}"
            ]
          },
          "execution_count": 139,
          "metadata": {},
          "output_type": "execute_result"
        }
      ],
      "source": [
        "del mydict['a']\n",
        "mydict"
      ]
    },
    {
      "cell_type": "markdown",
      "metadata": {},
      "source": [
        "pop()에 key를 지정하여 값을 제거할 수 있음 \n",
        "제거되는 값의 value를 반환함 "
      ]
    },
    {
      "cell_type": "code",
      "execution_count": 140,
      "metadata": {},
      "outputs": [
        {
          "data": {
            "text/plain": [
              "{'c': 300, 'd': 400, 'e': 500}"
            ]
          },
          "execution_count": 140,
          "metadata": {},
          "output_type": "execute_result"
        }
      ],
      "source": [
        "mydict.pop('b')\n",
        "mydict"
      ]
    },
    {
      "cell_type": "markdown",
      "metadata": {},
      "source": [
        "len(): 요소의 개수 파악"
      ]
    },
    {
      "cell_type": "code",
      "execution_count": 142,
      "metadata": {},
      "outputs": [
        {
          "data": {
            "text/plain": [
              "3"
            ]
          },
          "execution_count": 142,
          "metadata": {},
          "output_type": "execute_result"
        }
      ],
      "source": [
        "len(mydict)"
      ]
    },
    {
      "cell_type": "markdown",
      "metadata": {},
      "source": [
        "clear()- 전부삭제 "
      ]
    },
    {
      "cell_type": "code",
      "execution_count": 144,
      "metadata": {},
      "outputs": [],
      "source": [
        "mydict.clear()"
      ]
    },
    {
      "cell_type": "code",
      "execution_count": 145,
      "metadata": {},
      "outputs": [
        {
          "data": {
            "text/plain": [
              "{}"
            ]
          },
          "execution_count": 145,
          "metadata": {},
          "output_type": "execute_result"
        }
      ],
      "source": [
        "mydict"
      ]
    }
  ],
  "metadata": {
    "colab": {
      "name": "파이썬 - 자료구조",
      "provenance": []
    },
    "interpreter": {
      "hash": "ad2bdc8ecc057115af97d19610ffacc2b4e99fae6737bb82f5d7fb13d2f2c186"
    },
    "kernelspec": {
      "display_name": "Python 3.9.7 ('base')",
      "language": "python",
      "name": "python3"
    },
    "language_info": {
      "codemirror_mode": {
        "name": "ipython",
        "version": 3
      },
      "file_extension": ".py",
      "mimetype": "text/x-python",
      "name": "python",
      "nbconvert_exporter": "python",
      "pygments_lexer": "ipython3",
      "version": "3.9.7"
    }
  },
  "nbformat": 4,
  "nbformat_minor": 0
}
