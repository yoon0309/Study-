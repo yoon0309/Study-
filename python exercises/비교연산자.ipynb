{
  "cells": [
    {
      "cell_type": "markdown",
      "metadata": {
        "id": "Ezhvg_yF8F-y"
      },
      "source": [
        "#비교연산자\n",
        "\n",
        "> 크다 \n",
        ">= 크거나 같다\n",
        "< 작다\n",
        "<= 작거나 같다"
      ]
    },
    {
      "cell_type": "code",
      "execution_count": 1,
      "metadata": {},
      "outputs": [
        {
          "data": {
            "text/plain": [
              "False"
            ]
          },
          "execution_count": 1,
          "metadata": {},
          "output_type": "execute_result"
        }
      ],
      "source": [
        "1 > 2 "
      ]
    },
    {
      "cell_type": "code",
      "execution_count": 2,
      "metadata": {},
      "outputs": [
        {
          "data": {
            "text/plain": [
              "True"
            ]
          },
          "execution_count": 2,
          "metadata": {},
          "output_type": "execute_result"
        }
      ],
      "source": [
        "10 >= 10"
      ]
    },
    {
      "cell_type": "code",
      "execution_count": 3,
      "metadata": {},
      "outputs": [
        {
          "data": {
            "text/plain": [
              "True"
            ]
          },
          "execution_count": 3,
          "metadata": {},
          "output_type": "execute_result"
        }
      ],
      "source": [
        "9< 10"
      ]
    },
    {
      "cell_type": "code",
      "execution_count": 4,
      "metadata": {},
      "outputs": [
        {
          "data": {
            "text/plain": [
              "False"
            ]
          },
          "execution_count": 4,
          "metadata": {},
          "output_type": "execute_result"
        }
      ],
      "source": [
        "8 <=7"
      ]
    },
    {
      "cell_type": "markdown",
      "metadata": {},
      "source": [
        "#같다와 같지 않다 \n",
        "== : 같음을 비교 \n",
        "\n",
        "=는 대입 연산자 \n",
        "코딩에서는 =이 대입연산자이기 때문에 ==를 사용해야함 "
      ]
    },
    {
      "cell_type": "code",
      "execution_count": 5,
      "metadata": {},
      "outputs": [
        {
          "ename": "SyntaxError",
          "evalue": "cannot assign to literal here. Maybe you meant '==' instead of '='? (2683012776.py, line 1)",
          "output_type": "error",
          "traceback": [
            "\u001b[1;36m  Input \u001b[1;32mIn [5]\u001b[1;36m\u001b[0m\n\u001b[1;33m    2=2\u001b[0m\n\u001b[1;37m    ^\u001b[0m\n\u001b[1;31mSyntaxError\u001b[0m\u001b[1;31m:\u001b[0m cannot assign to literal here. Maybe you meant '==' instead of '='?\n"
          ]
        }
      ],
      "source": [
        "2=2 "
      ]
    },
    {
      "cell_type": "code",
      "execution_count": 6,
      "metadata": {},
      "outputs": [
        {
          "data": {
            "text/plain": [
              "True"
            ]
          },
          "execution_count": 6,
          "metadata": {},
          "output_type": "execute_result"
        }
      ],
      "source": [
        "2==2"
      ]
    },
    {
      "cell_type": "code",
      "execution_count": 7,
      "metadata": {},
      "outputs": [
        {
          "data": {
            "text/plain": [
              "False"
            ]
          },
          "execution_count": 7,
          "metadata": {},
          "output_type": "execute_result"
        }
      ],
      "source": [
        "# != 같지않음을 비교\n",
        "\n",
        "2!= 2"
      ]
    },
    {
      "cell_type": "code",
      "execution_count": 8,
      "metadata": {},
      "outputs": [
        {
          "data": {
            "text/plain": [
              "True"
            ]
          },
          "execution_count": 8,
          "metadata": {},
          "output_type": "execute_result"
        }
      ],
      "source": [
        "1 !=2"
      ]
    },
    {
      "cell_type": "code",
      "execution_count": 9,
      "metadata": {},
      "outputs": [
        {
          "data": {
            "text/plain": [
              "True"
            ]
          },
          "execution_count": 9,
          "metadata": {},
          "output_type": "execute_result"
        }
      ],
      "source": [
        "'나' != '너'"
      ]
    },
    {
      "cell_type": "code",
      "execution_count": 10,
      "metadata": {},
      "outputs": [
        {
          "data": {
            "text/plain": [
              "False"
            ]
          },
          "execution_count": 10,
          "metadata": {},
          "output_type": "execute_result"
        }
      ],
      "source": [
        "'나' != '나'"
      ]
    },
    {
      "cell_type": "markdown",
      "metadata": {},
      "source": [
        "#조건문 \n",
        "\n",
        "주어진 조건이 참인 경우 그 다음 내가 정한 규칙(로직)을 실행하는 개념 \n",
        "\n",
        "if \n",
        " ~라면 \n",
        " if 구문 끝에는 반드시 콜론(:)을 잊지말기"
      ]
    },
    {
      "cell_type": "code",
      "execution_count": 11,
      "metadata": {},
      "outputs": [
        {
          "name": "stdout",
          "output_type": "stream",
          "text": [
            "참\n"
          ]
        }
      ],
      "source": [
        "if 5> 3:\n",
        "    print('참')"
      ]
    },
    {
      "cell_type": "code",
      "execution_count": 12,
      "metadata": {},
      "outputs": [
        {
          "name": "stdout",
          "output_type": "stream",
          "text": [
            "끝\n"
          ]
        }
      ],
      "source": [
        "if 5 < 3: \n",
        "    print('참')\n",
        "    print('참')\n",
        "    print('참')\n",
        "    \n",
        "print('끝')"
      ]
    },
    {
      "cell_type": "code",
      "execution_count": 13,
      "metadata": {},
      "outputs": [],
      "source": [
        "if 5 <3 :\n",
        "    print('참')"
      ]
    },
    {
      "cell_type": "markdown",
      "metadata": {},
      "source": [
        "#else \n",
        "\n",
        "else는 if 조건 후에 따라오며, if가 아닌 경우에 실행됨 "
      ]
    },
    {
      "cell_type": "code",
      "execution_count": 14,
      "metadata": {},
      "outputs": [
        {
          "name": "stdout",
          "output_type": "stream",
          "text": [
            "else 구문 실행\n"
          ]
        }
      ],
      "source": [
        "if 5< 3:\n",
        "    print('if 구문 실행')\n",
        "else:\n",
        "    print('else 구문 실행')"
      ]
    },
    {
      "cell_type": "markdown",
      "metadata": {},
      "source": [
        "#elif\n",
        "\n",
        "elif구문은 3가지 이상 분기(조건)의 동작을 수행할 때 사용함"
      ]
    },
    {
      "cell_type": "code",
      "execution_count": 15,
      "metadata": {},
      "outputs": [
        {
          "name": "stdout",
          "output_type": "stream",
          "text": [
            "elif 구문\n"
          ]
        }
      ],
      "source": [
        "if 3 > 5: \n",
        "    print('if 구문')\n",
        "elif 3< 4:\n",
        "    print('elif 구문')\n",
        "else :\n",
        "    print('이것도 저것도 아니다')"
      ]
    },
    {
      "cell_type": "markdown",
      "metadata": {},
      "source": [
        "elif 구문이 참인 여러 구문을 나열했을 때는 어떻게 되나요?"
      ]
    },
    {
      "cell_type": "code",
      "execution_count": 16,
      "metadata": {},
      "outputs": [
        {
          "name": "stdout",
          "output_type": "stream",
          "text": [
            "elif 3구문\n"
          ]
        }
      ],
      "source": [
        "if 3> 5:\n",
        "    print('if 구문')\n",
        "elif 3 >4:\n",
        "    print('elif 1구문')\n",
        "elif 3> 5:\n",
        "    print('elif 2구문')\n",
        "elif 3< 6:\n",
        "    print('elif 3구문')\n",
        "else:\n",
        "    print('이것도 저것도 아니다')"
      ]
    },
    {
      "cell_type": "code",
      "execution_count": 17,
      "metadata": {},
      "outputs": [
        {
          "name": "stdout",
          "output_type": "stream",
          "text": [
            "참\n"
          ]
        }
      ],
      "source": [
        "#1이나 0은 참이나 거짓을 표현하기도 한다 \n",
        "\n",
        "if 1:\n",
        "    print('참')\n",
        "else:\n",
        "    print('거짓')"
      ]
    },
    {
      "cell_type": "code",
      "execution_count": 18,
      "metadata": {},
      "outputs": [
        {
          "name": "stdout",
          "output_type": "stream",
          "text": [
            "거짓\n"
          ]
        }
      ],
      "source": [
        "if 0:\n",
        "    print('참')\n",
        "else:\n",
        "    print('거짓')"
      ]
    },
    {
      "cell_type": "markdown",
      "metadata": {},
      "source": [
        "#삼항 연산자\n",
        "\n",
        "조건에 대한 참인 경우 그렇지 않은 경우의 값을 뒤에 지정함 "
      ]
    },
    {
      "cell_type": "code",
      "execution_count": 21,
      "metadata": {},
      "outputs": [
        {
          "data": {
            "text/plain": [
              "'30세 이상입니다.'"
            ]
          },
          "execution_count": 21,
          "metadata": {},
          "output_type": "execute_result"
        }
      ],
      "source": [
        "age  = 35\n",
        "\n",
        "\"30세 이상입니다.\" if age >= 30 else\"30세 이하입니다.\""
      ]
    },
    {
      "cell_type": "code",
      "execution_count": 23,
      "metadata": {},
      "outputs": [
        {
          "data": {
            "text/plain": [
              "'30세 이하입니다.'"
            ]
          },
          "execution_count": 23,
          "metadata": {},
          "output_type": "execute_result"
        }
      ],
      "source": [
        "age =20 \n",
        "\n",
        "'30세 이상입니다.' if age >= 30 else '30세 이하입니다.'"
      ]
    },
    {
      "cell_type": "markdown",
      "metadata": {},
      "source": [
        "논리 연산자 (and , or, not)\n",
        "= and나 or 조건은 두 가지 이상의 조건을 다룰 때 활용함\n",
        "\n",
        "and조건은 모두 만족할 때 참으로 인식함 "
      ]
    },
    {
      "cell_type": "code",
      "execution_count": 24,
      "metadata": {},
      "outputs": [
        {
          "data": {
            "text/plain": [
              "True"
            ]
          },
          "execution_count": 24,
          "metadata": {},
          "output_type": "execute_result"
        }
      ],
      "source": [
        "True and True and True"
      ]
    },
    {
      "cell_type": "code",
      "execution_count": 25,
      "metadata": {},
      "outputs": [
        {
          "data": {
            "text/plain": [
              "False"
            ]
          },
          "execution_count": 25,
          "metadata": {},
          "output_type": "execute_result"
        }
      ],
      "source": [
        "True and False and True"
      ]
    },
    {
      "cell_type": "code",
      "execution_count": 26,
      "metadata": {},
      "outputs": [
        {
          "name": "stdout",
          "output_type": "stream",
          "text": [
            "모두 참\n"
          ]
        }
      ],
      "source": [
        "if ( 0< 1) and (0<2):\n",
        "    print('모두 참')\n",
        "else:\n",
        "    print('거짓')"
      ]
    },
    {
      "cell_type": "code",
      "execution_count": 27,
      "metadata": {},
      "outputs": [
        {
          "name": "stdout",
          "output_type": "stream",
          "text": [
            "허참\n"
          ]
        }
      ],
      "source": [
        "if (0<1) and (0>2):\n",
        "    print('모두 참')\n",
        "else: \n",
        "    print('허참')\n",
        "    "
      ]
    },
    {
      "cell_type": "code",
      "execution_count": 28,
      "metadata": {},
      "outputs": [
        {
          "data": {
            "text/plain": [
              "True"
            ]
          },
          "execution_count": 28,
          "metadata": {},
          "output_type": "execute_result"
        }
      ],
      "source": [
        "#or 조건은 조건 중 하나라도 만족할 떄 참으로 인식 \n",
        "\n",
        "True or False or False\n"
      ]
    },
    {
      "cell_type": "code",
      "execution_count": 29,
      "metadata": {},
      "outputs": [
        {
          "data": {
            "text/plain": [
              "False"
            ]
          },
          "execution_count": 29,
          "metadata": {},
          "output_type": "execute_result"
        }
      ],
      "source": [
        "False or False or False"
      ]
    },
    {
      "cell_type": "code",
      "execution_count": 30,
      "metadata": {},
      "outputs": [
        {
          "name": "stdout",
          "output_type": "stream",
          "text": [
            "하나라도 참\n"
          ]
        }
      ],
      "source": [
        "if ( 0<1) or (1<0 ):\n",
        "    print('하나라도 참')\n",
        "else:\n",
        "    print('허참')"
      ]
    },
    {
      "cell_type": "code",
      "execution_count": 31,
      "metadata": {},
      "outputs": [
        {
          "name": "stdout",
          "output_type": "stream",
          "text": [
            "허참\n"
          ]
        }
      ],
      "source": [
        "if (10<1) or (1<0):\n",
        "    print('하나라도 참')\n",
        "else: \n",
        "    print('허참')\n"
      ]
    },
    {
      "cell_type": "markdown",
      "metadata": {},
      "source": [
        "#NOT\n",
        " - bool 값을 반전시킴 "
      ]
    },
    {
      "cell_type": "code",
      "execution_count": 32,
      "metadata": {},
      "outputs": [
        {
          "data": {
            "text/plain": [
              "False"
            ]
          },
          "execution_count": 32,
          "metadata": {},
          "output_type": "execute_result"
        }
      ],
      "source": [
        "not True\n"
      ]
    },
    {
      "cell_type": "code",
      "execution_count": 33,
      "metadata": {},
      "outputs": [
        {
          "data": {
            "text/plain": [
              "True"
            ]
          },
          "execution_count": 33,
          "metadata": {},
          "output_type": "execute_result"
        }
      ],
      "source": [
        "not False"
      ]
    },
    {
      "cell_type": "code",
      "execution_count": 34,
      "metadata": {},
      "outputs": [],
      "source": [
        "if not True:\n",
        "    print('not True')"
      ]
    },
    {
      "cell_type": "code",
      "execution_count": 35,
      "metadata": {},
      "outputs": [
        {
          "name": "stdout",
          "output_type": "stream",
          "text": [
            "not False\n"
          ]
        }
      ],
      "source": [
        "if not False:\n",
        "    print('not False')"
      ]
    }
  ],
  "metadata": {
    "colab": {
      "name": "연산.ipynb",
      "provenance": []
    },
    "interpreter": {
      "hash": "d4dae4ea8e5f4de9e76d858a9174cd4657e40ccbbb94f8495095b398f7d4021b"
    },
    "kernelspec": {
      "display_name": "Python 3.10.4 64-bit (windows store)",
      "language": "python",
      "name": "python3"
    },
    "language_info": {
      "codemirror_mode": {
        "name": "ipython",
        "version": 3
      },
      "file_extension": ".py",
      "mimetype": "text/x-python",
      "name": "python",
      "nbconvert_exporter": "python",
      "pygments_lexer": "ipython3",
      "version": "3.10.4"
    }
  },
  "nbformat": 4,
  "nbformat_minor": 0
}
