{
  "cells": [
    {
      "cell_type": "markdown",
      "metadata": {
        "id": "CcAe7u88qqWW"
      },
      "source": [
        "#Comprehension 문법\n",
        "\n",
        "반복문(for~in)과 조건문 그리고 변수에 대한 연산까지 모두 갖춘 문법 \n",
        "\n",
        "comprehension의 종류 list , set, dict등이 존재 "
      ]
    },
    {
      "cell_type": "code",
      "execution_count": 3,
      "metadata": {},
      "outputs": [
        {
          "name": "stdout",
          "output_type": "stream",
          "text": [
            "2\n",
            "4\n",
            "6\n",
            "8\n",
            "10\n"
          ]
        }
      ],
      "source": [
        "#list를 만들어 주고 이 중 짝수만 출력하고 싶을때?\n",
        "mlist = [1,2,3,4,5,6,7,8,9, 10]\n",
        "\n",
        "for i in mlist:\n",
        "    if i % 2 == 0:\n",
        "        print(i)"
      ]
    },
    {
      "cell_type": "code",
      "execution_count": 4,
      "metadata": {},
      "outputs": [
        {
          "name": "stdout",
          "output_type": "stream",
          "text": [
            "[2, 4, 6, 8, 10]\n"
          ]
        }
      ],
      "source": [
        "#list에서 짝수만 따로 list를 만들어주고 싶을 때?\n",
        "\n",
        "list = [1,2,3,4,5,6,7,8,9,10]\n",
        "\n",
        "even=[]\n",
        "\n",
        "for i in list:\n",
        "    if i %2 == 0:\n",
        "        even.append(i)\n",
        "\n",
        "print(even)"
      ]
    },
    {
      "cell_type": "markdown",
      "metadata": {},
      "source": [
        "comprehension문법을 사용하면 쉽고 간결한 코딩이 가능함 "
      ]
    },
    {
      "cell_type": "code",
      "execution_count": 5,
      "metadata": {},
      "outputs": [
        {
          "data": {
            "text/plain": [
              "[2, 4, 6, 8, 10]"
            ]
          },
          "execution_count": 5,
          "metadata": {},
          "output_type": "execute_result"
        }
      ],
      "source": [
        "even = [i for i in list if i %2 ==0 ]\n",
        "even"
      ]
    },
    {
      "cell_type": "markdown",
      "metadata": {},
      "source": [
        "#STEP 1:반복문 생성 "
      ]
    },
    {
      "cell_type": "code",
      "execution_count": 6,
      "metadata": {},
      "outputs": [
        {
          "ename": "SyntaxError",
          "evalue": "invalid syntax (2474157162.py, line 1)",
          "output_type": "error",
          "traceback": [
            "\u001b[1;36m  Input \u001b[1;32mIn [6]\u001b[1;36m\u001b[0m\n\u001b[1;33m    even = [ for i in list]\u001b[0m\n\u001b[1;37m             ^\u001b[0m\n\u001b[1;31mSyntaxError\u001b[0m\u001b[1;31m:\u001b[0m invalid syntax\n"
          ]
        }
      ],
      "source": [
        "even = [ for i in list]"
      ]
    },
    {
      "cell_type": "markdown",
      "metadata": {},
      "source": [
        "반복문 안에서 변수를 맨 앞에서 한 번 더 선언해 주지 않는다면 당연히 에러가 남 \n",
        "for i in list 구문에서 반복문을 돌면서 i 값이 return 된다고 생각, 그 변수를 list에 다시 넣어주는 원리 \n",
        "\n",
        "i를 for문 맨 앞에 써주어야함 "
      ]
    },
    {
      "cell_type": "code",
      "execution_count": null,
      "metadata": {},
      "outputs": [
        {
          "data": {
            "text/plain": [
              "[1, 2, 3, 4, 5, 6, 7, 8, 9, 10]"
            ]
          },
          "execution_count": 8,
          "metadata": {},
          "output_type": "execute_result"
        }
      ],
      "source": [
        "even = [ i for i in list]\n",
        "even "
      ]
    },
    {
      "cell_type": "markdown",
      "metadata": {},
      "source": [
        "STEP 2 : 조건 필터 추가 \n",
        "조건문 for ~ in 구문 맨 뒤에 추가하도록 함 \n",
        "\n",
        "[i for i in list (이곳에 조건문)]"
      ]
    },
    {
      "cell_type": "code",
      "execution_count": null,
      "metadata": {},
      "outputs": [
        {
          "data": {
            "text/plain": [
              "[2, 4, 6, 8, 10]"
            ]
          },
          "execution_count": 9,
          "metadata": {},
          "output_type": "execute_result"
        }
      ],
      "source": [
        "[i for i in list if i % 2 == 0]\n"
      ]
    },
    {
      "cell_type": "markdown",
      "metadata": {},
      "source": [
        "list의 요소 중 짝수만 추출하여 리스트로 만들어주는 list comprehension이 완성됨 "
      ]
    },
    {
      "cell_type": "markdown",
      "metadata": {},
      "source": [
        "STEP 3: 변수 값에 별도의 연산 추가\n",
        "\n",
        "STEP 2까지 완성된 짝수만 담는 list comprehension을 그대로 가져옴"
      ]
    },
    {
      "cell_type": "code",
      "execution_count": null,
      "metadata": {},
      "outputs": [
        {
          "data": {
            "text/plain": [
              "[2, 4, 6, 8, 10]"
            ]
          },
          "execution_count": 10,
          "metadata": {},
          "output_type": "execute_result"
        }
      ],
      "source": [
        "even = [i for i in list if i %2 == 0]\n",
        "even"
      ]
    },
    {
      "cell_type": "code",
      "execution_count": null,
      "metadata": {},
      "outputs": [
        {
          "data": {
            "text/plain": [
              "[4, 16, 36, 64, 100]"
            ]
          },
          "execution_count": 11,
          "metadata": {},
          "output_type": "execute_result"
        }
      ],
      "source": [
        "#모든 값에 제곱을 해보기 \n",
        "\n",
        "even = [i**2 for i in list if i %2 ==0]\n",
        "even "
      ]
    },
    {
      "cell_type": "markdown",
      "metadata": {},
      "source": [
        "#Set Comprehension\n",
        "\n",
        "set comprehension은 comprehension 문법을 세트(set)로 생성함 \n",
        "괄호를 {}로 생성하면 set comprehension이 완성"
      ]
    },
    {
      "cell_type": "code",
      "execution_count": 7,
      "metadata": {},
      "outputs": [
        {
          "data": {
            "text/plain": [
              "{4, 16, 36, 64, 100}"
            ]
          },
          "execution_count": 7,
          "metadata": {},
          "output_type": "execute_result"
        }
      ],
      "source": [
        "set_even = {i**2 for i in list if i % 2 == 0}\n",
        "set_even"
      ]
    },
    {
      "cell_type": "markdown",
      "metadata": {},
      "source": [
        "Dict Comprehension \n",
        "\n",
        "dict comprehension은 comprehension 문법을 활용하여 딕셔너리(dictionary)를 생성 \n",
        "괄호는 {}로 생성하고 key-value 형식을 반드시 지정함 "
      ]
    },
    {
      "cell_type": "code",
      "execution_count": 8,
      "metadata": {},
      "outputs": [
        {
          "data": {
            "text/plain": [
              "{2: 4, 4: 16, 6: 36, 8: 64, 10: 100}"
            ]
          },
          "execution_count": 8,
          "metadata": {},
          "output_type": "execute_result"
        }
      ],
      "source": [
        "dict_even = {i : i**2 for i in list if i %2 ==0}\n",
        "dict_even"
      ]
    }
  ],
  "metadata": {
    "colab": {
      "name": "파이썬-리스트-튜플.ipynb",
      "provenance": []
    },
    "interpreter": {
      "hash": "d4dae4ea8e5f4de9e76d858a9174cd4657e40ccbbb94f8495095b398f7d4021b"
    },
    "kernelspec": {
      "display_name": "Python 3.10.4 64-bit (windows store)",
      "language": "python",
      "name": "python3"
    },
    "language_info": {
      "codemirror_mode": {
        "name": "ipython",
        "version": 3
      },
      "file_extension": ".py",
      "mimetype": "text/x-python",
      "name": "python",
      "nbconvert_exporter": "python",
      "pygments_lexer": "ipython3",
      "version": "3.10.4"
    }
  },
  "nbformat": 4,
  "nbformat_minor": 0
}
