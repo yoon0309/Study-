{
  "cells": [
    {
      "cell_type": "markdown",
      "metadata": {
        "id": "CcAe7u88qqWW"
      },
      "source": [
        "반복문 \n",
        "\n",
        "1회 이상 반복해서 수행하는 일을 반복문으로 통해 쉽게 해결할 수 있음 \n",
        "list, tuple, dict, set, 문자열까지 모두 순회가능한(iterable) 객체 \n",
        "순화가능한(iterable)객체는 반복문을 통해 순회할 수 있음"
      ]
    },
    {
      "cell_type": "code",
      "execution_count": 1,
      "metadata": {},
      "outputs": [
        {
          "name": "stdout",
          "output_type": "stream",
          "text": [
            "1\n",
            "2\n"
          ]
        }
      ],
      "source": [
        "list = [1,2,3,4,5,6,7,8,9,10]\n",
        "\n",
        "#list의 속 숫자들을 모두 출력하는 방법 \n",
        "print(list[0])\n",
        "print(list[1])\n",
        "#이런 방법으로 9까지 쳐서 하나하나씩 출력하는 방법이 존재"
      ]
    },
    {
      "cell_type": "markdown",
      "metadata": {},
      "source": [
        "for와 in 구문 (반복문)\n",
        "\n",
        "for 하나씩 꺼내올 때 변수 in[꺼내올 집합]:\n",
        "(indent)\n",
        "\n",
        "list, tuple, set, dictionary, 문자열 형태 모두 가능 \n",
        "range와 결합하여 사용가능 "
      ]
    },
    {
      "cell_type": "code",
      "execution_count": 6,
      "metadata": {},
      "outputs": [
        {
          "name": "stdout",
          "output_type": "stream",
          "text": [
            "1\n",
            "2\n",
            "3\n",
            "4\n",
            "5\n"
          ]
        }
      ],
      "source": [
        "#리스트(list)\n",
        "\n",
        "mlist= [1,2,3,4,5]\n",
        "\n",
        "for i in mlist:\n",
        "    print(i)"
      ]
    },
    {
      "cell_type": "code",
      "execution_count": 7,
      "metadata": {},
      "outputs": [
        {
          "name": "stdout",
          "output_type": "stream",
          "text": [
            "1\n",
            "2\n",
            "3\n",
            "4\n",
            "5\n"
          ]
        }
      ],
      "source": [
        "#튜플(tuple)\n",
        "\n",
        "for i in (1,2,3,4,5):\n",
        "    print(i)"
      ]
    },
    {
      "cell_type": "markdown",
      "metadata": {},
      "source": [
        "tuple+ list\n",
        "tuple을 전체로 받아주는 경우 "
      ]
    },
    {
      "cell_type": "code",
      "execution_count": 8,
      "metadata": {},
      "outputs": [
        {
          "name": "stdout",
          "output_type": "stream",
          "text": [
            "('red', 11)\n",
            "red\n",
            "11\n"
          ]
        }
      ],
      "source": [
        "apple = ('red', 11)\n",
        "\n",
        "print(apple)\n",
        "print(apple[0])\n",
        "print(apple[1])"
      ]
    },
    {
      "cell_type": "code",
      "execution_count": 9,
      "metadata": {},
      "outputs": [
        {
          "name": "stdout",
          "output_type": "stream",
          "text": [
            "제이콥스\n",
            "10\n"
          ]
        }
      ],
      "source": [
        "#tuple의 요소를 개별으로 받아주는 경우 \n",
        "\n",
        "name, age = ('제이콥스', 10)\n",
        "\n",
        "print(name)\n",
        "print(age)"
      ]
    },
    {
      "cell_type": "code",
      "execution_count": 11,
      "metadata": {},
      "outputs": [
        {
          "name": "stdout",
          "output_type": "stream",
          "text": [
            "제이콥스 10\n",
            "피터 20\n",
            "타이거 30\n"
          ]
        }
      ],
      "source": [
        "#반복문에서의 응용 \n",
        "\n",
        "list = [('제이콥스',10), ('피터',20),('타이거',30)]\n",
        "\n",
        "for mlist in  list :\n",
        "    print(mlist[0], mlist[1])"
      ]
    },
    {
      "cell_type": "code",
      "execution_count": 12,
      "metadata": {},
      "outputs": [
        {
          "name": "stdout",
          "output_type": "stream",
          "text": [
            "제이콥스 10\n",
            "피터 20\n",
            "타이거 30\n"
          ]
        }
      ],
      "source": [
        "list = [('제이콥스',10), ('피터',20),('타이거',30)]\n",
        "\n",
        "for name, age in list:\n",
        "    print(name, age)"
      ]
    },
    {
      "cell_type": "markdown",
      "metadata": {},
      "source": [
        "딕셔너리(dictionary)"
      ]
    },
    {
      "cell_type": "code",
      "execution_count": 13,
      "metadata": {},
      "outputs": [
        {
          "name": "stdout",
          "output_type": "stream",
          "text": [
            "헐크\n",
            "아이언맨\n",
            "펭수\n"
          ]
        }
      ],
      "source": [
        "mdict= {'헐크': 50, '아이언맨': 60, '펭수':70}\n",
        "\n",
        "for key in mdict.keys():\n",
        "    print(key)"
      ]
    },
    {
      "cell_type": "code",
      "execution_count": 14,
      "metadata": {},
      "outputs": [
        {
          "name": "stdout",
          "output_type": "stream",
          "text": [
            "50\n",
            "60\n",
            "70\n"
          ]
        }
      ],
      "source": [
        "for value in mdict.values():\n",
        "    print(value)"
      ]
    },
    {
      "cell_type": "code",
      "execution_count": 15,
      "metadata": {},
      "outputs": [
        {
          "name": "stdout",
          "output_type": "stream",
          "text": [
            "헐크 50\n",
            "아이언맨 60\n",
            "펭수 70\n"
          ]
        }
      ],
      "source": [
        "for name, age in mdict.items():\n",
        "    print(name, age)"
      ]
    },
    {
      "cell_type": "code",
      "execution_count": 16,
      "metadata": {},
      "outputs": [
        {
          "name": "stdout",
          "output_type": "stream",
          "text": [
            "H\n",
            "e\n",
            "l\n",
            "l\n",
            "o\n"
          ]
        }
      ],
      "source": [
        "#문자열(str)\n",
        "\n",
        "for c in \"Hello\":\n",
        "    print(c)"
      ]
    },
    {
      "cell_type": "markdown",
      "metadata": {},
      "source": [
        "#range()\n",
        "\n",
        "range()함수는 별도의 list, tuple 생성 없이 range()에서 정의한 반복하는데 활용할 수 있음 \n",
        "\n",
        "range(start, stop, step)형식을 사용함\n",
        "\n",
        "stop: 단일 값을 지정하는 경우 "
      ]
    },
    {
      "cell_type": "code",
      "execution_count": 17,
      "metadata": {},
      "outputs": [
        {
          "name": "stdout",
          "output_type": "stream",
          "text": [
            "0\n",
            "1\n",
            "2\n",
            "3\n",
            "4\n",
            "5\n",
            "6\n",
            "7\n",
            "8\n",
            "9\n"
          ]
        }
      ],
      "source": [
        "for i in range(10):\n",
        "    print(i)"
      ]
    },
    {
      "cell_type": "code",
      "execution_count": 18,
      "metadata": {},
      "outputs": [
        {
          "name": "stdout",
          "output_type": "stream",
          "text": [
            "2\n",
            "3\n",
            "4\n",
            "5\n",
            "6\n",
            "7\n",
            "8\n"
          ]
        }
      ],
      "source": [
        "#start, stop: 두 개의 값을 지정한 경우 \n",
        "\n",
        "for i in range(2,9):\n",
        "    print(i)"
      ]
    },
    {
      "cell_type": "code",
      "execution_count": 19,
      "metadata": {},
      "outputs": [
        {
          "name": "stdout",
          "output_type": "stream",
          "text": [
            "1\n",
            "3\n",
            "5\n",
            "7\n",
            "9\n"
          ]
        }
      ],
      "source": [
        "#start, stop, step:세 개의 값을 지정한 경우 \n",
        "\n",
        "for i in range(1,10,2):\n",
        "    print(i)"
      ]
    },
    {
      "cell_type": "code",
      "execution_count": 20,
      "metadata": {},
      "outputs": [
        {
          "name": "stdout",
          "output_type": "stream",
          "text": [
            "(i=1)+ (j = 1) = 1\n",
            "(i=1)+ (j = 2) = 2\n",
            "(i=1)+ (j = 3) = 3\n",
            "===\n",
            "(i=2)+ (j = 1) = 2\n",
            "(i=2)+ (j = 2) = 4\n",
            "(i=2)+ (j = 3) = 6\n",
            "===\n",
            "(i=3)+ (j = 1) = 3\n",
            "(i=3)+ (j = 2) = 6\n",
            "(i=3)+ (j = 3) = 9\n",
            "===\n"
          ]
        }
      ],
      "source": [
        "#반복문의 중첩 \n",
        "\n",
        "for i in range(1,4):\n",
        "    for j in range(1,4):\n",
        "        print(f'(i={i})+ (j = {j}) = {i*j}')\n",
        "    print('===')\n"
      ]
    },
    {
      "cell_type": "markdown",
      "metadata": {},
      "source": [
        "#제어문 \n",
        "\n",
        "continue\n",
        "\n",
        "-반복문 내부에서 continue 구문은 해당 루프(loop)를 건너뛰게 함 \n",
        "-continue라는 구문을 만나면, 반복문에서 continue 아래 작성된 코드는 실행되지 않고 건너뜀 \n"
      ]
    },
    {
      "cell_type": "code",
      "execution_count": 21,
      "metadata": {},
      "outputs": [
        {
          "name": "stdout",
          "output_type": "stream",
          "text": [
            "2\n",
            "4\n",
            "6\n",
            "8\n",
            "10\n"
          ]
        }
      ],
      "source": [
        "list = [1,2,3,4,5,6,7,8,9,10]\n",
        "\n",
        "for i in list:\n",
        "    if i % 2 ==1:\n",
        "        continue\n",
        "    print(i)"
      ]
    },
    {
      "cell_type": "markdown",
      "metadata": {},
      "source": [
        "#break \n",
        "\n",
        "break 구문을 만나면, 반복 루프(loop)는 즉시 종료됨"
      ]
    },
    {
      "cell_type": "code",
      "execution_count": 22,
      "metadata": {},
      "outputs": [
        {
          "name": "stdout",
          "output_type": "stream",
          "text": [
            "1\n",
            "2\n",
            "3\n",
            "4\n",
            "5\n"
          ]
        }
      ],
      "source": [
        "for i in list:\n",
        "    if i >= 6:\n",
        "        break \n",
        "    print(i)"
      ]
    },
    {
      "cell_type": "code",
      "execution_count": 23,
      "metadata": {},
      "outputs": [
        {
          "name": "stdout",
          "output_type": "stream",
          "text": [
            "0\n",
            "1\n",
            "2\n",
            "3\n",
            "4\n"
          ]
        }
      ],
      "source": [
        "#break, continue의 차이 \n",
        "\n",
        "for i in range(10):\n",
        "    if i ==5:\n",
        "        break \n",
        "    print(i)"
      ]
    },
    {
      "cell_type": "code",
      "execution_count": 24,
      "metadata": {},
      "outputs": [
        {
          "name": "stdout",
          "output_type": "stream",
          "text": [
            "0\n",
            "1\n",
            "2\n",
            "3\n",
            "4\n",
            "6\n",
            "7\n",
            "8\n",
            "9\n"
          ]
        }
      ],
      "source": [
        "for i in range(10):\n",
        "    if i == 5:\n",
        "        continue\n",
        "    print(i)"
      ]
    },
    {
      "cell_type": "markdown",
      "metadata": {},
      "source": [
        "#While\n",
        "\n",
        "while문은 while문과 함께 정의한 조건이 참인 동안 반복 루프를 수행함 "
      ]
    },
    {
      "cell_type": "code",
      "execution_count": 25,
      "metadata": {},
      "outputs": [
        {
          "name": "stdout",
          "output_type": "stream",
          "text": [
            "5\n",
            "4\n",
            "3\n",
            "2\n",
            "1\n"
          ]
        }
      ],
      "source": [
        "count =5 \n",
        "\n",
        "while count > 0:\n",
        "    print(count)\n",
        "    count -=1"
      ]
    },
    {
      "cell_type": "markdown",
      "metadata": {},
      "source": [
        "많은 사용하는 방법 중 하나는 while True로 지정하여 무한 루프를 생성 후, 탈출 구문 루프 내에서 설정하는 것 "
      ]
    },
    {
      "cell_type": "code",
      "execution_count": 26,
      "metadata": {},
      "outputs": [
        {
          "name": "stdout",
          "output_type": "stream",
          "text": [
            "1\n",
            "2\n",
            "3\n",
            "4\n",
            "5\n"
          ]
        }
      ],
      "source": [
        "count = 1 \n",
        "\n",
        "while True: \n",
        "    print(count)\n",
        "    count += 1\n",
        "    #탈출 구문(break)\n",
        "    if count > 5:\n",
        "        break"
      ]
    }
  ],
  "metadata": {
    "colab": {
      "name": "파이썬-리스트-튜플.ipynb",
      "provenance": []
    },
    "interpreter": {
      "hash": "d4dae4ea8e5f4de9e76d858a9174cd4657e40ccbbb94f8495095b398f7d4021b"
    },
    "kernelspec": {
      "display_name": "Python 3.10.4 64-bit (windows store)",
      "language": "python",
      "name": "python3"
    },
    "language_info": {
      "codemirror_mode": {
        "name": "ipython",
        "version": 3
      },
      "file_extension": ".py",
      "mimetype": "text/x-python",
      "name": "python",
      "nbconvert_exporter": "python",
      "pygments_lexer": "ipython3",
      "version": "3.10.4"
    }
  },
  "nbformat": 4,
  "nbformat_minor": 0
}
