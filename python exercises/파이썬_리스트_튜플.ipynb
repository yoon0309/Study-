{
  "cells": [
    {
      "cell_type": "markdown",
      "metadata": {
        "id": "CcAe7u88qqWW"
      },
      "source": [
        "02 - 파이썬-리스트-튜플 "
      ]
    },
    {
      "cell_type": "markdown",
      "metadata": {
        "id": "fqUYY2GYqvhH"
      },
      "source": [
        "시퀀스 - 리스트 - 순서가 있고, 가변  [1,2,3]\n",
        "\n",
        "시퀀스 - 튜플 - 순서가 있고, 불변  (1,2,3)\n",
        "\n",
        "세트 - 세트 - 순서가 없고 중복을 허용하지 않음  (1,2,3)\n",
        "\n",
        "맵 - 딕셔너리  -순서가 없고 key/value 쌍으로 이루어짐 {'a':1, 'b':2, 'c':3}"
      ]
    },
    {
      "cell_type": "markdown",
      "metadata": {
        "id": "dh4s_2V8rbFr"
      },
      "source": [
        "#리스트?\n",
        "\n",
        "데이터의 요소를 순차적으로 파악하는데 용이한 자료형 \n",
        "\n",
        "리스트는 다양한 메서드(method) 혹은 함수를 지원, 메서드를 활용해서 요소를 추가,삭제 및 변경할 수 있음 \n",
        "\n",
        "#메서드? \n",
        "객체가 포함하는 함수 또는 기능을 말함 "
      ]
    },
    {
      "cell_type": "code",
      "execution_count": 1,
      "metadata": {
        "colab": {
          "base_uri": "https://localhost:8080/"
        },
        "id": "dszAzJ3VriJW",
        "outputId": "1b6b0d6f-2993-4827-9237-8ae43c3c2971"
      },
      "outputs": [
        {
          "data": {
            "text/plain": [
              "[]"
            ]
          },
          "execution_count": 1,
          "metadata": {},
          "output_type": "execute_result"
        }
      ],
      "source": [
        "list1= []\n",
        "list1"
      ]
    },
    {
      "cell_type": "code",
      "execution_count": 2,
      "metadata": {
        "colab": {
          "base_uri": "https://localhost:8080/"
        },
        "id": "4BjJj-Tmr0LV",
        "outputId": "ad41b572-8c8b-49bc-ba5e-9c3dba0776f3"
      },
      "outputs": [
        {
          "data": {
            "text/plain": [
              "[1, 2, 32, 45, 5]"
            ]
          },
          "execution_count": 2,
          "metadata": {},
          "output_type": "execute_result"
        }
      ],
      "source": [
        "#리스트를 생성하면서 값을 포함해야함 \n",
        "list = [1,2,32,45,5]\n",
        "list"
      ]
    },
    {
      "cell_type": "markdown",
      "metadata": {
        "id": "ak4e6Rz0r8W1"
      },
      "source": [
        "#list 규칙 \n",
        "list는 다양한 type의 데이터를 집합으로 가짐 \n",
        "\n",
        "list안에 list도 허용\n",
        "\n",
        "list는 순서(order)개념이 존재 \n"
      ]
    },
    {
      "cell_type": "code",
      "execution_count": 3,
      "metadata": {
        "colab": {
          "base_uri": "https://localhost:8080/"
        },
        "id": "px9nXQZxsGpU",
        "outputId": "5c890d69-ad8c-4203-ecf0-73397e9aab91"
      },
      "outputs": [
        {
          "data": {
            "text/plain": [
              "[1, 2, 3]"
            ]
          },
          "execution_count": 3,
          "metadata": {},
          "output_type": "execute_result"
        }
      ],
      "source": [
        "a = []\n",
        "\n",
        "a =[1,2,3]\n",
        "a"
      ]
    },
    {
      "cell_type": "code",
      "execution_count": 4,
      "metadata": {
        "colab": {
          "base_uri": "https://localhost:8080/"
        },
        "id": "NOURLdDMsLjG",
        "outputId": "212b8089-eb19-4f4a-f552-179bc1e21313"
      },
      "outputs": [
        {
          "name": "stdout",
          "output_type": "stream",
          "text": [
            "[1, 'rabbit', 3, 3.17, False]\n"
          ]
        },
        {
          "data": {
            "text/plain": [
              "[1, 'rabbit', [1, 2, 3], 3, 3.17, False]"
            ]
          },
          "execution_count": 4,
          "metadata": {},
          "output_type": "execute_result"
        }
      ],
      "source": [
        "a= [1, 'rabbit', 3, 3.17, False]\n",
        "print(a)\n",
        "\n",
        "#리스트 안에 리스트 포함할 수 있음 \n",
        "a= [1, 'rabbit', [1,2,3], 3, 3.17, False]\n",
        "a"
      ]
    },
    {
      "cell_type": "markdown",
      "metadata": {
        "id": "Ros7DNWtslTF"
      },
      "source": [
        "#append(): 값 추가"
      ]
    },
    {
      "cell_type": "code",
      "execution_count": 5,
      "metadata": {
        "colab": {
          "base_uri": "https://localhost:8080/"
        },
        "id": "fdsmQxnKsno_",
        "outputId": "5c74cfcc-cf2d-4319-fdb2-dc1d17b3ee84"
      },
      "outputs": [
        {
          "data": {
            "text/plain": [
              "[]"
            ]
          },
          "execution_count": 5,
          "metadata": {},
          "output_type": "execute_result"
        }
      ],
      "source": [
        "list= []\n",
        "list"
      ]
    },
    {
      "cell_type": "code",
      "execution_count": 6,
      "metadata": {
        "colab": {
          "base_uri": "https://localhost:8080/"
        },
        "id": "2CMQEC5Mss-q",
        "outputId": "9f08a861-2f03-4018-839c-1d4528f645b7"
      },
      "outputs": [
        {
          "data": {
            "text/plain": [
              "[1]"
            ]
          },
          "execution_count": 6,
          "metadata": {},
          "output_type": "execute_result"
        }
      ],
      "source": [
        "list.append(1)\n",
        "list"
      ]
    },
    {
      "cell_type": "code",
      "execution_count": 7,
      "metadata": {
        "colab": {
          "base_uri": "https://localhost:8080/"
        },
        "id": "g3MmoxLhswSJ",
        "outputId": "9bc3f7ae-e1f9-414d-a4fd-b425865b5fdd"
      },
      "outputs": [
        {
          "data": {
            "text/plain": [
              "[1, 7, 7, 7, 3, 5, 2]"
            ]
          },
          "execution_count": 7,
          "metadata": {},
          "output_type": "execute_result"
        }
      ],
      "source": [
        "list.append(7)\n",
        "list.append(7)\n",
        "list.append(7)\n",
        "list.append(3)\n",
        "list.append(5)\n",
        "list.append(2)\n",
        "list"
      ]
    },
    {
      "cell_type": "markdown",
      "metadata": {
        "id": "U7mhsXPus3Yr"
      },
      "source": [
        "#Sort(): 정렬\n",
        "\n",
        "요소를 순서대로 정렬(오름차순)\n",
        "\n",
        "sort()는 내부적으로 정렬"
      ]
    },
    {
      "cell_type": "code",
      "execution_count": 8,
      "metadata": {
        "colab": {
          "base_uri": "https://localhost:8080/"
        },
        "id": "tULmlrUvs-Ms",
        "outputId": "3de22245-57f7-4e61-b3d7-24c53f879dec"
      },
      "outputs": [
        {
          "name": "stdout",
          "output_type": "stream",
          "text": [
            "[1, 1, 2, 4, 5, 8, 9]\n"
          ]
        }
      ],
      "source": [
        "list= [1,9,4,5,2,1,8]\n",
        "list.sort()\n",
        "print(list)"
      ]
    },
    {
      "cell_type": "markdown",
      "metadata": {
        "id": "IyLi31NltOhZ"
      },
      "source": [
        "역정렬 (reverse= True)\n"
      ]
    },
    {
      "cell_type": "code",
      "execution_count": 9,
      "metadata": {
        "colab": {
          "base_uri": "https://localhost:8080/"
        },
        "id": "Js-tm9sAtRyp",
        "outputId": "d44a2221-3fb0-4a0e-fb97-8b34f6c5b724"
      },
      "outputs": [
        {
          "data": {
            "text/plain": [
              "[9, 8, 5, 4, 2, 1, 1]"
            ]
          },
          "execution_count": 9,
          "metadata": {},
          "output_type": "execute_result"
        }
      ],
      "source": [
        "list = [1,9,4,5,2,1,8]\n",
        "list.sort(reverse= True)\n",
        "list\n"
      ]
    },
    {
      "cell_type": "code",
      "execution_count": 10,
      "metadata": {
        "colab": {
          "base_uri": "https://localhost:8080/"
        },
        "id": "ebtv4dHGtgU5",
        "outputId": "60a614de-32b9-41db-bd4f-774bb2692154"
      },
      "outputs": [
        {
          "data": {
            "text/plain": [
              "[1, 1, 2, 4, 5, 8, 9]"
            ]
          },
          "execution_count": 10,
          "metadata": {},
          "output_type": "execute_result"
        }
      ],
      "source": [
        "#reverse(): 역정렬 \n",
        "list.reverse()\n",
        "list"
      ]
    },
    {
      "cell_type": "markdown",
      "metadata": {
        "id": "wJiElz5Ht7to"
      },
      "source": [
        "len(): 전체 항목의 개수 세기"
      ]
    },
    {
      "cell_type": "code",
      "execution_count": 11,
      "metadata": {
        "colab": {
          "base_uri": "https://localhost:8080/"
        },
        "id": "xercZJ0TuAaZ",
        "outputId": "f69bf92e-c2b7-49eb-bbf4-c857103ab22d"
      },
      "outputs": [
        {
          "data": {
            "text/plain": [
              "7"
            ]
          },
          "execution_count": 11,
          "metadata": {},
          "output_type": "execute_result"
        }
      ],
      "source": [
        "list = [1,9,4,5,2,1,8]\n",
        "len(list)"
      ]
    },
    {
      "cell_type": "markdown",
      "metadata": {
        "id": "waTkHzhauWMl"
      },
      "source": [
        "insert(): 값 추가 \n"
      ]
    },
    {
      "cell_type": "code",
      "execution_count": 12,
      "metadata": {
        "colab": {
          "base_uri": "https://localhost:8080/"
        },
        "id": "5TQcSwKCuYFb",
        "outputId": "a2343b13-9689-42e2-d6fe-9e0062dc9925"
      },
      "outputs": [
        {
          "data": {
            "text/plain": [
              "[1, 100, 9, 4, 5, 2, 1, 8]"
            ]
          },
          "execution_count": 12,
          "metadata": {},
          "output_type": "execute_result"
        }
      ],
      "source": [
        "list.insert(1,100)\n",
        "list "
      ]
    },
    {
      "cell_type": "markdown",
      "metadata": {
        "id": "H0pmeVcLuiiI"
      },
      "source": [
        "remove(): 값 제거 \n",
        "\n",
        "리스트에서 첫 번째 나오는 해당 값 삭제 "
      ]
    },
    {
      "cell_type": "code",
      "execution_count": 13,
      "metadata": {
        "colab": {
          "base_uri": "https://localhost:8080/"
        },
        "id": "vAv8HBMvuogW",
        "outputId": "5b2cee25-1e24-44d4-f59a-4cc741bb0c88"
      },
      "outputs": [
        {
          "data": {
            "text/plain": [
              "[1, 3, 4, 56, 9]"
            ]
          },
          "execution_count": 13,
          "metadata": {},
          "output_type": "execute_result"
        }
      ],
      "source": [
        "list= [1, 1, 3,4,56, 9]\n",
        "list.remove(1)\n",
        "list"
      ]
    },
    {
      "cell_type": "markdown",
      "metadata": {
        "id": "OX2nZCL4uwKF"
      },
      "source": [
        "pop(): 요소 꺼내기 \n",
        "\n",
        "x번째 요소를 돌려주고 해당 요소는 삭제 "
      ]
    },
    {
      "cell_type": "code",
      "execution_count": 14,
      "metadata": {
        "colab": {
          "base_uri": "https://localhost:8080/"
        },
        "id": "oxIPIucBu0gF",
        "outputId": "b767021b-f22b-46bd-e9d4-e04ec0f645a0"
      },
      "outputs": [
        {
          "data": {
            "text/plain": [
              "3"
            ]
          },
          "execution_count": 14,
          "metadata": {},
          "output_type": "execute_result"
        }
      ],
      "source": [
        "list.pop(1)\n"
      ]
    },
    {
      "cell_type": "code",
      "execution_count": 15,
      "metadata": {
        "colab": {
          "base_uri": "https://localhost:8080/"
        },
        "id": "WIXLnsGGu5Ku",
        "outputId": "14df3d53-6921-4e47-c6ee-3226eff13f8b"
      },
      "outputs": [
        {
          "data": {
            "text/plain": [
              "[1, 4, 56, 9]"
            ]
          },
          "execution_count": 15,
          "metadata": {},
          "output_type": "execute_result"
        }
      ],
      "source": [
        "list"
      ]
    },
    {
      "cell_type": "markdown",
      "metadata": {
        "id": "r1Rm-8Fou9nB"
      },
      "source": [
        "del : 요소 삭제 "
      ]
    },
    {
      "cell_type": "code",
      "execution_count": 16,
      "metadata": {
        "colab": {
          "base_uri": "https://localhost:8080/"
        },
        "id": "6X56USOcu_3c",
        "outputId": "f258f9c2-1d33-40fa-c0ec-01f10148284e"
      },
      "outputs": [
        {
          "name": "stdout",
          "output_type": "stream",
          "text": [
            "[100, 300, 400]\n",
            "[100, 300]\n"
          ]
        }
      ],
      "source": [
        "list = [100,200,300,400]\n",
        "\n",
        "del list[1]\n",
        "print(list)\n",
        "del list[2]\n",
        "print(list)"
      ]
    },
    {
      "cell_type": "markdown",
      "metadata": {
        "id": "-130IvQwvQ9_"
      },
      "source": [
        "count(): 갯수 세기 "
      ]
    },
    {
      "cell_type": "code",
      "execution_count": 17,
      "metadata": {
        "colab": {
          "base_uri": "https://localhost:8080/"
        },
        "id": "pGWWW7f_vS09",
        "outputId": "fbc2fde0-1248-4f91-88ca-dd16bd71ae80"
      },
      "outputs": [
        {
          "data": {
            "text/plain": [
              "2"
            ]
          },
          "execution_count": 17,
          "metadata": {},
          "output_type": "execute_result"
        }
      ],
      "source": [
        "a= [1,1,1,3,1,11,1,1,1,2,1,1,11]\n",
        "\n",
        "a.count(1)\n",
        "a.count(11)"
      ]
    },
    {
      "cell_type": "markdown",
      "metadata": {
        "id": "MfsPs_UsveaF"
      },
      "source": [
        "extend(): 리스트 확장"
      ]
    },
    {
      "cell_type": "code",
      "execution_count": 18,
      "metadata": {
        "colab": {
          "base_uri": "https://localhost:8080/"
        },
        "id": "m_jLB-pSvkb8",
        "outputId": "b4a1c0f2-1816-461a-c096-f0dc94664f3a"
      },
      "outputs": [
        {
          "data": {
            "text/plain": [
              "[1, 2, 3, 4, 5]"
            ]
          },
          "execution_count": 18,
          "metadata": {},
          "output_type": "execute_result"
        }
      ],
      "source": [
        "a = [1,2,3]\n",
        "\n",
        "a.extend([4,5])\n",
        "a"
      ]
    },
    {
      "cell_type": "code",
      "execution_count": 19,
      "metadata": {
        "colab": {
          "base_uri": "https://localhost:8080/"
        },
        "id": "2_-sCbkZvqOB",
        "outputId": "632f0684-3cd8-4ef0-9879-d2d5e8d5de2a"
      },
      "outputs": [
        {
          "data": {
            "text/plain": [
              "[1, 2, 3, 4, 5]"
            ]
          },
          "execution_count": 19,
          "metadata": {},
          "output_type": "execute_result"
        }
      ],
      "source": [
        "# +연산자 == extend()\n",
        "\n",
        "a= [1,2,3]\n",
        "a + [4,5]"
      ]
    },
    {
      "cell_type": "markdown",
      "metadata": {
        "id": "oEuLBZwtv5d2"
      },
      "source": [
        "인덱싱(indexing): 색인 \n",
        "\n",
        "인덱스는 0번 부터 시작함 "
      ]
    },
    {
      "cell_type": "code",
      "execution_count": 20,
      "metadata": {
        "colab": {
          "base_uri": "https://localhost:8080/"
        },
        "id": "fIC01g4bv-03",
        "outputId": "92931894-6e3b-414d-d1e0-80baceae3cb4"
      },
      "outputs": [
        {
          "data": {
            "text/plain": [
              "1"
            ]
          },
          "execution_count": 20,
          "metadata": {},
          "output_type": "execute_result"
        }
      ],
      "source": [
        "list = [1,2,3,4]\n",
        "\n",
        "list[0]"
      ]
    },
    {
      "cell_type": "code",
      "execution_count": 21,
      "metadata": {
        "colab": {
          "base_uri": "https://localhost:8080/"
        },
        "id": "w3hWkRjbwIvs",
        "outputId": "3d27eae8-a987-443a-bb1b-710005a1bce9"
      },
      "outputs": [
        {
          "data": {
            "text/plain": [
              "2"
            ]
          },
          "execution_count": 21,
          "metadata": {},
          "output_type": "execute_result"
        }
      ],
      "source": [
        "list[1]"
      ]
    },
    {
      "cell_type": "code",
      "execution_count": 22,
      "metadata": {
        "colab": {
          "base_uri": "https://localhost:8080/"
        },
        "id": "ulePBgmGwKtK",
        "outputId": "04dd638b-26b9-4190-abc9-142ce4c61603"
      },
      "outputs": [
        {
          "data": {
            "text/plain": [
              "3"
            ]
          },
          "execution_count": 22,
          "metadata": {},
          "output_type": "execute_result"
        }
      ],
      "source": [
        "list[2]"
      ]
    },
    {
      "cell_type": "code",
      "execution_count": 23,
      "metadata": {
        "colab": {
          "base_uri": "https://localhost:8080/"
        },
        "id": "ngHZCk4GwL_V",
        "outputId": "51bb44d2-25ae-4915-bdae-c1e2a945f239"
      },
      "outputs": [
        {
          "data": {
            "text/plain": [
              "4"
            ]
          },
          "execution_count": 23,
          "metadata": {},
          "output_type": "execute_result"
        }
      ],
      "source": [
        "list[3]"
      ]
    },
    {
      "cell_type": "markdown",
      "metadata": {
        "id": "6THc_sU1wPCF"
      },
      "source": [
        "역순 인덱싱 , 마이너스 값"
      ]
    },
    {
      "cell_type": "code",
      "execution_count": 24,
      "metadata": {
        "colab": {
          "base_uri": "https://localhost:8080/"
        },
        "id": "p-B0acQcwShb",
        "outputId": "cb62c08a-abfd-4ee8-d418-e4b66bd1d6df"
      },
      "outputs": [
        {
          "data": {
            "text/plain": [
              "4"
            ]
          },
          "execution_count": 24,
          "metadata": {},
          "output_type": "execute_result"
        }
      ],
      "source": [
        "list[-1]"
      ]
    },
    {
      "cell_type": "code",
      "execution_count": 25,
      "metadata": {
        "colab": {
          "base_uri": "https://localhost:8080/"
        },
        "id": "jTfUSNkJwV17",
        "outputId": "c090d465-e56e-418a-f5f0-d2a5a6c770ed"
      },
      "outputs": [
        {
          "data": {
            "text/plain": [
              "1"
            ]
          },
          "execution_count": 25,
          "metadata": {},
          "output_type": "execute_result"
        }
      ],
      "source": [
        "list[-4]"
      ]
    },
    {
      "cell_type": "markdown",
      "metadata": {},
      "source": [
        "인덱스로 접근하여 값 바꿈 "
      ]
    },
    {
      "cell_type": "code",
      "execution_count": 26,
      "metadata": {},
      "outputs": [
        {
          "data": {
            "text/plain": [
              "[1, 2, 3, 4, 5]"
            ]
          },
          "execution_count": 26,
          "metadata": {},
          "output_type": "execute_result"
        }
      ],
      "source": [
        "list= [1,2,3,4,5]\n",
        "list"
      ]
    },
    {
      "cell_type": "code",
      "execution_count": 27,
      "metadata": {},
      "outputs": [
        {
          "name": "stdout",
          "output_type": "stream",
          "text": [
            "1\n",
            "2\n",
            "3\n"
          ]
        }
      ],
      "source": [
        "print(list[0])\n",
        "print(list[1])\n",
        "print(list[-3])\n"
      ]
    },
    {
      "cell_type": "code",
      "execution_count": 28,
      "metadata": {},
      "outputs": [
        {
          "data": {
            "text/plain": [
              "[1, 2, 300, 4, 5]"
            ]
          },
          "execution_count": 28,
          "metadata": {},
          "output_type": "execute_result"
        }
      ],
      "source": [
        "list[-3]=300\n",
        "list"
      ]
    },
    {
      "cell_type": "markdown",
      "metadata": {},
      "source": [
        "중첩된 리스트 인덱싱 \n",
        "- 중첩된 리스트에 대한 리스트는 중첩 인덱싱으로 접근 "
      ]
    },
    {
      "cell_type": "code",
      "execution_count": 29,
      "metadata": {},
      "outputs": [
        {
          "data": {
            "text/plain": [
              "[['가', '나', '다'], [4, 5, 6], 7, 3, 2]"
            ]
          },
          "execution_count": 29,
          "metadata": {},
          "output_type": "execute_result"
        }
      ],
      "source": [
        "list=[['가','나','다'],[4,5,6],7,3,2]\n",
        "list"
      ]
    },
    {
      "cell_type": "markdown",
      "metadata": {},
      "source": [
        "1번째 리스트 요소 중 1번째 요소를 가져오기 위해서는 중첩 인덱싱으로 접근 "
      ]
    },
    {
      "cell_type": "code",
      "execution_count": 30,
      "metadata": {},
      "outputs": [
        {
          "data": {
            "text/plain": [
              "5"
            ]
          },
          "execution_count": 30,
          "metadata": {},
          "output_type": "execute_result"
        }
      ],
      "source": [
        "list[1][1]"
      ]
    },
    {
      "cell_type": "code",
      "execution_count": 31,
      "metadata": {},
      "outputs": [
        {
          "data": {
            "text/plain": [
              "[['가', '나', '다'], [4, 99, 6], 7, 3, 2]"
            ]
          },
          "execution_count": 31,
          "metadata": {},
          "output_type": "execute_result"
        }
      ],
      "source": [
        "list[1][1] =99\n",
        "list"
      ]
    },
    {
      "cell_type": "markdown",
      "metadata": {},
      "source": [
        "슬라이싱(Slicing): 범위 추출 "
      ]
    },
    {
      "cell_type": "code",
      "execution_count": 32,
      "metadata": {},
      "outputs": [
        {
          "data": {
            "text/plain": [
              "[100, 200, 300, 400]"
            ]
          },
          "execution_count": 32,
          "metadata": {},
          "output_type": "execute_result"
        }
      ],
      "source": [
        "list= [100,200,300,400]\n",
        "\n",
        "list[:]\n"
      ]
    },
    {
      "cell_type": "code",
      "execution_count": 33,
      "metadata": {},
      "outputs": [
        {
          "name": "stdout",
          "output_type": "stream",
          "text": [
            "[300, 400]\n",
            "[200, 300, 400]\n",
            "[200, 300]\n"
          ]
        }
      ],
      "source": [
        "#[start:]는 시작 index 부터 끝까지 추출 \n",
        "print(list[2:])\n",
        "#[:end]는 처음부터 end전까지 추출 \n",
        "print(list[-3:])\n",
        "#[start:end]는 start부터 end전 까지 추출함 \n",
        "print(list[1:3])"
      ]
    },
    {
      "cell_type": "markdown",
      "metadata": {},
      "source": [
        "indexing에 step 활용하기 \n",
        "\n",
        "list[start:stop:step]\n",
        " step은 몇칸씩 건너뛰는지에 대한 것 "
      ]
    },
    {
      "cell_type": "code",
      "execution_count": 34,
      "metadata": {},
      "outputs": [
        {
          "data": {
            "text/plain": [
              "[100, 300.5]"
            ]
          },
          "execution_count": 34,
          "metadata": {},
          "output_type": "execute_result"
        }
      ],
      "source": [
        "\n",
        "list = [100,200,300.500]\n",
        "\n",
        "#2칸씩 건너뛰기 \n",
        "list[::2]\n"
      ]
    },
    {
      "cell_type": "code",
      "execution_count": 35,
      "metadata": {},
      "outputs": [
        {
          "data": {
            "text/plain": [
              "[300.5, 200, 100]"
            ]
          },
          "execution_count": 35,
          "metadata": {},
          "output_type": "execute_result"
        }
      ],
      "source": [
        "#역순출력 \n",
        "\n",
        "list[::-1]\n"
      ]
    },
    {
      "cell_type": "code",
      "execution_count": 36,
      "metadata": {},
      "outputs": [
        {
          "data": {
            "text/plain": [
              "[300.5, 100]"
            ]
          },
          "execution_count": 36,
          "metadata": {},
          "output_type": "execute_result"
        }
      ],
      "source": [
        "#역순 그리고 2칸씩 건너뛰기 \n",
        "list[::-2]"
      ]
    },
    {
      "cell_type": "markdown",
      "metadata": {},
      "source": [
        "list 덧셈: list 확장 "
      ]
    },
    {
      "cell_type": "code",
      "execution_count": 37,
      "metadata": {},
      "outputs": [],
      "source": [
        "a= [1,2,3,4]\n",
        "b= [5,6,7,8]"
      ]
    },
    {
      "cell_type": "code",
      "execution_count": 38,
      "metadata": {},
      "outputs": [
        {
          "data": {
            "text/plain": [
              "[1, 2, 3, 4, 5, 6, 7, 8]"
            ]
          },
          "execution_count": 38,
          "metadata": {},
          "output_type": "execute_result"
        }
      ],
      "source": [
        "a+b"
      ]
    },
    {
      "cell_type": "code",
      "execution_count": 39,
      "metadata": {},
      "outputs": [
        {
          "data": {
            "text/plain": [
              "['a', 'b', 'c', 'd', 'e', 'f']"
            ]
          },
          "execution_count": 39,
          "metadata": {},
          "output_type": "execute_result"
        }
      ],
      "source": [
        "a= ['a','b','c']\n",
        "b= ['d','e','f']\n",
        "\n",
        "a+b"
      ]
    },
    {
      "cell_type": "markdown",
      "metadata": {},
      "source": [
        "list 곱셈: list 반복"
      ]
    },
    {
      "cell_type": "code",
      "execution_count": 40,
      "metadata": {},
      "outputs": [
        {
          "data": {
            "text/plain": [
              "['a', 'b', 'c', 'a', 'b', 'c']"
            ]
          },
          "execution_count": 40,
          "metadata": {},
          "output_type": "execute_result"
        }
      ],
      "source": [
        "a= ['a','b','c']\n",
        "b= [1,2,3,4]\n",
        "\n",
        "a*2"
      ]
    },
    {
      "cell_type": "code",
      "execution_count": 41,
      "metadata": {},
      "outputs": [
        {
          "data": {
            "text/plain": [
              "[1, 2, 3, 4, 1, 2, 3, 4, 1, 2, 3, 4]"
            ]
          },
          "execution_count": 41,
          "metadata": {},
          "output_type": "execute_result"
        }
      ],
      "source": [
        "b*3"
      ]
    },
    {
      "cell_type": "markdown",
      "metadata": {},
      "source": [
        "튜플(tuple)\n",
        " 리스트는 가변적 객체 \n",
        " 튜플은 불변의 객체 \n",
        "\n",
        "가변객체는 요소에 대한 수정, 삭제, 변경등이 가능 \n",
        "불변의 객체는 요소에 대한 수정, 삭제, 변경등이 불가능 \n",
        "\n",
        "생성 \n",
        " tuple(), ()\n",
        " 혹은 ,로 생성할 수 있음 \n",
        "\n",
        "()로 튜플을 생성할 수 있음"
      ]
    },
    {
      "cell_type": "code",
      "execution_count": 42,
      "metadata": {},
      "outputs": [
        {
          "data": {
            "text/plain": [
              "(1, 2, 3)"
            ]
          },
          "execution_count": 42,
          "metadata": {},
          "output_type": "execute_result"
        }
      ],
      "source": [
        "tuple= ()\n",
        "\n",
        "tuple = (1,2,3)\n",
        "tuple\n"
      ]
    },
    {
      "cell_type": "code",
      "execution_count": 43,
      "metadata": {},
      "outputs": [
        {
          "ename": "TypeError",
          "evalue": "'tuple' object is not callable",
          "output_type": "error",
          "traceback": [
            "\u001b[1;31m---------------------------------------------------------------------------\u001b[0m",
            "\u001b[1;31mTypeError\u001b[0m                                 Traceback (most recent call last)",
            "\u001b[1;32mc:\\Users\\SAMSUNG\\OneDrive\\바탕 화면\\codestates\\Study-\\python exercises\\파이썬_리스트_튜플.ipynb Cell 67'\u001b[0m in \u001b[0;36m<cell line: 3>\u001b[1;34m()\u001b[0m\n\u001b[0;32m      <a href='vscode-notebook-cell:/c%3A/Users/SAMSUNG/OneDrive/%EB%B0%94%ED%83%95%20%ED%99%94%EB%A9%B4/codestates/Study-/python%20exercises/%ED%8C%8C%EC%9D%B4%EC%8D%AC_%EB%A6%AC%EC%8A%A4%ED%8A%B8_%ED%8A%9C%ED%94%8C.ipynb#ch0000070?line=0'>1</a>\u001b[0m \u001b[39m#tuple()로 생성되는 경우 \u001b[39;00m\n\u001b[1;32m----> <a href='vscode-notebook-cell:/c%3A/Users/SAMSUNG/OneDrive/%EB%B0%94%ED%83%95%20%ED%99%94%EB%A9%B4/codestates/Study-/python%20exercises/%ED%8C%8C%EC%9D%B4%EC%8D%AC_%EB%A6%AC%EC%8A%A4%ED%8A%B8_%ED%8A%9C%ED%94%8C.ipynb#ch0000070?line=2'>3</a>\u001b[0m tuple1\u001b[39m=\u001b[39m \u001b[39mtuple\u001b[39;49m([\u001b[39m1\u001b[39;49m, \u001b[39m2\u001b[39;49m, \u001b[39m3\u001b[39;49m])\n\u001b[0;32m      <a href='vscode-notebook-cell:/c%3A/Users/SAMSUNG/OneDrive/%EB%B0%94%ED%83%95%20%ED%99%94%EB%A9%B4/codestates/Study-/python%20exercises/%ED%8C%8C%EC%9D%B4%EC%8D%AC_%EB%A6%AC%EC%8A%A4%ED%8A%B8_%ED%8A%9C%ED%94%8C.ipynb#ch0000070?line=3'>4</a>\u001b[0m tuple1\n",
            "\u001b[1;31mTypeError\u001b[0m: 'tuple' object is not callable"
          ]
        }
      ],
      "source": [
        "#tuple()로 생성되는 경우 \n",
        "\n",
        "tuple1= tuple([1, 2, 3])\n",
        "tuple1\n",
        "\n",
        "\n",
        "#why?오류뜨는지 이해가 안된다 하지만 tuple이 맞다는것"
      ]
    },
    {
      "cell_type": "code",
      "execution_count": null,
      "metadata": {},
      "outputs": [
        {
          "data": {
            "text/plain": [
              "(1, 2, 3)"
            ]
          },
          "execution_count": 57,
          "metadata": {},
          "output_type": "execute_result"
        }
      ],
      "source": [
        "# ,로 생성 \n",
        "\n",
        "tuple= 1,2,3\n",
        "tuple\n"
      ]
    },
    {
      "cell_type": "code",
      "execution_count": null,
      "metadata": {},
      "outputs": [
        {
          "name": "stdout",
          "output_type": "stream",
          "text": [
            "<class 'tuple'>\n"
          ]
        },
        {
          "data": {
            "text/plain": [
              "(1,)"
            ]
          },
          "execution_count": 58,
          "metadata": {},
          "output_type": "execute_result"
        }
      ],
      "source": [
        "#단일 요소를 생성할 때는 반드시 ,를 붙여줍니다 \n",
        "\n",
        "mtuple =1, \n",
        "print(type(mtuple))\n",
        "mtuple"
      ]
    },
    {
      "cell_type": "code",
      "execution_count": null,
      "metadata": {},
      "outputs": [
        {
          "name": "stdout",
          "output_type": "stream",
          "text": [
            "<class 'tuple'>\n"
          ]
        },
        {
          "data": {
            "text/plain": [
              "(1,)"
            ]
          },
          "execution_count": 59,
          "metadata": {},
          "output_type": "execute_result"
        }
      ],
      "source": [
        "\n",
        "mtuple =(1,) \n",
        "print(type(mtuple))\n",
        "mtuple"
      ]
    },
    {
      "cell_type": "code",
      "execution_count": null,
      "metadata": {},
      "outputs": [
        {
          "name": "stdout",
          "output_type": "stream",
          "text": [
            "<class 'int'>\n"
          ]
        },
        {
          "data": {
            "text/plain": [
              "1"
            ]
          },
          "execution_count": 60,
          "metadata": {},
          "output_type": "execute_result"
        }
      ],
      "source": [
        "mtuple =(1) \n",
        "print(type(mtuple))\n",
        "mtuple"
      ]
    },
    {
      "cell_type": "markdown",
      "metadata": {},
      "source": [
        "튜플 언패킹(unpacking)\n",
        "튜플로 한 번에 여러 변수에 값을 한 번에 할당 할 수 있음 "
      ]
    },
    {
      "cell_type": "code",
      "execution_count": null,
      "metadata": {},
      "outputs": [
        {
          "name": "stdout",
          "output_type": "stream",
          "text": [
            "1\n",
            "2\n",
            "3\n"
          ]
        }
      ],
      "source": [
        "a, b, c = 1,2,3\n",
        "\n",
        "print(a)\n",
        "print(b)\n",
        "print(c)"
      ]
    },
    {
      "cell_type": "markdown",
      "metadata": {},
      "source": [
        "튜플 자료형은 요소의 추가, 삭제, 변경을 허용하지 않습니다."
      ]
    },
    {
      "cell_type": "code",
      "execution_count": null,
      "metadata": {},
      "outputs": [
        {
          "data": {
            "text/plain": [
              "(1, 2, 3)"
            ]
          },
          "execution_count": 62,
          "metadata": {},
          "output_type": "execute_result"
        }
      ],
      "source": [
        "mtuple= (1,2,3)\n",
        "mtuple"
      ]
    },
    {
      "cell_type": "code",
      "execution_count": null,
      "metadata": {},
      "outputs": [
        {
          "data": {
            "text/plain": [
              "2"
            ]
          },
          "execution_count": 63,
          "metadata": {},
          "output_type": "execute_result"
        }
      ],
      "source": [
        "#요소를 조회하는 것은 가능 \n",
        "\n",
        "mtuple[1]"
      ]
    },
    {
      "cell_type": "markdown",
      "metadata": {},
      "source": [
        "튜플의 덧셈: 튜플의 확장 "
      ]
    },
    {
      "cell_type": "code",
      "execution_count": null,
      "metadata": {},
      "outputs": [
        {
          "data": {
            "text/plain": [
              "(1, 2, 3, 4)"
            ]
          },
          "execution_count": 64,
          "metadata": {},
          "output_type": "execute_result"
        }
      ],
      "source": [
        "a= (1,2)\n",
        "b= (3,4)\n",
        "\n",
        "a+b"
      ]
    },
    {
      "cell_type": "markdown",
      "metadata": {},
      "source": [
        "튜플 곱셈: 튜플의 반복"
      ]
    },
    {
      "cell_type": "code",
      "execution_count": null,
      "metadata": {},
      "outputs": [
        {
          "data": {
            "text/plain": [
              "(1, 2, 1, 2, 1, 2)"
            ]
          },
          "execution_count": 65,
          "metadata": {},
          "output_type": "execute_result"
        }
      ],
      "source": [
        "a *3 "
      ]
    },
    {
      "cell_type": "code",
      "execution_count": null,
      "metadata": {},
      "outputs": [
        {
          "data": {
            "text/plain": [
              "3"
            ]
          },
          "execution_count": 66,
          "metadata": {},
          "output_type": "execute_result"
        }
      ],
      "source": [
        "#길이 파악하기 \n",
        "len(mtuple)"
      ]
    },
    {
      "cell_type": "code",
      "execution_count": null,
      "metadata": {},
      "outputs": [
        {
          "data": {
            "text/plain": [
              "[1, 2, 3, 4]"
            ]
          },
          "execution_count": 67,
          "metadata": {},
          "output_type": "execute_result"
        }
      ],
      "source": [
        "#list -> tuple로 전환 \n",
        "\n",
        "a = [1,2,3,4]\n",
        "a"
      ]
    },
    {
      "cell_type": "code",
      "execution_count": null,
      "metadata": {},
      "outputs": [
        {
          "data": {
            "text/plain": [
              "list"
            ]
          },
          "execution_count": 68,
          "metadata": {},
          "output_type": "execute_result"
        }
      ],
      "source": [
        "type(a)"
      ]
    },
    {
      "cell_type": "code",
      "execution_count": null,
      "metadata": {},
      "outputs": [
        {
          "ename": "TypeError",
          "evalue": "'tuple' object is not callable",
          "output_type": "error",
          "traceback": [
            "\u001b[1;31m---------------------------------------------------------------------------\u001b[0m",
            "\u001b[1;31mTypeError\u001b[0m                                 Traceback (most recent call last)",
            "\u001b[1;32m~\\AppData\\Local\\Temp/ipykernel_22036/3076938168.py\u001b[0m in \u001b[0;36m<module>\u001b[1;34m\u001b[0m\n\u001b[1;32m----> 1\u001b[1;33m \u001b[0mb\u001b[0m\u001b[1;33m=\u001b[0m \u001b[0mtuple\u001b[0m\u001b[1;33m(\u001b[0m\u001b[0ma\u001b[0m\u001b[1;33m)\u001b[0m\u001b[1;33m\u001b[0m\u001b[1;33m\u001b[0m\u001b[0m\n\u001b[0m",
            "\u001b[1;31mTypeError\u001b[0m: 'tuple' object is not callable"
          ]
        }
      ],
      "source": [
        "b= tuple(a)\n",
        "\n",
        "\n",
        "#type error가 왜 뜨는지 모르겠지만, list에서 tuple로 변경할때 list를 tuple로 감싸주면 \n",
        "#튜플형태가 된다"
      ]
    },
    {
      "cell_type": "markdown",
      "metadata": {},
      "source": [
        "type error가 왜 뜨는지 모르겠지만, list에서 tuple로 변경할때 list를 tuple로 감싸주면 \n",
        "튜플형태가 된다\n",
        "\n",
        "가상환경에서의 작업에서 type error가 왜 발생하는지 찾아보아야겠다. "
      ]
    },
    {
      "cell_type": "markdown",
      "metadata": {},
      "source": [
        "tuple -> list "
      ]
    },
    {
      "cell_type": "code",
      "execution_count": 44,
      "metadata": {},
      "outputs": [
        {
          "data": {
            "text/plain": [
              "(1, 2, 3, 4)"
            ]
          },
          "execution_count": 44,
          "metadata": {},
          "output_type": "execute_result"
        }
      ],
      "source": [
        "a= (1,2,3,4)\n",
        "a"
      ]
    },
    {
      "cell_type": "code",
      "execution_count": 45,
      "metadata": {},
      "outputs": [
        {
          "data": {
            "text/plain": [
              "tuple"
            ]
          },
          "execution_count": 45,
          "metadata": {},
          "output_type": "execute_result"
        }
      ],
      "source": [
        "type(a)"
      ]
    },
    {
      "cell_type": "code",
      "execution_count": 46,
      "metadata": {},
      "outputs": [
        {
          "ename": "TypeError",
          "evalue": "'list' object is not callable",
          "output_type": "error",
          "traceback": [
            "\u001b[1;31m---------------------------------------------------------------------------\u001b[0m",
            "\u001b[1;31mTypeError\u001b[0m                                 Traceback (most recent call last)",
            "\u001b[1;32mc:\\Users\\SAMSUNG\\OneDrive\\바탕 화면\\codestates\\Study-\\python exercises\\파이썬_리스트_튜플.ipynb Cell 89'\u001b[0m in \u001b[0;36m<cell line: 1>\u001b[1;34m()\u001b[0m\n\u001b[1;32m----> <a href='vscode-notebook-cell:/c%3A/Users/SAMSUNG/OneDrive/%EB%B0%94%ED%83%95%20%ED%99%94%EB%A9%B4/codestates/Study-/python%20exercises/%ED%8C%8C%EC%9D%B4%EC%8D%AC_%EB%A6%AC%EC%8A%A4%ED%8A%B8_%ED%8A%9C%ED%94%8C.ipynb#ch0000095?line=0'>1</a>\u001b[0m b\u001b[39m=\u001b[39m \u001b[39mlist\u001b[39;49m(a)\n",
            "\u001b[1;31mTypeError\u001b[0m: 'list' object is not callable"
          ]
        }
      ],
      "source": [
        "b= list(a)"
      ]
    },
    {
      "cell_type": "markdown",
      "metadata": {},
      "source": [
        "type error가 왜 뜨는지 모르겠지만, list에서 tuple로 변경할때 list를 tuple로 감싸주면 \n",
        "튜플형태가 되듯, tuple도 list로 변경할 때, tuple을 list로 감싸주면 된다 \n"
      ]
    },
    {
      "cell_type": "markdown",
      "metadata": {},
      "source": [
        "리스트로 type을 변경하면 , 요소의 추가 및 삭제가 가능하다 \n",
        "요소를 추가 및 삭제한 후 다시 tuple로 변경할 수 있다. "
      ]
    }
  ],
  "metadata": {
    "colab": {
      "name": "파이썬-리스트-튜플.ipynb",
      "provenance": []
    },
    "interpreter": {
      "hash": "d4dae4ea8e5f4de9e76d858a9174cd4657e40ccbbb94f8495095b398f7d4021b"
    },
    "kernelspec": {
      "display_name": "Python 3.10.4 64-bit (windows store)",
      "language": "python",
      "name": "python3"
    },
    "language_info": {
      "codemirror_mode": {
        "name": "ipython",
        "version": 3
      },
      "file_extension": ".py",
      "mimetype": "text/x-python",
      "name": "python",
      "nbconvert_exporter": "python",
      "pygments_lexer": "ipython3",
      "version": "3.10.4"
    }
  },
  "nbformat": 4,
  "nbformat_minor": 0
}
