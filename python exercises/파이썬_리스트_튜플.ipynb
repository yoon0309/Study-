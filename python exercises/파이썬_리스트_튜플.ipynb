{
  "nbformat": 4,
  "nbformat_minor": 0,
  "metadata": {
    "colab": {
      "name": "파이썬-리스트-튜플.ipynb",
      "provenance": []
    },
    "kernelspec": {
      "name": "python3",
      "display_name": "Python 3"
    },
    "language_info": {
      "name": "python"
    }
  },
  "cells": [
    {
      "cell_type": "markdown",
      "source": [
        "02 - 파이썬-리스트-튜플 "
      ],
      "metadata": {
        "id": "CcAe7u88qqWW"
      }
    },
    {
      "cell_type": "markdown",
      "source": [
        "시퀀스 - 리스트 - 순서가 있고, 가변  [1,2,3]\n",
        "\n",
        "시퀀스 - 튜플 - 순서가 있고, 불변  (1,2,3)\n",
        "\n",
        "세트 - 세트 - 순서가 없고 중복을 허용하지 않음  (1,2,3)\n",
        "\n",
        "맵 - 딕셔너리  -순서가 없고 key/value 쌍으로 이루어짐 {'a':1, 'b':2, 'c':3}"
      ],
      "metadata": {
        "id": "fqUYY2GYqvhH"
      }
    },
    {
      "cell_type": "markdown",
      "source": [
        "#리스트?\n",
        "\n",
        "데이터의 요소를 순차적으로 파악하는데 용이한 자료형 \n",
        "\n",
        "리스트는 다양한 메서드(method) 혹은 함수를 지원, 메서드를 활용해서 요소를 추가,삭제 및 변경할 수 있음 \n",
        "\n",
        "#메서드? \n",
        "객체가 포함하는 함수 또는 기능을 말함 "
      ],
      "metadata": {
        "id": "dh4s_2V8rbFr"
      }
    },
    {
      "cell_type": "code",
      "source": [
        "list1= []\n",
        "list1"
      ],
      "metadata": {
        "colab": {
          "base_uri": "https://localhost:8080/"
        },
        "id": "dszAzJ3VriJW",
        "outputId": "1b6b0d6f-2993-4827-9237-8ae43c3c2971"
      },
      "execution_count": 12,
      "outputs": [
        {
          "output_type": "execute_result",
          "data": {
            "text/plain": [
              "[]"
            ]
          },
          "metadata": {},
          "execution_count": 12
        }
      ]
    },
    {
      "cell_type": "code",
      "source": [
        "#리스트를 생성하면서 값을 포함해야함 \n",
        "list = [1,2,32,45,5]\n",
        "list"
      ],
      "metadata": {
        "colab": {
          "base_uri": "https://localhost:8080/"
        },
        "id": "4BjJj-Tmr0LV",
        "outputId": "ad41b572-8c8b-49bc-ba5e-9c3dba0776f3"
      },
      "execution_count": 13,
      "outputs": [
        {
          "output_type": "execute_result",
          "data": {
            "text/plain": [
              "[1, 2, 32, 45, 5]"
            ]
          },
          "metadata": {},
          "execution_count": 13
        }
      ]
    },
    {
      "cell_type": "markdown",
      "source": [
        "#list 규칙 \n",
        "list는 다양한 type의 데이터를 집합으로 가짐 \n",
        "\n",
        "list안에 list도 허용\n",
        "\n",
        "list는 순서(order)개념이 존재 \n"
      ],
      "metadata": {
        "id": "ak4e6Rz0r8W1"
      }
    },
    {
      "cell_type": "code",
      "source": [
        "a = []\n",
        "\n",
        "a =[1,2,3]\n",
        "a"
      ],
      "metadata": {
        "colab": {
          "base_uri": "https://localhost:8080/"
        },
        "id": "px9nXQZxsGpU",
        "outputId": "5c890d69-ad8c-4203-ecf0-73397e9aab91"
      },
      "execution_count": 14,
      "outputs": [
        {
          "output_type": "execute_result",
          "data": {
            "text/plain": [
              "[1, 2, 3]"
            ]
          },
          "metadata": {},
          "execution_count": 14
        }
      ]
    },
    {
      "cell_type": "code",
      "source": [
        "a= [1, 'rabbit', 3, 3.17, False]\n",
        "print(a)\n",
        "\n",
        "#리스트 안에 리스트 포함할 수 있음 \n",
        "a= [1, 'rabbit', [1,2,3], 3, 3.17, False]\n",
        "a"
      ],
      "metadata": {
        "colab": {
          "base_uri": "https://localhost:8080/"
        },
        "id": "NOURLdDMsLjG",
        "outputId": "212b8089-eb19-4f4a-f552-179bc1e21313"
      },
      "execution_count": 15,
      "outputs": [
        {
          "output_type": "stream",
          "name": "stdout",
          "text": [
            "[1, 'rabbit', 3, 3.17, False]\n"
          ]
        },
        {
          "output_type": "execute_result",
          "data": {
            "text/plain": [
              "[1, 'rabbit', [1, 2, 3], 3, 3.17, False]"
            ]
          },
          "metadata": {},
          "execution_count": 15
        }
      ]
    },
    {
      "cell_type": "markdown",
      "source": [
        "#append(): 값 추가"
      ],
      "metadata": {
        "id": "Ros7DNWtslTF"
      }
    },
    {
      "cell_type": "code",
      "source": [
        "list= []\n",
        "list"
      ],
      "metadata": {
        "colab": {
          "base_uri": "https://localhost:8080/"
        },
        "id": "fdsmQxnKsno_",
        "outputId": "5c74cfcc-cf2d-4319-fdb2-dc1d17b3ee84"
      },
      "execution_count": 16,
      "outputs": [
        {
          "output_type": "execute_result",
          "data": {
            "text/plain": [
              "[]"
            ]
          },
          "metadata": {},
          "execution_count": 16
        }
      ]
    },
    {
      "cell_type": "code",
      "source": [
        "list.append(1)\n",
        "list"
      ],
      "metadata": {
        "colab": {
          "base_uri": "https://localhost:8080/"
        },
        "id": "2CMQEC5Mss-q",
        "outputId": "9f08a861-2f03-4018-839c-1d4528f645b7"
      },
      "execution_count": 17,
      "outputs": [
        {
          "output_type": "execute_result",
          "data": {
            "text/plain": [
              "[1]"
            ]
          },
          "metadata": {},
          "execution_count": 17
        }
      ]
    },
    {
      "cell_type": "code",
      "source": [
        "list.append(7)\n",
        "list.append(7)\n",
        "list.append(7)\n",
        "list.append(3)\n",
        "list.append(5)\n",
        "list.append(2)\n",
        "list"
      ],
      "metadata": {
        "colab": {
          "base_uri": "https://localhost:8080/"
        },
        "id": "g3MmoxLhswSJ",
        "outputId": "9bc3f7ae-e1f9-414d-a4fd-b425865b5fdd"
      },
      "execution_count": 18,
      "outputs": [
        {
          "output_type": "execute_result",
          "data": {
            "text/plain": [
              "[1, 7, 7, 7, 3, 5, 2]"
            ]
          },
          "metadata": {},
          "execution_count": 18
        }
      ]
    },
    {
      "cell_type": "markdown",
      "source": [
        "#Sort(): 정렬\n",
        "\n",
        "요소를 순서대로 정렬(오름차순)\n",
        "\n",
        "sort()는 내부적으로 정렬"
      ],
      "metadata": {
        "id": "U7mhsXPus3Yr"
      }
    },
    {
      "cell_type": "code",
      "source": [
        "list= [1,9,4,5,2,1,8]\n",
        "list.sort()\n",
        "print(list)"
      ],
      "metadata": {
        "colab": {
          "base_uri": "https://localhost:8080/"
        },
        "id": "tULmlrUvs-Ms",
        "outputId": "3de22245-57f7-4e61-b3d7-24c53f879dec"
      },
      "execution_count": 22,
      "outputs": [
        {
          "output_type": "stream",
          "name": "stdout",
          "text": [
            "[1, 1, 2, 4, 5, 8, 9]\n"
          ]
        }
      ]
    },
    {
      "cell_type": "markdown",
      "source": [
        "역정렬 (reverse= True)\n"
      ],
      "metadata": {
        "id": "IyLi31NltOhZ"
      }
    },
    {
      "cell_type": "code",
      "source": [
        "list = [1,9,4,5,2,1,8]\n",
        "list.sort(reverse= True)\n",
        "list\n"
      ],
      "metadata": {
        "colab": {
          "base_uri": "https://localhost:8080/"
        },
        "id": "Js-tm9sAtRyp",
        "outputId": "d44a2221-3fb0-4a0e-fb97-8b34f6c5b724"
      },
      "execution_count": 23,
      "outputs": [
        {
          "output_type": "execute_result",
          "data": {
            "text/plain": [
              "[9, 8, 5, 4, 2, 1, 1]"
            ]
          },
          "metadata": {},
          "execution_count": 23
        }
      ]
    },
    {
      "cell_type": "code",
      "source": [
        "#reverse(): 역정렬 \n",
        "list.reverse()\n",
        "list"
      ],
      "metadata": {
        "colab": {
          "base_uri": "https://localhost:8080/"
        },
        "id": "ebtv4dHGtgU5",
        "outputId": "60a614de-32b9-41db-bd4f-774bb2692154"
      },
      "execution_count": 24,
      "outputs": [
        {
          "output_type": "execute_result",
          "data": {
            "text/plain": [
              "[1, 1, 2, 4, 5, 8, 9]"
            ]
          },
          "metadata": {},
          "execution_count": 24
        }
      ]
    },
    {
      "cell_type": "markdown",
      "source": [
        "len(): 전체 항목의 개수 세기"
      ],
      "metadata": {
        "id": "wJiElz5Ht7to"
      }
    },
    {
      "cell_type": "code",
      "source": [
        "list = [1,9,4,5,2,1,8]\n",
        "len(list)"
      ],
      "metadata": {
        "colab": {
          "base_uri": "https://localhost:8080/"
        },
        "id": "xercZJ0TuAaZ",
        "outputId": "f69bf92e-c2b7-49eb-bbf4-c857103ab22d"
      },
      "execution_count": 25,
      "outputs": [
        {
          "output_type": "execute_result",
          "data": {
            "text/plain": [
              "7"
            ]
          },
          "metadata": {},
          "execution_count": 25
        }
      ]
    },
    {
      "cell_type": "markdown",
      "source": [
        "insert(): 값 추가 \n"
      ],
      "metadata": {
        "id": "waTkHzhauWMl"
      }
    },
    {
      "cell_type": "code",
      "source": [
        "list.insert(1,100)\n",
        "list "
      ],
      "metadata": {
        "colab": {
          "base_uri": "https://localhost:8080/"
        },
        "id": "5TQcSwKCuYFb",
        "outputId": "a2343b13-9689-42e2-d6fe-9e0062dc9925"
      },
      "execution_count": 26,
      "outputs": [
        {
          "output_type": "execute_result",
          "data": {
            "text/plain": [
              "[1, 100, 9, 4, 5, 2, 1, 8]"
            ]
          },
          "metadata": {},
          "execution_count": 26
        }
      ]
    },
    {
      "cell_type": "markdown",
      "source": [
        "remove(): 값 제거 \n",
        "\n",
        "리스트에서 첫 번째 나오는 해당 값 삭제 "
      ],
      "metadata": {
        "id": "H0pmeVcLuiiI"
      }
    },
    {
      "cell_type": "code",
      "source": [
        "list= [1, 1, 3,4,56, 9]\n",
        "list.remove(1)\n",
        "list"
      ],
      "metadata": {
        "colab": {
          "base_uri": "https://localhost:8080/"
        },
        "id": "vAv8HBMvuogW",
        "outputId": "5b2cee25-1e24-44d4-f59a-4cc741bb0c88"
      },
      "execution_count": 27,
      "outputs": [
        {
          "output_type": "execute_result",
          "data": {
            "text/plain": [
              "[1, 3, 4, 56, 9]"
            ]
          },
          "metadata": {},
          "execution_count": 27
        }
      ]
    },
    {
      "cell_type": "markdown",
      "source": [
        "pop(): 요소 꺼내기 \n",
        "\n",
        "x번째 요소를 돌려주고 해당 요소는 삭제 "
      ],
      "metadata": {
        "id": "OX2nZCL4uwKF"
      }
    },
    {
      "cell_type": "code",
      "source": [
        "list.pop(1)\n"
      ],
      "metadata": {
        "colab": {
          "base_uri": "https://localhost:8080/"
        },
        "id": "oxIPIucBu0gF",
        "outputId": "b767021b-f22b-46bd-e9d4-e04ec0f645a0"
      },
      "execution_count": 28,
      "outputs": [
        {
          "output_type": "execute_result",
          "data": {
            "text/plain": [
              "3"
            ]
          },
          "metadata": {},
          "execution_count": 28
        }
      ]
    },
    {
      "cell_type": "code",
      "source": [
        "list"
      ],
      "metadata": {
        "colab": {
          "base_uri": "https://localhost:8080/"
        },
        "id": "WIXLnsGGu5Ku",
        "outputId": "14df3d53-6921-4e47-c6ee-3226eff13f8b"
      },
      "execution_count": 29,
      "outputs": [
        {
          "output_type": "execute_result",
          "data": {
            "text/plain": [
              "[1, 4, 56, 9]"
            ]
          },
          "metadata": {},
          "execution_count": 29
        }
      ]
    },
    {
      "cell_type": "markdown",
      "source": [
        "del : 요소 삭제 "
      ],
      "metadata": {
        "id": "r1Rm-8Fou9nB"
      }
    },
    {
      "cell_type": "code",
      "source": [
        "list = [100,200,300,400]\n",
        "\n",
        "del list[1]\n",
        "print(list)\n",
        "del list[2]\n",
        "print(list)"
      ],
      "metadata": {
        "colab": {
          "base_uri": "https://localhost:8080/"
        },
        "id": "6X56USOcu_3c",
        "outputId": "f258f9c2-1d33-40fa-c0ec-01f10148284e"
      },
      "execution_count": 31,
      "outputs": [
        {
          "output_type": "stream",
          "name": "stdout",
          "text": [
            "[100, 300, 400]\n",
            "[100, 300]\n"
          ]
        }
      ]
    },
    {
      "cell_type": "markdown",
      "source": [
        "count(): 갯수 세기 "
      ],
      "metadata": {
        "id": "-130IvQwvQ9_"
      }
    },
    {
      "cell_type": "code",
      "source": [
        "a= [1,1,1,3,1,11,1,1,1,2,1,1,11]\n",
        "\n",
        "a.count(1)\n",
        "a.count(11)"
      ],
      "metadata": {
        "colab": {
          "base_uri": "https://localhost:8080/"
        },
        "id": "pGWWW7f_vS09",
        "outputId": "fbc2fde0-1248-4f91-88ca-dd16bd71ae80"
      },
      "execution_count": 32,
      "outputs": [
        {
          "output_type": "execute_result",
          "data": {
            "text/plain": [
              "2"
            ]
          },
          "metadata": {},
          "execution_count": 32
        }
      ]
    },
    {
      "cell_type": "markdown",
      "source": [
        "extend(): 리스트 확장"
      ],
      "metadata": {
        "id": "MfsPs_UsveaF"
      }
    },
    {
      "cell_type": "code",
      "source": [
        "a = [1,2,3]\n",
        "\n",
        "a.extend([4,5])\n",
        "a"
      ],
      "metadata": {
        "colab": {
          "base_uri": "https://localhost:8080/"
        },
        "id": "m_jLB-pSvkb8",
        "outputId": "b4a1c0f2-1816-461a-c096-f0dc94664f3a"
      },
      "execution_count": 33,
      "outputs": [
        {
          "output_type": "execute_result",
          "data": {
            "text/plain": [
              "[1, 2, 3, 4, 5]"
            ]
          },
          "metadata": {},
          "execution_count": 33
        }
      ]
    },
    {
      "cell_type": "code",
      "source": [
        "# +연산자 == extend()\n",
        "\n",
        "a= [1,2,3]\n",
        "a + [4,5]"
      ],
      "metadata": {
        "colab": {
          "base_uri": "https://localhost:8080/"
        },
        "id": "2_-sCbkZvqOB",
        "outputId": "632f0684-3cd8-4ef0-9879-d2d5e8d5de2a"
      },
      "execution_count": 34,
      "outputs": [
        {
          "output_type": "execute_result",
          "data": {
            "text/plain": [
              "[1, 2, 3, 4, 5]"
            ]
          },
          "metadata": {},
          "execution_count": 34
        }
      ]
    },
    {
      "cell_type": "markdown",
      "source": [
        "인덱싱(indexing): 색인 \n",
        "\n",
        "인덱스는 0번 부터 시작함 "
      ],
      "metadata": {
        "id": "oEuLBZwtv5d2"
      }
    },
    {
      "cell_type": "code",
      "source": [
        "list = [1,2,3,4]\n",
        "\n",
        "list[0]"
      ],
      "metadata": {
        "colab": {
          "base_uri": "https://localhost:8080/"
        },
        "id": "fIC01g4bv-03",
        "outputId": "92931894-6e3b-414d-d1e0-80baceae3cb4"
      },
      "execution_count": 36,
      "outputs": [
        {
          "output_type": "execute_result",
          "data": {
            "text/plain": [
              "1"
            ]
          },
          "metadata": {},
          "execution_count": 36
        }
      ]
    },
    {
      "cell_type": "code",
      "source": [
        "list[1]"
      ],
      "metadata": {
        "colab": {
          "base_uri": "https://localhost:8080/"
        },
        "id": "w3hWkRjbwIvs",
        "outputId": "3d27eae8-a987-443a-bb1b-710005a1bce9"
      },
      "execution_count": 37,
      "outputs": [
        {
          "output_type": "execute_result",
          "data": {
            "text/plain": [
              "2"
            ]
          },
          "metadata": {},
          "execution_count": 37
        }
      ]
    },
    {
      "cell_type": "code",
      "source": [
        "list[2]"
      ],
      "metadata": {
        "colab": {
          "base_uri": "https://localhost:8080/"
        },
        "id": "ulePBgmGwKtK",
        "outputId": "04dd638b-26b9-4190-abc9-142ce4c61603"
      },
      "execution_count": 38,
      "outputs": [
        {
          "output_type": "execute_result",
          "data": {
            "text/plain": [
              "3"
            ]
          },
          "metadata": {},
          "execution_count": 38
        }
      ]
    },
    {
      "cell_type": "code",
      "source": [
        "list[3]"
      ],
      "metadata": {
        "colab": {
          "base_uri": "https://localhost:8080/"
        },
        "id": "ngHZCk4GwL_V",
        "outputId": "51bb44d2-25ae-4915-bdae-c1e2a945f239"
      },
      "execution_count": 39,
      "outputs": [
        {
          "output_type": "execute_result",
          "data": {
            "text/plain": [
              "4"
            ]
          },
          "metadata": {},
          "execution_count": 39
        }
      ]
    },
    {
      "cell_type": "markdown",
      "source": [
        "역순 인덱싱 , 마이너스 값"
      ],
      "metadata": {
        "id": "6THc_sU1wPCF"
      }
    },
    {
      "cell_type": "code",
      "source": [
        "list[-1]"
      ],
      "metadata": {
        "colab": {
          "base_uri": "https://localhost:8080/"
        },
        "id": "p-B0acQcwShb",
        "outputId": "cb62c08a-abfd-4ee8-d418-e4b66bd1d6df"
      },
      "execution_count": 40,
      "outputs": [
        {
          "output_type": "execute_result",
          "data": {
            "text/plain": [
              "4"
            ]
          },
          "metadata": {},
          "execution_count": 40
        }
      ]
    },
    {
      "cell_type": "code",
      "source": [
        "list[-4]"
      ],
      "metadata": {
        "colab": {
          "base_uri": "https://localhost:8080/"
        },
        "id": "jTfUSNkJwV17",
        "outputId": "c090d465-e56e-418a-f5f0-d2a5a6c770ed"
      },
      "execution_count": 43,
      "outputs": [
        {
          "output_type": "execute_result",
          "data": {
            "text/plain": [
              "1"
            ]
          },
          "metadata": {},
          "execution_count": 43
        }
      ]
    }
  ]
}