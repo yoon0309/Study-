{
  "cells": [
    {
      "cell_type": "code",
      "execution_count": null,
      "metadata": {
        "id": "p5hixYYwZORV"
      },
      "outputs": [],
      "source": [
        "#2257\n",
        "#Hello World!를 출력하시오.\n",
        "\n",
        "print('Hello World!')\n",
        "print(\"Hello World!\")\n",
        "\n",
        "\n",
        "#10718\n",
        "#두 줄에 걸쳐 \"강한친구 대한육군\"을 한 줄에 한 번씩 출력한다.\n",
        "print('강한친구 대한육군')\n",
        "print('강한친구 대한육군')\n",
        "\n",
        "#1000 \n",
        "#두 정수 A와 B를 입력받은 다음, A+B를 출력하는 프로그램을 작성하시오.\n",
        "#첫째 줄에 A와 B가 주어진다. (0 < A, B < 10)\n",
        "#첫째 줄에 A+B를 출력한다.\n",
        "A,B=map(int,input().split())\n",
        "print(A+B)\n",
        "\n",
        "\n",
        "#1001\n",
        "#두 정수 A와 B를 입력받은 다음, A+B를 출력하는 프로그램을 작성하시오.\n",
        "#첫째 줄에 A와 B가 주어진다. (0 < A, B < 10)\n",
        "#첫째 줄에 A-B를 출력한다.\n",
        "\n",
        "A,B= map(int,input().split())\n",
        "print(A-B)"
      ]
    },
    {
      "cell_type": "code",
      "execution_count": null,
      "metadata": {
        "id": "cAXAN6AhXjuS"
      },
      "outputs": [],
      "source": [
        "#1008\n",
        "#두 정수 A와 B를 입력받은 다음, A/B를 출력하는 프로그램을 작성하시오.\n",
        "#첫째 줄에 A와 B가 주어진다. (0 < A, B < 10)\n",
        "#첫째 줄에 A/B를 출력한다. 실제 정답과 출력값의 절대오차 또는 상대오차가 10-9 이하이면 정답이다.\n",
        "\n",
        "A,B = map(int, input().split())\n",
        "\n",
        "print(A/B)\n",
        "\n",
        "#10998\n",
        "#두 정수 A와 B를 입력받은 다음, A×B를 출력하는 프로그램을 작성하시오.\n",
        "#첫째 줄에 A와 B가 주어진다. (0 < A, B < 10)\n",
        "\n",
        "A,B = map(int,input().split())\n",
        "print(A*B)\n",
        "\n",
        "​\n",
        "\n",
        "#10869\n",
        "#두 자연수 A와 B가 주어진다. 이때, A+B, A-B, A*B, A/B(몫), A%B(나머지)를 출력하는 프로그램을 작성하시오. \n",
        "#두 자연수 A와 B가 주어진다. (1 ≤ A, B ≤ 10,000)\n",
        "#첫째 줄에 A+B, 둘째 줄에 A-B, 셋째 줄에 A*B, 넷째 줄에 A/B, 다섯째 줄에 A%B를 출력한다.\n",
        "\n",
        "A,B = map(int,input().split())\n",
        "\n",
        "print(A+B)\n",
        "print(A-B)\n",
        "print(A*B)\n",
        "print(int(A/B))\n",
        "print(A%B)\n"
      ]
    },
    {
      "cell_type": "code",
      "execution_count": 4,
      "metadata": {},
      "outputs": [],
      "source": [
        "#2884\n",
        "H,M = map(int, input().split())\n",
        "if M > 44:\n",
        "    print(H,M-45);\n",
        "elif M< 45 and H>0:\n",
        "    print(H-1,M+15)\n",
        "else :\n",
        "    print(23, M+15)"
      ]
    },
    {
      "cell_type": "code",
      "execution_count": 2,
      "metadata": {},
      "outputs": [
        {
          "name": "stdout",
          "output_type": "stream",
          "text": [
            "TEST\n"
          ]
        }
      ],
      "source": [
        "#2744\n",
        "a = input()\n",
        "print(a.swapcase())"
      ]
    },
    {
      "cell_type": "code",
      "execution_count": 3,
      "metadata": {},
      "outputs": [
        {
          "name": "stdout",
          "output_type": "stream",
          "text": [
            "4\n",
            "-2\n",
            "3\n"
          ]
        }
      ],
      "source": [
        "#2338\n",
        "A= int(input())\n",
        "B= int(input())\n",
        "print(A+B)\n",
        "print(A-B)\n",
        "print(A*B)"
      ]
    },
    {
      "cell_type": "code",
      "execution_count": 5,
      "metadata": {},
      "outputs": [
        {
          "name": "stdout",
          "output_type": "stream",
          "text": [
            "*\n",
            "**\n",
            "*********************************\n"
          ]
        }
      ],
      "source": [
        "#2438\n",
        "N = int(input())\n",
        "print( '*' *1)\n",
        "print( '*' *2)\n",
        "print('*' *N)\n",
        "\n",
        "#=> 연결이 안되어서 실패 \n"
      ]
    },
    {
      "cell_type": "code",
      "execution_count": 6,
      "metadata": {},
      "outputs": [
        {
          "name": "stdout",
          "output_type": "stream",
          "text": [
            "*\n",
            "**\n",
            "***\n",
            "****\n",
            "*****\n"
          ]
        }
      ],
      "source": [
        "N = int(input())\n",
        "for i in range (1, N+1):\n",
        "\tprint('*' * i)\n",
        "    "
      ]
    }
  ],
  "metadata": {
    "colab": {
      "name": "Bronze",
      "provenance": []
    },
    "interpreter": {
      "hash": "d4dae4ea8e5f4de9e76d858a9174cd4657e40ccbbb94f8495095b398f7d4021b"
    },
    "kernelspec": {
      "display_name": "Python 3.10.4 64-bit (windows store)",
      "language": "python",
      "name": "python3"
    },
    "language_info": {
      "codemirror_mode": {
        "name": "ipython",
        "version": 3
      },
      "file_extension": ".py",
      "mimetype": "text/x-python",
      "name": "python",
      "nbconvert_exporter": "python",
      "pygments_lexer": "ipython3",
      "version": "3.10.4"
    }
  },
  "nbformat": 4,
  "nbformat_minor": 0
}
