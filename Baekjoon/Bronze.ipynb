{
  "nbformat": 4,
  "nbformat_minor": 0,
  "metadata": {
    "colab": {
      "name": "Bronze",
      "provenance": []
    },
    "kernelspec": {
      "name": "python3",
      "display_name": "Python 3"
    },
    "language_info": {
      "name": "python"
    }
  },
  "cells": [
    {
      "cell_type": "code",
      "execution_count": null,
      "metadata": {
        "id": "p5hixYYwZORV"
      },
      "outputs": [],
      "source": [
        "#2257\n",
        "#Hello World!를 출력하시오.\n",
        "\n",
        "print('Hello World!')\n",
        "print(\"Hello World!\")\n",
        "\n",
        "\n",
        "#10718\n",
        "#두 줄에 걸쳐 \"강한친구 대한육군\"을 한 줄에 한 번씩 출력한다.\n",
        "print('강한친구 대한육군')\n",
        "print('강한친구 대한육군')\n",
        "\n",
        "#1000 \n",
        "#두 정수 A와 B를 입력받은 다음, A+B를 출력하는 프로그램을 작성하시오.\n",
        "#첫째 줄에 A와 B가 주어진다. (0 < A, B < 10)\n",
        "#첫째 줄에 A+B를 출력한다.\n",
        "A,B=map(int,input().split())\n",
        "print(A+B)\n",
        "\n",
        "\n",
        "#1001\n",
        "#두 정수 A와 B를 입력받은 다음, A+B를 출력하는 프로그램을 작성하시오.\n",
        "#첫째 줄에 A와 B가 주어진다. (0 < A, B < 10)\n",
        "#첫째 줄에 A-B를 출력한다.\n",
        "\n",
        "A,B= map(int,input().split())\n",
        "print(A-B)"
      ]
    },
    {
      "cell_type": "code",
      "source": [
        "#1008\n",
        "#두 정수 A와 B를 입력받은 다음, A/B를 출력하는 프로그램을 작성하시오.\n",
        "#첫째 줄에 A와 B가 주어진다. (0 < A, B < 10)\n",
        "#첫째 줄에 A/B를 출력한다. 실제 정답과 출력값의 절대오차 또는 상대오차가 10-9 이하이면 정답이다.\n",
        "\n",
        "A,B = map(int, input().split())\n",
        "\n",
        "print(A/B)\n",
        "\n",
        "#10998\n",
        "#두 정수 A와 B를 입력받은 다음, A×B를 출력하는 프로그램을 작성하시오.\n",
        "#첫째 줄에 A와 B가 주어진다. (0 < A, B < 10)\n",
        "\n",
        "A,B = map(int,input().split())\n",
        "print(A*B)\n",
        "\n",
        "​\n",
        "\n",
        "#10869\n",
        "#두 자연수 A와 B가 주어진다. 이때, A+B, A-B, A*B, A/B(몫), A%B(나머지)를 출력하는 프로그램을 작성하시오. \n",
        "#두 자연수 A와 B가 주어진다. (1 ≤ A, B ≤ 10,000)\n",
        "#첫째 줄에 A+B, 둘째 줄에 A-B, 셋째 줄에 A*B, 넷째 줄에 A/B, 다섯째 줄에 A%B를 출력한다.\n",
        "\n",
        "A,B = map(int,input().split())\n",
        "\n",
        "print(A+B)\n",
        "print(A-B)\n",
        "print(A*B)\n",
        "print(int(A/B))\n",
        "print(A%B)\n"
      ],
      "metadata": {
        "id": "cAXAN6AhXjuS"
      },
      "execution_count": null,
      "outputs": []
    }
  ]
}