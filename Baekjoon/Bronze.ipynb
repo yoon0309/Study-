{
  "cells": [
    {
      "cell_type": "code",
      "execution_count": null,
      "metadata": {
        "id": "p5hixYYwZORV"
      },
      "outputs": [],
      "source": [
        "#2257\n",
        "#Hello World!를 출력하시오.\n",
        "\n",
        "print('Hello World!')\n",
        "print(\"Hello World!\")\n",
        "\n",
        "\n",
        "#10718\n",
        "#두 줄에 걸쳐 \"강한친구 대한육군\"을 한 줄에 한 번씩 출력한다.\n",
        "print('강한친구 대한육군')\n",
        "print('강한친구 대한육군')\n",
        "\n",
        "#1000 \n",
        "#두 정수 A와 B를 입력받은 다음, A+B를 출력하는 프로그램을 작성하시오.\n",
        "#첫째 줄에 A와 B가 주어진다. (0 < A, B < 10)\n",
        "#첫째 줄에 A+B를 출력한다.\n",
        "A,B=map(int,input().split())\n",
        "print(A+B)\n",
        "\n",
        "a, b = input().split()\n",
        "print(int(a)+int(b))\n",
        "\n",
        "#1001\n",
        "#두 정수 A와 B를 입력받은 다음, A+B를 출력하는 프로그램을 작성하시오.\n",
        "#첫째 줄에 A와 B가 주어진다. (0 < A, B < 10)\n",
        "#첫째 줄에 A-B를 출력한다.\n",
        "\n",
        "A,B= map(int,input().split())\n",
        "print(A-B)\n",
        "\n",
        "a, b = input().split()\n",
        "print(int(a)-int(b))"
      ]
    },
    {
      "cell_type": "code",
      "execution_count": null,
      "metadata": {
        "id": "cAXAN6AhXjuS"
      },
      "outputs": [],
      "source": [
        "#1008\n",
        "#두 정수 A와 B를 입력받은 다음, A/B를 출력하는 프로그램을 작성하시오.\n",
        "#첫째 줄에 A와 B가 주어진다. (0 < A, B < 10)\n",
        "#첫째 줄에 A/B를 출력한다. 실제 정답과 출력값의 절대오차 또는 상대오차가 10-9 이하이면 정답이다.\n",
        "\n",
        "A,B = map(int, input().split())\n",
        "\n",
        "print(A/B)\n",
        "\n",
        "a,b = input().split()\n",
        "print(int(a)/int(b))\n",
        "\n",
        "\n",
        "#10998\n",
        "#두 정수 A와 B를 입력받은 다음, A×B를 출력하는 프로그램을 작성하시오.\n",
        "#첫째 줄에 A와 B가 주어진다. (0 < A, B < 10)\n",
        "\n",
        "A,B = map(int,input().split())\n",
        "print(A*B)\n",
        "\n",
        "​a,b = input().split()\n",
        "print(int(a)*int(b))\n",
        "\n",
        "#10869\n",
        "#두 자연수 A와 B가 주어진다. 이때, A+B, A-B, A*B, A/B(몫), A%B(나머지)를 출력하는 프로그램을 작성하시오. \n",
        "#두 자연수 A와 B가 주어진다. (1 ≤ A, B ≤ 10,000)\n",
        "#첫째 줄에 A+B, 둘째 줄에 A-B, 셋째 줄에 A*B, 넷째 줄에 A/B, 다섯째 줄에 A%B를 출력한다.\n",
        "\n",
        "A,B = map(int,input().split())\n",
        "\n",
        "print(A+B)\n",
        "print(A-B)\n",
        "print(A*B)\n",
        "print(int(A/B))\n",
        "print(A%B)\n"
      ]
    },
    {
      "cell_type": "code",
      "execution_count": null,
      "metadata": {
        "id": "N3110fMkW7L0"
      },
      "outputs": [],
      "source": [
        "#2884\n",
        "H,M = map(int, input().split())\n",
        "if M > 44:\n",
        "    print(H,M-45);\n",
        "elif M< 45 and H>0:\n",
        "    print(H-1,M+15)\n",
        "else :\n",
        "    print(23, M+15)"
      ]
    },
    {
      "cell_type": "code",
      "execution_count": null,
      "metadata": {
        "id": "EVVGf070W7L2",
        "outputId": "3c4e1ca9-607f-4d30-8ea3-922db8f44fa5"
      },
      "outputs": [
        {
          "name": "stdout",
          "output_type": "stream",
          "text": [
            "TEST\n"
          ]
        }
      ],
      "source": [
        "#2744\n",
        "a = input()\n",
        "print(a.swapcase())"
      ]
    },
    {
      "cell_type": "code",
      "execution_count": null,
      "metadata": {
        "id": "L7Ze8sXPW7L4",
        "outputId": "a47cd522-76f5-4a3b-aecd-64502ff96012"
      },
      "outputs": [
        {
          "name": "stdout",
          "output_type": "stream",
          "text": [
            "4\n",
            "-2\n",
            "3\n"
          ]
        }
      ],
      "source": [
        "#2338\n",
        "A= int(input())\n",
        "B= int(input())\n",
        "print(A+B)\n",
        "print(A-B)\n",
        "print(A*B)"
      ]
    },
    {
      "cell_type": "code",
      "execution_count": null,
      "metadata": {
        "id": "u5wpYFotW7L5",
        "outputId": "371ae19a-8da5-4457-bb1b-dc8726806f79"
      },
      "outputs": [
        {
          "name": "stdout",
          "output_type": "stream",
          "text": [
            "*\n",
            "**\n",
            "*********************************\n"
          ]
        }
      ],
      "source": [
        "#2438\n",
        "N = int(input())\n",
        "print( '*' *1)\n",
        "print( '*' *2)\n",
        "print('*' *N)\n",
        "\n",
        "#=> 연결이 안되어서 실패 \n"
      ]
    },
    {
      "cell_type": "code",
      "execution_count": null,
      "metadata": {
        "id": "TeGHRo19W7L7",
        "outputId": "fe0e7e4b-94fc-4016-eab2-397b13bb455e"
      },
      "outputs": [
        {
          "name": "stdout",
          "output_type": "stream",
          "text": [
            "*\n",
            "**\n",
            "***\n",
            "****\n",
            "*****\n"
          ]
        }
      ],
      "source": [
        "N = int(input())\n",
        "for i in range (1, N+1):\n",
        "\tprint('*' * i)\n",
        "    "
      ]
    },
    {
      "cell_type": "code",
      "execution_count": null,
      "metadata": {
        "id": "w5XFO8vQW7L8",
        "outputId": "2847ef4a-1631-4338-d040-f3cd1aec0652"
      },
      "outputs": [
        {
          "name": "stdout",
          "output_type": "stream",
          "text": [
            "0\n"
          ]
        }
      ],
      "source": [
        "#2420\n",
        "N, M = map(int, input().split())\n",
        "print(abs(N-M))"
      ]
    },
    {
      "cell_type": "code",
      "execution_count": null,
      "metadata": {
        "id": "EWANATlmW7L9"
      },
      "outputs": [],
      "source": [
        "#10950\n",
        "testcase = int(input())\n",
        "for _ in range(testcase):\n",
        "    A,B = map(int,input().split())\n",
        "    print(A+B)"
      ]
    },
    {
      "cell_type": "code",
      "execution_count": null,
      "metadata": {
        "id": "yMhqU1YEW7L9"
      },
      "outputs": [],
      "source": [
        "#10951\n",
        "\n",
        "for A in range(1,B):\n",
        "    A,B = map(int,input().split())\n",
        "    print(A+B)\n",
        "\n",
        "## => 실패 \n",
        "\n",
        "while True:\n",
        "    try:\n",
        "        a, b = map(int, input().split())\n",
        "        print(a+b)\n",
        "    except:\n",
        "        break"
      ]
    },
    {
      "cell_type": "code",
      "execution_count": null,
      "metadata": {
        "id": "V47ARektW7L-"
      },
      "outputs": [],
      "source": [
        "#10952\n",
        "\n",
        "while True:\n",
        "    a, b = map(int, input().split())\n",
        "    if a == 0 and b == 0:\n",
        "        break\n",
        "    print(a+b)"
      ]
    },
    {
      "cell_type": "code",
      "source": [
        "#1330\n",
        "\n",
        "a,b = input().split()\n",
        "if int(a) > int(b):\n",
        "    print('>')\n",
        "elif int(a) < int(b):\n",
        "    print('<')\n",
        "else:\n",
        "    print('==')"
      ],
      "metadata": {
        "id": "60ZNzIVvaK10"
      },
      "execution_count": null,
      "outputs": []
    }
  ],
  "metadata": {
    "colab": {
      "name": "Bronze",
      "provenance": []
    },
    "interpreter": {
      "hash": "d4dae4ea8e5f4de9e76d858a9174cd4657e40ccbbb94f8495095b398f7d4021b"
    },
    "kernelspec": {
      "display_name": "Python 3.10.4 64-bit (windows store)",
      "language": "python",
      "name": "python3"
    },
    "language_info": {
      "codemirror_mode": {
        "name": "ipython",
        "version": 3
      },
      "file_extension": ".py",
      "mimetype": "text/x-python",
      "name": "python",
      "nbconvert_exporter": "python",
      "pygments_lexer": "ipython3",
      "version": "3.10.4"
    }
  },
  "nbformat": 4,
  "nbformat_minor": 0
}