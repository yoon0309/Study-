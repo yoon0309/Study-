{
  "nbformat": 4,
  "nbformat_minor": 0,
  "metadata": {
    "colab": {
      "name": "다중분류문제해결모델",
      "provenance": []
    },
    "kernelspec": {
      "name": "python3",
      "display_name": "Python 3"
    },
    "language_info": {
      "name": "python"
    }
  },
  "cells": [
    {
      "cell_type": "code",
      "execution_count": 67,
      "metadata": {
        "id": "aqOYzRQdbYIR"
      },
      "outputs": [],
      "source": [
        "from keras.models import Sequential\n",
        "from keras.layers.core import Dense\n",
        "from keras.utils import np_utils\n",
        "from sklearn.preprocessing import LabelEncoder\n",
        "import pandas as pd \n",
        "import seaborn as sns \n",
        "import matplotlib.pyplot as plt\n",
        "import numpy\n",
        "import tensorflow as tf\n"
      ]
    },
    {
      "cell_type": "code",
      "source": [
        "#seed 값 설정 \n",
        "seed = 0 \n",
        "numpy. random.seed(seed)\n",
        "tf.random.set_seed(seed)"
      ],
      "metadata": {
        "id": "0u7lrCtEiWKA"
      },
      "execution_count": 68,
      "outputs": []
    },
    {
      "cell_type": "code",
      "source": [
        "df= pd.read_csv('/content/Iris.csv', skiprows=1)\n",
        "df.columns=[\"number\",\"sepal_lengh\",\"sepal_width\",\"petal_lengh\",\n",
        "            \"petal_width\",\"species\"]\n",
        "df=df[[\"sepal_lengh\",\"sepal_width\",\"petal_lengh\",\n",
        "            \"petal_width\",\"species\"]]"
      ],
      "metadata": {
        "id": "geiVkjHBeVhC"
      },
      "execution_count": 69,
      "outputs": []
    },
    {
      "cell_type": "code",
      "source": [
        "plt.show()"
      ],
      "metadata": {
        "id": "JltZx4uuis6Z"
      },
      "execution_count": 70,
      "outputs": []
    },
    {
      "cell_type": "code",
      "source": [
        "#데이터의 분류 \n",
        "\n",
        "dataset= df.values \n",
        "X= dataset[:, 0:4].astype(float)\n",
        "#클래스 데이터셋이 문자열이므로 숫자로 바꾸기 위해 클래스 데이터 셋을 \n",
        "#먼저 Y_obj에 저장한 후 숫자로 변환한 후 Y에 저장한다 \n",
        "Y_obj= dataset[:,4]"
      ],
      "metadata": {
        "id": "9XFINDRmgLNK"
      },
      "execution_count": 71,
      "outputs": []
    },
    {
      "cell_type": "code",
      "source": [
        "#문자열을 숫자로 변환 \n",
        "e = LabelEncoder()\n",
        "e.fit(Y_obj)\n",
        "Y= e.tramsform(Y_obj)\n",
        "Y_encoded= np_utils.to_categorical(Y)"
      ],
      "metadata": {
        "colab": {
          "base_uri": "https://localhost:8080/",
          "height": 227
        },
        "id": "CftPIWGygvDN",
        "outputId": "57f8c43e-a021-41d0-9ff5-e84d81c300ed"
      },
      "execution_count": 73,
      "outputs": [
        {
          "output_type": "error",
          "ename": "AttributeError",
          "evalue": "ignored",
          "traceback": [
            "\u001b[0;31m---------------------------------------------------------------------------\u001b[0m",
            "\u001b[0;31mAttributeError\u001b[0m                            Traceback (most recent call last)",
            "\u001b[0;32m<ipython-input-73-c1f9eb2d6fbe>\u001b[0m in \u001b[0;36m<module>\u001b[0;34m()\u001b[0m\n\u001b[1;32m      2\u001b[0m \u001b[0me\u001b[0m \u001b[0;34m=\u001b[0m \u001b[0mLabelEncoder\u001b[0m\u001b[0;34m(\u001b[0m\u001b[0;34m)\u001b[0m\u001b[0;34m\u001b[0m\u001b[0;34m\u001b[0m\u001b[0m\n\u001b[1;32m      3\u001b[0m \u001b[0me\u001b[0m\u001b[0;34m.\u001b[0m\u001b[0mfit\u001b[0m\u001b[0;34m(\u001b[0m\u001b[0mY_obj\u001b[0m\u001b[0;34m)\u001b[0m\u001b[0;34m\u001b[0m\u001b[0;34m\u001b[0m\u001b[0m\n\u001b[0;32m----> 4\u001b[0;31m \u001b[0mY\u001b[0m\u001b[0;34m=\u001b[0m \u001b[0me\u001b[0m\u001b[0;34m.\u001b[0m\u001b[0mtramsform\u001b[0m\u001b[0;34m(\u001b[0m\u001b[0mY_obj\u001b[0m\u001b[0;34m)\u001b[0m\u001b[0;34m\u001b[0m\u001b[0;34m\u001b[0m\u001b[0m\n\u001b[0m\u001b[1;32m      5\u001b[0m \u001b[0mY_encoded\u001b[0m\u001b[0;34m=\u001b[0m \u001b[0mnp_utils\u001b[0m\u001b[0;34m.\u001b[0m\u001b[0mto_categorical\u001b[0m\u001b[0;34m(\u001b[0m\u001b[0mY\u001b[0m\u001b[0;34m)\u001b[0m\u001b[0;34m\u001b[0m\u001b[0;34m\u001b[0m\u001b[0m\n",
            "\u001b[0;31mAttributeError\u001b[0m: 'LabelEncoder' object has no attribute 'tramsform'"
          ]
        }
      ]
    },
    {
      "cell_type": "code",
      "source": [
        ""
      ],
      "metadata": {
        "id": "0lDTXKK8hC7o"
      },
      "execution_count": null,
      "outputs": []
    }
  ]
}