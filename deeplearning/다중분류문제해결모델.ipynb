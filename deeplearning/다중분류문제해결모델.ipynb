{
  "nbformat": 4,
  "nbformat_minor": 0,
  "metadata": {
    "colab": {
      "name": "다중분류문제해결모델",
      "provenance": []
    },
    "kernelspec": {
      "name": "python3",
      "display_name": "Python 3"
    },
    "language_info": {
      "name": "python"
    }
  },
  "cells": [
    {
      "cell_type": "code",
      "execution_count": 3,
      "metadata": {
        "id": "aqOYzRQdbYIR"
      },
      "outputs": [],
      "source": [
        "from keras.models import Sequential\n",
        "from keras.layers.core import Dense\n",
        "from keras.utils import np_utils\n",
        "from sklearn.preprocessing import LabelEncoder\n",
        "import pandas as pd \n",
        "import seaborn as sns \n",
        "import matplotlib.pyplot as plt\n",
        "import numpy\n",
        "import tensorflow as tf\n"
      ]
    },
    {
      "cell_type": "code",
      "source": [
        "#seed 값 설정 \n",
        "seed = 0 \n",
        "numpy. random.seed(seed)\n",
        "tf.random.set_seed(seed)"
      ],
      "metadata": {
        "id": "0u7lrCtEiWKA"
      },
      "execution_count": 4,
      "outputs": []
    },
    {
      "cell_type": "code",
      "source": [
        "df= pd.read_csv('/content/Iris.csv', skiprows=1)\n",
        "df.columns=[\"number\",\"sepal_lengh\",\"sepal_width\",\"petal_lengh\",\n",
        "            \"petal_width\",\"species\"]\n",
        "df=df[[\"sepal_lengh\",\"sepal_width\",\"petal_lengh\",\n",
        "            \"petal_width\",\"species\"]]"
      ],
      "metadata": {
        "id": "geiVkjHBeVhC"
      },
      "execution_count": 5,
      "outputs": []
    },
    {
      "cell_type": "code",
      "source": [
        "plt.show()"
      ],
      "metadata": {
        "id": "JltZx4uuis6Z"
      },
      "execution_count": 6,
      "outputs": []
    },
    {
      "cell_type": "code",
      "source": [
        "#데이터의 분류 \n",
        "\n",
        "dataset= df.values \n",
        "X= dataset[:, 0:4].astype(float)\n",
        "#클래스 데이터셋이 문자열이므로 숫자로 바꾸기 위해 클래스 데이터 셋을 \n",
        "#먼저 Y_obj에 저장한 후 숫자로 변환한 후 Y에 저장한다 \n",
        "Y_obj= dataset[:,4]"
      ],
      "metadata": {
        "id": "9XFINDRmgLNK"
      },
      "execution_count": 7,
      "outputs": []
    },
    {
      "cell_type": "code",
      "source": [
        "#문자열을 숫자로 변환 \n",
        "e = LabelEncoder()\n",
        "e.fit(Y_obj)\n",
        "Y = e.transform(Y_obj)\n",
        "\n",
        "#원핫인코딩\n",
        "Y_encoded= np_utils.to_categorical(Y)"
      ],
      "metadata": {
        "id": "CftPIWGygvDN"
      },
      "execution_count": 9,
      "outputs": []
    },
    {
      "cell_type": "code",
      "source": [
        "#모델설계하기 \n",
        "\n",
        "model= Sequential()\n",
        "model.add(Dense(16, input_dim=4, activation='relu'))\n",
        "#softmax는 활성 함수의 종류 중 하나, 보통 분류문제에서 많이 사용된다\n",
        "#입력받은 값을 0~1사이의 값으로 모두 정규화하며 출력 값들의 총합은 항상 1이 되는 특성을 가진 함수\n",
        "model.add(Dense(3, activation='softmax'))\n"
      ],
      "metadata": {
        "id": "0lDTXKK8hC7o"
      },
      "execution_count": 10,
      "outputs": []
    },
    {
      "cell_type": "code",
      "source": [
        "#모델 학습 과정 설정하기(컴파일)\n",
        "\n",
        "model.compile(loss='categorical_crossentropy',\n",
        "              optimizer='adam',\n",
        "              metrics=['accuracy'])\n",
        "\n",
        "#모델학습시키기(실행하기)\n",
        "model.fit(X,Y_encoded, batch_size=1,epochs=50)\n",
        "\n",
        "#결과 출력 \n",
        "print(\"\\n Accuracy: %.4f\" %(model.evaluate(X,Y_encoded)[1]))"
      ],
      "metadata": {
        "id": "CUuUo7F1mmjV",
        "outputId": "df24af53-d70c-48f8-ef86-7cd303c689db",
        "colab": {
          "base_uri": "https://localhost:8080/"
        }
      },
      "execution_count": 11,
      "outputs": [
        {
          "output_type": "stream",
          "name": "stdout",
          "text": [
            "Epoch 1/50\n",
            "149/149 [==============================] - 1s 3ms/step - loss: 1.5170 - accuracy: 0.5302\n",
            "Epoch 2/50\n",
            "149/149 [==============================] - 0s 3ms/step - loss: 0.6449 - accuracy: 0.7315\n",
            "Epoch 3/50\n",
            "149/149 [==============================] - 0s 3ms/step - loss: 0.5696 - accuracy: 0.7450\n",
            "Epoch 4/50\n",
            "149/149 [==============================] - 0s 3ms/step - loss: 0.5105 - accuracy: 0.7651\n",
            "Epoch 5/50\n",
            "149/149 [==============================] - 0s 3ms/step - loss: 0.4605 - accuracy: 0.8389\n",
            "Epoch 6/50\n",
            "149/149 [==============================] - 1s 3ms/step - loss: 0.4307 - accuracy: 0.9128\n",
            "Epoch 7/50\n",
            "149/149 [==============================] - 1s 5ms/step - loss: 0.4005 - accuracy: 0.9060\n",
            "Epoch 8/50\n",
            "149/149 [==============================] - 0s 2ms/step - loss: 0.3721 - accuracy: 0.9262\n",
            "Epoch 9/50\n",
            "149/149 [==============================] - 0s 2ms/step - loss: 0.3524 - accuracy: 0.8993\n",
            "Epoch 10/50\n",
            "149/149 [==============================] - 0s 2ms/step - loss: 0.3305 - accuracy: 0.9530\n",
            "Epoch 11/50\n",
            "149/149 [==============================] - 0s 2ms/step - loss: 0.3175 - accuracy: 0.9396\n",
            "Epoch 12/50\n",
            "149/149 [==============================] - 0s 2ms/step - loss: 0.2943 - accuracy: 0.9463\n",
            "Epoch 13/50\n",
            "149/149 [==============================] - 0s 2ms/step - loss: 0.2824 - accuracy: 0.9597\n",
            "Epoch 14/50\n",
            "149/149 [==============================] - 0s 2ms/step - loss: 0.2686 - accuracy: 0.9530\n",
            "Epoch 15/50\n",
            "149/149 [==============================] - 0s 2ms/step - loss: 0.2595 - accuracy: 0.9396\n",
            "Epoch 16/50\n",
            "149/149 [==============================] - 0s 2ms/step - loss: 0.2458 - accuracy: 0.9732\n",
            "Epoch 17/50\n",
            "149/149 [==============================] - 0s 2ms/step - loss: 0.2350 - accuracy: 0.9799\n",
            "Epoch 18/50\n",
            "149/149 [==============================] - 0s 2ms/step - loss: 0.2217 - accuracy: 0.9664\n",
            "Epoch 19/50\n",
            "149/149 [==============================] - 0s 2ms/step - loss: 0.2221 - accuracy: 0.9530\n",
            "Epoch 20/50\n",
            "149/149 [==============================] - 0s 2ms/step - loss: 0.2088 - accuracy: 0.9597\n",
            "Epoch 21/50\n",
            "149/149 [==============================] - 0s 2ms/step - loss: 0.1987 - accuracy: 0.9597\n",
            "Epoch 22/50\n",
            "149/149 [==============================] - 0s 2ms/step - loss: 0.1930 - accuracy: 0.9664\n",
            "Epoch 23/50\n",
            "149/149 [==============================] - 0s 2ms/step - loss: 0.1798 - accuracy: 0.9799\n",
            "Epoch 24/50\n",
            "149/149 [==============================] - 0s 2ms/step - loss: 0.1774 - accuracy: 0.9664\n",
            "Epoch 25/50\n",
            "149/149 [==============================] - 0s 2ms/step - loss: 0.1691 - accuracy: 0.9664\n",
            "Epoch 26/50\n",
            "149/149 [==============================] - 0s 2ms/step - loss: 0.1608 - accuracy: 0.9799\n",
            "Epoch 27/50\n",
            "149/149 [==============================] - 0s 2ms/step - loss: 0.1584 - accuracy: 0.9732\n",
            "Epoch 28/50\n",
            "149/149 [==============================] - 0s 2ms/step - loss: 0.1605 - accuracy: 0.9664\n",
            "Epoch 29/50\n",
            "149/149 [==============================] - 0s 2ms/step - loss: 0.1439 - accuracy: 0.9799\n",
            "Epoch 30/50\n",
            "149/149 [==============================] - 0s 2ms/step - loss: 0.1475 - accuracy: 0.9664\n",
            "Epoch 31/50\n",
            "149/149 [==============================] - 0s 2ms/step - loss: 0.1388 - accuracy: 0.9732\n",
            "Epoch 32/50\n",
            "149/149 [==============================] - 0s 2ms/step - loss: 0.1358 - accuracy: 0.9664\n",
            "Epoch 33/50\n",
            "149/149 [==============================] - 0s 2ms/step - loss: 0.1366 - accuracy: 0.9799\n",
            "Epoch 34/50\n",
            "149/149 [==============================] - 0s 2ms/step - loss: 0.1295 - accuracy: 0.9732\n",
            "Epoch 35/50\n",
            "149/149 [==============================] - 0s 2ms/step - loss: 0.1231 - accuracy: 0.9732\n",
            "Epoch 36/50\n",
            "149/149 [==============================] - 0s 2ms/step - loss: 0.1213 - accuracy: 0.9732\n",
            "Epoch 37/50\n",
            "149/149 [==============================] - 0s 2ms/step - loss: 0.1209 - accuracy: 0.9664\n",
            "Epoch 38/50\n",
            "149/149 [==============================] - 0s 2ms/step - loss: 0.1287 - accuracy: 0.9530\n",
            "Epoch 39/50\n",
            "149/149 [==============================] - 0s 2ms/step - loss: 0.1008 - accuracy: 0.9933\n",
            "Epoch 40/50\n",
            "149/149 [==============================] - 0s 2ms/step - loss: 0.1180 - accuracy: 0.9664\n",
            "Epoch 41/50\n",
            "149/149 [==============================] - 0s 2ms/step - loss: 0.1038 - accuracy: 0.9732\n",
            "Epoch 42/50\n",
            "149/149 [==============================] - 0s 2ms/step - loss: 0.1144 - accuracy: 0.9664\n",
            "Epoch 43/50\n",
            "149/149 [==============================] - 0s 2ms/step - loss: 0.1097 - accuracy: 0.9732\n",
            "Epoch 44/50\n",
            "149/149 [==============================] - 0s 2ms/step - loss: 0.1019 - accuracy: 0.9597\n",
            "Epoch 45/50\n",
            "149/149 [==============================] - 0s 2ms/step - loss: 0.1035 - accuracy: 0.9732\n",
            "Epoch 46/50\n",
            "149/149 [==============================] - 0s 2ms/step - loss: 0.0936 - accuracy: 0.9732\n",
            "Epoch 47/50\n",
            "149/149 [==============================] - 0s 2ms/step - loss: 0.1142 - accuracy: 0.9530\n",
            "Epoch 48/50\n",
            "149/149 [==============================] - 0s 2ms/step - loss: 0.0969 - accuracy: 0.9799\n",
            "Epoch 49/50\n",
            "149/149 [==============================] - 0s 2ms/step - loss: 0.1014 - accuracy: 0.9732\n",
            "Epoch 50/50\n",
            "149/149 [==============================] - 0s 2ms/step - loss: 0.1018 - accuracy: 0.9732\n",
            "5/5 [==============================] - 0s 3ms/step - loss: 0.0891 - accuracy: 0.9799\n",
            "\n",
            " Accuracy: 0.9799\n"
          ]
        }
      ]
    }
  ]
}