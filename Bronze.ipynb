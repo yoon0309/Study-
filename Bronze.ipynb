{
  "nbformat": 4,
  "nbformat_minor": 0,
  "metadata": {
    "colab": {
      "name": "Bronze",
      "provenance": [],
      "authorship_tag": "ABX9TyNsuRtu/zEymWGAJxMB4NiZ",
      "include_colab_link": true
    },
    "kernelspec": {
      "name": "python3",
      "display_name": "Python 3"
    },
    "language_info": {
      "name": "python"
    }
  },
  "cells": [
    {
      "cell_type": "markdown",
      "metadata": {
        "id": "view-in-github",
        "colab_type": "text"
      },
      "source": [
        "<a href=\"https://colab.research.google.com/github/yoon0309/Algorithm_study/blob/main/Bronze.ipynb\" target=\"_parent\"><img src=\"https://colab.research.google.com/assets/colab-badge.svg\" alt=\"Open In Colab\"/></a>"
      ]
    },
    {
      "cell_type": "code",
      "execution_count": null,
      "metadata": {
        "id": "p5hixYYwZORV"
      },
      "outputs": [],
      "source": [
        "#2257\n",
        "#Hello World!를 출력하시오.\n",
        "\n",
        "print('Hello World!')\n",
        "print(\"Hello World!\")\n",
        "\n",
        "\n",
        "#10718\n",
        "#두 줄에 걸쳐 \"강한친구 대한육군\"을 한 줄에 한 번씩 출력한다.\n",
        "print('강한친구 대한육군')\n",
        "print('강한친구 대한육군')\n",
        "\n",
        "#1000 \n",
        "#두 정수 A와 B를 입력받은 다음, A+B를 출력하는 프로그램을 작성하시오.\n",
        "#첫째 줄에 A와 B가 주어진다. (0 < A, B < 10)\n",
        "#첫째 줄에 A+B를 출력한다.\n",
        "A,B=map(int,input().split())\n",
        "print(A+B)\n",
        "\n",
        "\n",
        "#1001\n",
        "#두 정수 A와 B를 입력받은 다음, A+B를 출력하는 프로그램을 작성하시오.\n",
        "#첫째 줄에 A와 B가 주어진다. (0 < A, B < 10)\n",
        "#첫째 줄에 A-B를 출력한다.\n",
        "\n",
        "A,B= map(int,input().split())\n",
        "print(A-B)"
      ]
    }
  ]
}